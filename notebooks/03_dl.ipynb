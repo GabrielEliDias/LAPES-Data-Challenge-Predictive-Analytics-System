{
 "cells": [
  {
   "cell_type": "code",
   "execution_count": null,
   "id": "024e1912",
   "metadata": {},
   "outputs": [],
   "source": [
    "import pandas as pd\n",
    "import numpy as np\n",
    "\n",
    "from sklearn.model_selection import train_test_split\n",
    "from sklearn.preprocessing import StandardScaler\n",
    "from sklearn.utils import class_weight\n",
    "from sklearn.metrics import classification_report, confusion_matrix, roc_auc_score\n",
    "\n",
    "import tensorflow as tf\n",
    "from tensorflow import keras\n",
    "from tensorflow.keras import layers\n",
    "from pathlib import Path\n"
   ]
  },
  {
   "cell_type": "code",
   "execution_count": null,
   "id": "88734734",
   "metadata": {},
   "outputs": [],
   "source": [
    "# Separar features e labels\n",
    "X = pd.read_parquet(Path)\n",
    "y = df[\"Class\"]\n",
    "\n",
    "# Escalar 'Amount' e 'Time'\n",
    "scaler = StandardScaler()\n",
    "X[['Amount', 'Time']] = scaler.fit_transform(X[['Amount', 'Time']])\n",
    "\n",
    "# Dividir em treino/teste (80%/20%)\n",
    "X_train, X_test, y_train, y_test = train_test_split(\n",
    "    X, y, test_size=0.2, random_state=42, stratify=y\n",
    ")"
   ]
  },
  {
   "cell_type": "code",
   "execution_count": null,
   "id": "eb56c4fc",
   "metadata": {},
   "outputs": [],
   "source": [
    "\n",
    "\n",
    "# Calcular pesos das classes\n",
    "class_weights = class_weight.compute_class_weight(\n",
    "    class_weight=\"balanced\",\n",
    "    classes=np.unique(y_train),\n",
    "    y=y_train\n",
    ")\n",
    "\n",
    "weights = {0: class_weights[0], 1: class_weights[1]}\n",
    "print(weights)  # ex: {0: 0.5, 1: 10.8}"
   ]
  },
  {
   "cell_type": "code",
   "execution_count": null,
   "id": "d560df6e",
   "metadata": {},
   "outputs": [],
   "source": [
    "\n",
    "\n",
    "# Criar o modelo\n",
    "model = keras.Sequential([\n",
    "    layers.Dense(32, activation=\"relu\", input_shape=(X_train.shape[1],)),\n",
    "    layers.Dropout(0.3),\n",
    "    layers.Dense(16, activation=\"relu\"),\n",
    "    layers.Dropout(0.2),\n",
    "    layers.Dense(1, activation=\"sigmoid\")\n",
    "])\n",
    "\n",
    "# Compilar o modelo\n",
    "model.compile(\n",
    "    optimizer=keras.optimizers.Adam(learning_rate=1e-3),\n",
    "    loss=\"binary_crossentropy\",\n",
    "    metrics=[\"accuracy\", keras.metrics.Precision(), keras.metrics.Recall(), keras.metrics.AUC()]\n",
    ")\n"
   ]
  },
  {
   "cell_type": "code",
   "execution_count": null,
   "id": "6837d0b3",
   "metadata": {},
   "outputs": [],
   "source": [
    "callback = keras.callbacks.EarlyStopping(\n",
    "    monitor='val_loss', patience=5, restore_best_weights=True\n",
    ")\n",
    "\n",
    "history = model.fit(\n",
    "    X_train, y_train,\n",
    "    validation_split=0.2,\n",
    "    epochs=50,\n",
    "    batch_size=2048,\n",
    "    class_weight=weights,  # lidar com desbalanceamento\n",
    "    callbacks=[callback],\n",
    "    verbose=2\n",
    ")"
   ]
  },
  {
   "cell_type": "code",
   "execution_count": null,
   "id": "7e8a270d",
   "metadata": {},
   "outputs": [],
   "source": [
    "# Avaliar no conjunto de teste\n",
    "y_pred_prob = model.predict(X_test).ravel()\n",
    "y_pred = 1 if y_pred_prob > 0.5 else 0\n",
    "\n",
    "print(confusion_matrix(y_test, y_pred))\n",
    "print(classification_report(y_test, y_pred))\n",
    "print(\"ROC AUC Score:\", roc_auc_score(y_test, y_pred_prob))"
   ]
  }
 ],
 "metadata": {
  "kernelspec": {
   "display_name": ".venv",
   "language": "python",
   "name": "python3"
  },
  "language_info": {
   "codemirror_mode": {
    "name": "ipython",
    "version": 3
   },
   "file_extension": ".py",
   "mimetype": "text/x-python",
   "name": "python",
   "nbconvert_exporter": "python",
   "pygments_lexer": "ipython3",
   "version": "3.12.1"
  }
 },
 "nbformat": 4,
 "nbformat_minor": 5
}
