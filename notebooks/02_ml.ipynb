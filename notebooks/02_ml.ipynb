{
  "cells": [
    {
      "cell_type": "code",
      "execution_count": 79,
      "metadata": {},
      "outputs": [],
      "source": [
        "import pandas as pd\n",
        "import numpy as np\n",
        "\n",
        "from sklearn.preprocessing import MinMaxScaler, RobustScaler\n",
        "from sklearn.linear_model import LogisticRegression\n",
        "from sklearn.model_selection import (\n",
        "    RandomizedSearchCV,\n",
        "    StratifiedKFold,\n",
        "    train_test_split,\n",
        "    cross_val_score,\n",
        "    cross_validate,\n",
        ")\n",
        "from sklearn.ensemble import RandomForestClassifier\n",
        "from sklearn.metrics import (\n",
        "    RocCurveDisplay,\n",
        "    confusion_matrix,\n",
        "    check_scoring\n",
        ")\n",
        "\n",
        "from functools import reduce\n",
        "from pathlib import Path\n",
        "import matplotlib.pyplot as plt\n",
        "import seaborn as sns\n",
        "import xgboost as xgb\n",
        "import joblib"
      ]
    },
    {
      "cell_type": "code",
      "execution_count": 7,
      "metadata": {
        "colab": {
          "base_uri": "https://localhost:8080/",
          "height": 211
        },
        "id": "b8d-irTcRREw",
        "outputId": "c74cb958-7510-4351-bd59-7312dcab92c5"
      },
      "outputs": [
        {
          "name": "stdout",
          "output_type": "stream",
          "text": [
            "the shape of this df should be exactly: (283726, 31)\n",
            "shape:  (283726, 31)\n"
          ]
        },
        {
          "data": {
            "application/vnd.microsoft.datawrangler.viewer.v0+json": {
              "columns": [
                {
                  "name": "index",
                  "rawType": "int64",
                  "type": "integer"
                },
                {
                  "name": "time",
                  "rawType": "float64",
                  "type": "float"
                },
                {
                  "name": "v1",
                  "rawType": "float64",
                  "type": "float"
                },
                {
                  "name": "v2",
                  "rawType": "float64",
                  "type": "float"
                },
                {
                  "name": "v3",
                  "rawType": "float64",
                  "type": "float"
                },
                {
                  "name": "v4",
                  "rawType": "float64",
                  "type": "float"
                },
                {
                  "name": "v5",
                  "rawType": "float64",
                  "type": "float"
                },
                {
                  "name": "v6",
                  "rawType": "float64",
                  "type": "float"
                },
                {
                  "name": "v7",
                  "rawType": "float64",
                  "type": "float"
                },
                {
                  "name": "v8",
                  "rawType": "float64",
                  "type": "float"
                },
                {
                  "name": "v9",
                  "rawType": "float64",
                  "type": "float"
                },
                {
                  "name": "v10",
                  "rawType": "float64",
                  "type": "float"
                },
                {
                  "name": "v11",
                  "rawType": "float64",
                  "type": "float"
                },
                {
                  "name": "v12",
                  "rawType": "float64",
                  "type": "float"
                },
                {
                  "name": "v13",
                  "rawType": "float64",
                  "type": "float"
                },
                {
                  "name": "v14",
                  "rawType": "float64",
                  "type": "float"
                },
                {
                  "name": "v15",
                  "rawType": "float64",
                  "type": "float"
                },
                {
                  "name": "v16",
                  "rawType": "float64",
                  "type": "float"
                },
                {
                  "name": "v17",
                  "rawType": "float64",
                  "type": "float"
                },
                {
                  "name": "v18",
                  "rawType": "float64",
                  "type": "float"
                },
                {
                  "name": "v19",
                  "rawType": "float64",
                  "type": "float"
                },
                {
                  "name": "v20",
                  "rawType": "float64",
                  "type": "float"
                },
                {
                  "name": "v21",
                  "rawType": "float64",
                  "type": "float"
                },
                {
                  "name": "v22",
                  "rawType": "float64",
                  "type": "float"
                },
                {
                  "name": "v23",
                  "rawType": "float64",
                  "type": "float"
                },
                {
                  "name": "v24",
                  "rawType": "float64",
                  "type": "float"
                },
                {
                  "name": "v25",
                  "rawType": "float64",
                  "type": "float"
                },
                {
                  "name": "v26",
                  "rawType": "float64",
                  "type": "float"
                },
                {
                  "name": "v27",
                  "rawType": "float64",
                  "type": "float"
                },
                {
                  "name": "v28",
                  "rawType": "float64",
                  "type": "float"
                },
                {
                  "name": "amount",
                  "rawType": "float64",
                  "type": "float"
                },
                {
                  "name": "class",
                  "rawType": "int64",
                  "type": "integer"
                }
              ],
              "ref": "63d2541f-f9f1-44cd-bc29-cad2c91c4ffa",
              "rows": [
                [
                  "0",
                  "0.0",
                  "-1.3598071336738",
                  "-0.0727811733098497",
                  "2.53634673796914",
                  "1.37815522427443",
                  "-0.338320769942518",
                  "0.462387777762292",
                  "0.239598554061257",
                  "0.0986979012610507",
                  "0.363786969611213",
                  "0.0907941719789316",
                  "-0.551599533260813",
                  "-0.617800855762348",
                  "-0.991389847235408",
                  "-0.311169353699879",
                  "1.46817697209427",
                  "-0.470400525259478",
                  "0.207971241929242",
                  "0.0257905801985591",
                  "0.403992960255733",
                  "0.251412098239705",
                  "-0.018306777944153",
                  "0.277837575558899",
                  "-0.110473910188767",
                  "0.0669280749146731",
                  "0.128539358273528",
                  "-0.189114843888824",
                  "0.133558376740387",
                  "-0.0210530534538215",
                  "149.62",
                  "0"
                ],
                [
                  "1",
                  "0.0",
                  "1.19185711131486",
                  "0.26615071205963",
                  "0.16648011335321",
                  "0.448154078460911",
                  "0.0600176492822243",
                  "-0.0823608088155687",
                  "-0.0788029833323113",
                  "0.0851016549148104",
                  "-0.255425128109186",
                  "-0.166974414004614",
                  "1.61272666105479",
                  "1.06523531137287",
                  "0.48909501589608",
                  "-0.143772296441519",
                  "0.635558093258208",
                  "0.463917041022171",
                  "-0.114804663102346",
                  "-0.183361270123994",
                  "-0.145783041325259",
                  "-0.0690831352230203",
                  "-0.225775248033138",
                  "-0.638671952771851",
                  "0.101288021253234",
                  "-0.339846475529127",
                  "0.167170404418143",
                  "0.125894532368176",
                  "-0.0089830991432281",
                  "0.0147241691924927",
                  "2.69",
                  "0"
                ],
                [
                  "2",
                  "1.0",
                  "-1.35835406159823",
                  "-1.34016307473609",
                  "1.77320934263119",
                  "0.379779593034328",
                  "-0.503198133318193",
                  "1.80049938079263",
                  "0.791460956450422",
                  "0.247675786588991",
                  "-1.51465432260583",
                  "0.207642865216696",
                  "0.624501459424895",
                  "0.066083685268831",
                  "0.717292731410831",
                  "-0.165945922763554",
                  "2.34586494901581",
                  "-2.89008319444231",
                  "1.10996937869599",
                  "-0.121359313195888",
                  "-2.26185709530414",
                  "0.524979725224404",
                  "0.247998153469754",
                  "0.771679401917229",
                  "0.909412262347719",
                  "-0.689280956490685",
                  "-0.327641833735251",
                  "-0.139096571514147",
                  "-0.0553527940384261",
                  "-0.0597518405929204",
                  "378.66",
                  "0"
                ]
              ],
              "shape": {
                "columns": 31,
                "rows": 3
              }
            },
            "text/html": [
              "<div>\n",
              "<style scoped>\n",
              "    .dataframe tbody tr th:only-of-type {\n",
              "        vertical-align: middle;\n",
              "    }\n",
              "\n",
              "    .dataframe tbody tr th {\n",
              "        vertical-align: top;\n",
              "    }\n",
              "\n",
              "    .dataframe thead th {\n",
              "        text-align: right;\n",
              "    }\n",
              "</style>\n",
              "<table border=\"1\" class=\"dataframe\">\n",
              "  <thead>\n",
              "    <tr style=\"text-align: right;\">\n",
              "      <th></th>\n",
              "      <th>time</th>\n",
              "      <th>v1</th>\n",
              "      <th>v2</th>\n",
              "      <th>v3</th>\n",
              "      <th>v4</th>\n",
              "      <th>v5</th>\n",
              "      <th>v6</th>\n",
              "      <th>v7</th>\n",
              "      <th>v8</th>\n",
              "      <th>v9</th>\n",
              "      <th>...</th>\n",
              "      <th>v21</th>\n",
              "      <th>v22</th>\n",
              "      <th>v23</th>\n",
              "      <th>v24</th>\n",
              "      <th>v25</th>\n",
              "      <th>v26</th>\n",
              "      <th>v27</th>\n",
              "      <th>v28</th>\n",
              "      <th>amount</th>\n",
              "      <th>class</th>\n",
              "    </tr>\n",
              "  </thead>\n",
              "  <tbody>\n",
              "    <tr>\n",
              "      <th>0</th>\n",
              "      <td>0.0</td>\n",
              "      <td>-1.359807</td>\n",
              "      <td>-0.072781</td>\n",
              "      <td>2.536347</td>\n",
              "      <td>1.378155</td>\n",
              "      <td>-0.338321</td>\n",
              "      <td>0.462388</td>\n",
              "      <td>0.239599</td>\n",
              "      <td>0.098698</td>\n",
              "      <td>0.363787</td>\n",
              "      <td>...</td>\n",
              "      <td>-0.018307</td>\n",
              "      <td>0.277838</td>\n",
              "      <td>-0.110474</td>\n",
              "      <td>0.066928</td>\n",
              "      <td>0.128539</td>\n",
              "      <td>-0.189115</td>\n",
              "      <td>0.133558</td>\n",
              "      <td>-0.021053</td>\n",
              "      <td>149.62</td>\n",
              "      <td>0</td>\n",
              "    </tr>\n",
              "    <tr>\n",
              "      <th>1</th>\n",
              "      <td>0.0</td>\n",
              "      <td>1.191857</td>\n",
              "      <td>0.266151</td>\n",
              "      <td>0.166480</td>\n",
              "      <td>0.448154</td>\n",
              "      <td>0.060018</td>\n",
              "      <td>-0.082361</td>\n",
              "      <td>-0.078803</td>\n",
              "      <td>0.085102</td>\n",
              "      <td>-0.255425</td>\n",
              "      <td>...</td>\n",
              "      <td>-0.225775</td>\n",
              "      <td>-0.638672</td>\n",
              "      <td>0.101288</td>\n",
              "      <td>-0.339846</td>\n",
              "      <td>0.167170</td>\n",
              "      <td>0.125895</td>\n",
              "      <td>-0.008983</td>\n",
              "      <td>0.014724</td>\n",
              "      <td>2.69</td>\n",
              "      <td>0</td>\n",
              "    </tr>\n",
              "    <tr>\n",
              "      <th>2</th>\n",
              "      <td>1.0</td>\n",
              "      <td>-1.358354</td>\n",
              "      <td>-1.340163</td>\n",
              "      <td>1.773209</td>\n",
              "      <td>0.379780</td>\n",
              "      <td>-0.503198</td>\n",
              "      <td>1.800499</td>\n",
              "      <td>0.791461</td>\n",
              "      <td>0.247676</td>\n",
              "      <td>-1.514654</td>\n",
              "      <td>...</td>\n",
              "      <td>0.247998</td>\n",
              "      <td>0.771679</td>\n",
              "      <td>0.909412</td>\n",
              "      <td>-0.689281</td>\n",
              "      <td>-0.327642</td>\n",
              "      <td>-0.139097</td>\n",
              "      <td>-0.055353</td>\n",
              "      <td>-0.059752</td>\n",
              "      <td>378.66</td>\n",
              "      <td>0</td>\n",
              "    </tr>\n",
              "  </tbody>\n",
              "</table>\n",
              "<p>3 rows × 31 columns</p>\n",
              "</div>"
            ],
            "text/plain": [
              "   time        v1        v2        v3        v4        v5        v6        v7  \\\n",
              "0   0.0 -1.359807 -0.072781  2.536347  1.378155 -0.338321  0.462388  0.239599   \n",
              "1   0.0  1.191857  0.266151  0.166480  0.448154  0.060018 -0.082361 -0.078803   \n",
              "2   1.0 -1.358354 -1.340163  1.773209  0.379780 -0.503198  1.800499  0.791461   \n",
              "\n",
              "         v8        v9  ...       v21       v22       v23       v24       v25  \\\n",
              "0  0.098698  0.363787  ... -0.018307  0.277838 -0.110474  0.066928  0.128539   \n",
              "1  0.085102 -0.255425  ... -0.225775 -0.638672  0.101288 -0.339846  0.167170   \n",
              "2  0.247676 -1.514654  ...  0.247998  0.771679  0.909412 -0.689281 -0.327642   \n",
              "\n",
              "        v26       v27       v28  amount  class  \n",
              "0 -0.189115  0.133558 -0.021053  149.62      0  \n",
              "1  0.125895 -0.008983  0.014724    2.69      0  \n",
              "2 -0.139097 -0.055353 -0.059752  378.66      0  \n",
              "\n",
              "[3 rows x 31 columns]"
            ]
          },
          "execution_count": 7,
          "metadata": {},
          "output_type": "execute_result"
        }
      ],
      "source": [
        "# initial dataframe from the cleaned data in silver layer\n",
        "\n",
        "\n",
        "silver_path = Path.cwd().parent / 'data' / 'silver' / 'creditcard_fraud_cleaned.parquet'\n",
        "\n",
        "df = pd.read_parquet(silver_path)\n",
        "print('the shape of this df should be exactly: (283726, 31)\\nshape: ', df.shape)\n",
        "df.head(3)"
      ]
    },
    {
      "cell_type": "code",
      "execution_count": 8,
      "metadata": {
        "colab": {
          "base_uri": "https://localhost:8080/",
          "height": 178
        },
        "id": "ade7F6RzRRE3",
        "outputId": "7b0203ef-79b5-434c-d726-3fd90563504e"
      },
      "outputs": [
        {
          "data": {
            "application/vnd.microsoft.datawrangler.viewer.v0+json": {
              "columns": [
                {
                  "name": "class",
                  "rawType": "int64",
                  "type": "integer"
                },
                {
                  "name": "count",
                  "rawType": "float64",
                  "type": "float"
                }
              ],
              "ref": "617229cd-2a5d-4485-8919-e959243dd9a2",
              "rows": [
                [
                  "0",
                  "99.83328986416473"
                ],
                [
                  "1",
                  "0.1667101358352777"
                ]
              ],
              "shape": {
                "columns": 1,
                "rows": 2
              }
            },
            "text/plain": [
              "class\n",
              "0    99.83329\n",
              "1     0.16671\n",
              "Name: count, dtype: float64"
            ]
          },
          "execution_count": 8,
          "metadata": {},
          "output_type": "execute_result"
        }
      ],
      "source": [
        "# splitting dataset in X(independent features) and y (target class)\n",
        "\n",
        "X = df.drop(columns='class')\n",
        "y = df['class']\n",
        "(y.value_counts()/y.shape[0])*100"
      ]
    },
    {
      "cell_type": "code",
      "execution_count": 9,
      "metadata": {
        "colab": {
          "base_uri": "https://localhost:8080/",
          "height": 300
        },
        "id": "Z_W3dItjRRE5",
        "outputId": "041f3d7a-b697-4a3d-e550-d3254887fba0"
      },
      "outputs": [
        {
          "data": {
            "application/vnd.microsoft.datawrangler.viewer.v0+json": {
              "columns": [
                {
                  "name": "index",
                  "rawType": "object",
                  "type": "string"
                },
                {
                  "name": "amount_scaled",
                  "rawType": "float64",
                  "type": "float"
                },
                {
                  "name": "time_scaled",
                  "rawType": "float64",
                  "type": "float"
                }
              ],
              "ref": "83d39b06-5339-4c34-ae2d-0445d2527ef3",
              "rows": [
                [
                  "count",
                  "283726.0",
                  "283726.0"
                ],
                [
                  "mean",
                  "0.9243872522736366",
                  "0.548700620396286"
                ],
                [
                  "std",
                  "3.482122613207806",
                  "0.2747873043348043"
                ],
                [
                  "min",
                  "-0.30593797802809064",
                  "0.0"
                ],
                [
                  "25%",
                  "-0.228062856348213",
                  "0.31369941895458126"
                ],
                [
                  "50%",
                  "0.0",
                  "0.49014132598731425"
                ],
                [
                  "75%",
                  "0.7719371436517869",
                  "0.8061600074077504"
                ],
                [
                  "max",
                  "356.9623140036156",
                  "1.0"
                ]
              ],
              "shape": {
                "columns": 2,
                "rows": 8
              }
            },
            "text/html": [
              "<div>\n",
              "<style scoped>\n",
              "    .dataframe tbody tr th:only-of-type {\n",
              "        vertical-align: middle;\n",
              "    }\n",
              "\n",
              "    .dataframe tbody tr th {\n",
              "        vertical-align: top;\n",
              "    }\n",
              "\n",
              "    .dataframe thead th {\n",
              "        text-align: right;\n",
              "    }\n",
              "</style>\n",
              "<table border=\"1\" class=\"dataframe\">\n",
              "  <thead>\n",
              "    <tr style=\"text-align: right;\">\n",
              "      <th></th>\n",
              "      <th>amount_scaled</th>\n",
              "      <th>time_scaled</th>\n",
              "    </tr>\n",
              "  </thead>\n",
              "  <tbody>\n",
              "    <tr>\n",
              "      <th>count</th>\n",
              "      <td>283726.000000</td>\n",
              "      <td>283726.000000</td>\n",
              "    </tr>\n",
              "    <tr>\n",
              "      <th>mean</th>\n",
              "      <td>0.924387</td>\n",
              "      <td>0.548701</td>\n",
              "    </tr>\n",
              "    <tr>\n",
              "      <th>std</th>\n",
              "      <td>3.482123</td>\n",
              "      <td>0.274787</td>\n",
              "    </tr>\n",
              "    <tr>\n",
              "      <th>min</th>\n",
              "      <td>-0.305938</td>\n",
              "      <td>0.000000</td>\n",
              "    </tr>\n",
              "    <tr>\n",
              "      <th>25%</th>\n",
              "      <td>-0.228063</td>\n",
              "      <td>0.313699</td>\n",
              "    </tr>\n",
              "    <tr>\n",
              "      <th>50%</th>\n",
              "      <td>0.000000</td>\n",
              "      <td>0.490141</td>\n",
              "    </tr>\n",
              "    <tr>\n",
              "      <th>75%</th>\n",
              "      <td>0.771937</td>\n",
              "      <td>0.806160</td>\n",
              "    </tr>\n",
              "    <tr>\n",
              "      <th>max</th>\n",
              "      <td>356.962314</td>\n",
              "      <td>1.000000</td>\n",
              "    </tr>\n",
              "  </tbody>\n",
              "</table>\n",
              "</div>"
            ],
            "text/plain": [
              "       amount_scaled    time_scaled\n",
              "count  283726.000000  283726.000000\n",
              "mean        0.924387       0.548701\n",
              "std         3.482123       0.274787\n",
              "min        -0.305938       0.000000\n",
              "25%        -0.228063       0.313699\n",
              "50%         0.000000       0.490141\n",
              "75%         0.771937       0.806160\n",
              "max       356.962314       1.000000"
            ]
          },
          "execution_count": 9,
          "metadata": {},
          "output_type": "execute_result"
        }
      ],
      "source": [
        "# all the dataset is already scaled with pca transform, except for time and amount\n",
        "# so before splitting and training the dataset,let's scale:\n",
        "# time using minMaxscaler, which is standard\n",
        "# amount using robustScaler, to better treat the significant rigth skewness and outliers\n",
        "\n",
        "\n",
        "time_scaler = MinMaxScaler()\n",
        "amount_scaler = RobustScaler()\n",
        "X['time_scaled'] = time_scaler.fit_transform(X[['time']])\n",
        "X['amount_scaled'] =amount_scaler.fit_transform(X[['amount']])\n",
        "X[['amount_scaled','time_scaled']].describe()"
      ]
    },
    {
      "cell_type": "code",
      "execution_count": null,
      "metadata": {},
      "outputs": [
        {
          "data": {
            "image/png": "[encoded data removed]",
            "text/plain": [
              "<Figure size 1200x500 with 2 Axes>"
            ]
          },
          "metadata": {},
          "output_type": "display_data"
        }
      ],
      "source": [
        "#showing that scalling these features does not lose any information\n",
        "fig, axes = plt.subplots(1, 2, figsize=(12, 5))\n",
        "\n",
        "# normal time plot\n",
        "sns.scatterplot(data = X, x='time', y='amount', ax=axes[0])\n",
        "axes[0].set_title('amount over time')\n",
        "\n",
        "# Right plot\n",
        "sns.scatterplot(data = X, x='time_scaled', y='amount_scaled', ax=axes[1])\n",
        "axes[1].set_title('Amount robust_scaled over time min_maxed_scaled')\n",
        "\n",
        "\n",
        "plt.tight_layout()\n",
        "plt.show()\n"
      ]
    },
    {
      "cell_type": "code",
      "execution_count": null,
      "metadata": {
        "id": "kG2JVKOTRRE9"
      },
      "outputs": [],
      "source": [
        "# splitting the data in training and testing, using stratify to keep the proportions and not bias the data\n",
        "\n",
        "X_train, X_test, y_train, y_test = train_test_split(X,y, test_size=0.2, stratify=y, random_state=11037)"
      ]
    },
    {
      "cell_type": "code",
      "execution_count": 22,
      "metadata": {
        "colab": {
          "base_uri": "https://localhost:8080/",
          "height": 193
        },
        "id": "9qFWQJTrRRFF",
        "outputId": "db0657b4-6800-4985-e110-6a3e1119065b"
      },
      "outputs": [
        {
          "data": {
            "application/vnd.microsoft.datawrangler.viewer.v0+json": {
              "columns": [
                {
                  "name": "index",
                  "rawType": "int64",
                  "type": "integer"
                },
                {
                  "name": "v1",
                  "rawType": "float64",
                  "type": "float"
                },
                {
                  "name": "v2",
                  "rawType": "float64",
                  "type": "float"
                },
                {
                  "name": "v3",
                  "rawType": "float64",
                  "type": "float"
                },
                {
                  "name": "v4",
                  "rawType": "float64",
                  "type": "float"
                },
                {
                  "name": "v5",
                  "rawType": "float64",
                  "type": "float"
                },
                {
                  "name": "v6",
                  "rawType": "float64",
                  "type": "float"
                },
                {
                  "name": "v7",
                  "rawType": "float64",
                  "type": "float"
                },
                {
                  "name": "v8",
                  "rawType": "float64",
                  "type": "float"
                },
                {
                  "name": "v9",
                  "rawType": "float64",
                  "type": "float"
                },
                {
                  "name": "v10",
                  "rawType": "float64",
                  "type": "float"
                },
                {
                  "name": "v11",
                  "rawType": "float64",
                  "type": "float"
                },
                {
                  "name": "v12",
                  "rawType": "float64",
                  "type": "float"
                },
                {
                  "name": "v13",
                  "rawType": "float64",
                  "type": "float"
                },
                {
                  "name": "v14",
                  "rawType": "float64",
                  "type": "float"
                },
                {
                  "name": "v15",
                  "rawType": "float64",
                  "type": "float"
                },
                {
                  "name": "v16",
                  "rawType": "float64",
                  "type": "float"
                },
                {
                  "name": "v17",
                  "rawType": "float64",
                  "type": "float"
                },
                {
                  "name": "v18",
                  "rawType": "float64",
                  "type": "float"
                },
                {
                  "name": "v19",
                  "rawType": "float64",
                  "type": "float"
                },
                {
                  "name": "v20",
                  "rawType": "float64",
                  "type": "float"
                },
                {
                  "name": "v21",
                  "rawType": "float64",
                  "type": "float"
                },
                {
                  "name": "v22",
                  "rawType": "float64",
                  "type": "float"
                },
                {
                  "name": "v23",
                  "rawType": "float64",
                  "type": "float"
                },
                {
                  "name": "v24",
                  "rawType": "float64",
                  "type": "float"
                },
                {
                  "name": "v25",
                  "rawType": "float64",
                  "type": "float"
                },
                {
                  "name": "v26",
                  "rawType": "float64",
                  "type": "float"
                },
                {
                  "name": "v27",
                  "rawType": "float64",
                  "type": "float"
                },
                {
                  "name": "v28",
                  "rawType": "float64",
                  "type": "float"
                },
                {
                  "name": "time_scaled",
                  "rawType": "float64",
                  "type": "float"
                },
                {
                  "name": "amount_scaled",
                  "rawType": "float64",
                  "type": "float"
                }
              ],
              "ref": "7504659a-a810-4b17-921e-bbe33385e06c",
              "rows": [
                [
                  "95756",
                  "-0.824643099636628",
                  "-0.380658504117546",
                  "1.40660812980173",
                  "-1.97311544333397",
                  "-1.67024899514429",
                  "-0.374517845784995",
                  "-0.855798556217093",
                  "0.399256583907096",
                  "-2.14689571210994",
                  "0.800051183391763",
                  "-1.39507305783705",
                  "-1.67876960658562",
                  "-0.228603204349107",
                  "-0.171420965406702",
                  "0.735139414246873",
                  "0.106568436352892",
                  "0.427482710071471",
                  "0.641617112265996",
                  "0.0373050453905084",
                  "-0.405118784686118",
                  "-0.133007434310117",
                  "-0.261954598726166",
                  "-0.0497174294927296",
                  "-0.174729160574792",
                  "-0.33042543631427",
                  "-0.320547622035496",
                  "-0.0632221825295534",
                  "0.0047237837792576",
                  "0.37975137737858233",
                  "0.6716729244889443"
                ],
                [
                  "238490",
                  "2.03214477454512",
                  "-0.0526687093181735",
                  "-1.43841723929556",
                  "0.136429572504321",
                  "0.314566709832724",
                  "-0.551100385543702",
                  "0.0932810959674713",
                  "-0.147470777063406",
                  "0.298595627419869",
                  "0.164152537319957",
                  "1.08517584622262",
                  "1.05244184889598",
                  "0.142646148676967",
                  "0.646789018519543",
                  "0.113435709700063",
                  "-0.0658597173956606",
                  "-0.720785062897109",
                  "0.350812403350774",
                  "-0.0126924551681666",
                  "-0.202995924384022",
                  "0.299836670093738",
                  "0.972306047536249",
                  "0.032059794577254",
                  "0.744725583027729",
                  "0.243748310458398",
                  "-0.159219020040839",
                  "-0.0240799609567232",
                  "-0.0618663831013804",
                  "0.8685355803509422",
                  "-0.29356139618968147"
                ],
                [
                  "20111",
                  "1.30831610922314",
                  "-0.803327464821227",
                  "1.0740242492902",
                  "-0.679718650564611",
                  "-1.67128361951306",
                  "-0.557353987645927",
                  "-1.20066194835893",
                  "0.136785480205484",
                  "-0.485937712991051",
                  "0.81114003050584",
                  "1.35405330426881",
                  "-0.530323863303913",
                  "-1.03433561398341",
                  "0.0055827974683821",
                  "0.533384100855238",
                  "1.67325563039219",
                  "-0.0496224321303709",
                  "-0.274453539445637",
                  "0.442099802638938",
                  "0.0242218985731831",
                  "0.435025165088281",
                  "1.10552691527955",
                  "-0.0786974351893427",
                  "0.545394088080405",
                  "0.326508451383089",
                  "-0.0755356874386009",
                  "0.0252700813675914",
                  "0.0157802401830143",
                  "0.1784746979026807",
                  "-0.08357669308858294"
                ]
              ],
              "shape": {
                "columns": 30,
                "rows": 3
              }
            },
            "text/html": [
              "<div>\n",
              "<style scoped>\n",
              "    .dataframe tbody tr th:only-of-type {\n",
              "        vertical-align: middle;\n",
              "    }\n",
              "\n",
              "    .dataframe tbody tr th {\n",
              "        vertical-align: top;\n",
              "    }\n",
              "\n",
              "    .dataframe thead th {\n",
              "        text-align: right;\n",
              "    }\n",
              "</style>\n",
              "<table border=\"1\" class=\"dataframe\">\n",
              "  <thead>\n",
              "    <tr style=\"text-align: right;\">\n",
              "      <th></th>\n",
              "      <th>v1</th>\n",
              "      <th>v2</th>\n",
              "      <th>v3</th>\n",
              "      <th>v4</th>\n",
              "      <th>v5</th>\n",
              "      <th>v6</th>\n",
              "      <th>v7</th>\n",
              "      <th>v8</th>\n",
              "      <th>v9</th>\n",
              "      <th>v10</th>\n",
              "      <th>...</th>\n",
              "      <th>v21</th>\n",
              "      <th>v22</th>\n",
              "      <th>v23</th>\n",
              "      <th>v24</th>\n",
              "      <th>v25</th>\n",
              "      <th>v26</th>\n",
              "      <th>v27</th>\n",
              "      <th>v28</th>\n",
              "      <th>time_scaled</th>\n",
              "      <th>amount_scaled</th>\n",
              "    </tr>\n",
              "  </thead>\n",
              "  <tbody>\n",
              "    <tr>\n",
              "      <th>95756</th>\n",
              "      <td>-0.824643</td>\n",
              "      <td>-0.380659</td>\n",
              "      <td>1.406608</td>\n",
              "      <td>-1.973115</td>\n",
              "      <td>-1.670249</td>\n",
              "      <td>-0.374518</td>\n",
              "      <td>-0.855799</td>\n",
              "      <td>0.399257</td>\n",
              "      <td>-2.146896</td>\n",
              "      <td>0.800051</td>\n",
              "      <td>...</td>\n",
              "      <td>-0.133007</td>\n",
              "      <td>-0.261955</td>\n",
              "      <td>-0.049717</td>\n",
              "      <td>-0.174729</td>\n",
              "      <td>-0.330425</td>\n",
              "      <td>-0.320548</td>\n",
              "      <td>-0.063222</td>\n",
              "      <td>0.004724</td>\n",
              "      <td>0.379751</td>\n",
              "      <td>0.671673</td>\n",
              "    </tr>\n",
              "    <tr>\n",
              "      <th>238490</th>\n",
              "      <td>2.032145</td>\n",
              "      <td>-0.052669</td>\n",
              "      <td>-1.438417</td>\n",
              "      <td>0.136430</td>\n",
              "      <td>0.314567</td>\n",
              "      <td>-0.551100</td>\n",
              "      <td>0.093281</td>\n",
              "      <td>-0.147471</td>\n",
              "      <td>0.298596</td>\n",
              "      <td>0.164153</td>\n",
              "      <td>...</td>\n",
              "      <td>0.299837</td>\n",
              "      <td>0.972306</td>\n",
              "      <td>0.032060</td>\n",
              "      <td>0.744726</td>\n",
              "      <td>0.243748</td>\n",
              "      <td>-0.159219</td>\n",
              "      <td>-0.024080</td>\n",
              "      <td>-0.061866</td>\n",
              "      <td>0.868536</td>\n",
              "      <td>-0.293561</td>\n",
              "    </tr>\n",
              "    <tr>\n",
              "      <th>20111</th>\n",
              "      <td>1.308316</td>\n",
              "      <td>-0.803327</td>\n",
              "      <td>1.074024</td>\n",
              "      <td>-0.679719</td>\n",
              "      <td>-1.671284</td>\n",
              "      <td>-0.557354</td>\n",
              "      <td>-1.200662</td>\n",
              "      <td>0.136785</td>\n",
              "      <td>-0.485938</td>\n",
              "      <td>0.811140</td>\n",
              "      <td>...</td>\n",
              "      <td>0.435025</td>\n",
              "      <td>1.105527</td>\n",
              "      <td>-0.078697</td>\n",
              "      <td>0.545394</td>\n",
              "      <td>0.326508</td>\n",
              "      <td>-0.075536</td>\n",
              "      <td>0.025270</td>\n",
              "      <td>0.015780</td>\n",
              "      <td>0.178475</td>\n",
              "      <td>-0.083577</td>\n",
              "    </tr>\n",
              "  </tbody>\n",
              "</table>\n",
              "<p>3 rows × 30 columns</p>\n",
              "</div>"
            ],
            "text/plain": [
              "              v1        v2        v3        v4        v5        v6        v7  \\\n",
              "95756  -0.824643 -0.380659  1.406608 -1.973115 -1.670249 -0.374518 -0.855799   \n",
              "238490  2.032145 -0.052669 -1.438417  0.136430  0.314567 -0.551100  0.093281   \n",
              "20111   1.308316 -0.803327  1.074024 -0.679719 -1.671284 -0.557354 -1.200662   \n",
              "\n",
              "              v8        v9       v10  ...       v21       v22       v23  \\\n",
              "95756   0.399257 -2.146896  0.800051  ... -0.133007 -0.261955 -0.049717   \n",
              "238490 -0.147471  0.298596  0.164153  ...  0.299837  0.972306  0.032060   \n",
              "20111   0.136785 -0.485938  0.811140  ...  0.435025  1.105527 -0.078697   \n",
              "\n",
              "             v24       v25       v26       v27       v28  time_scaled  \\\n",
              "95756  -0.174729 -0.330425 -0.320548 -0.063222  0.004724     0.379751   \n",
              "238490  0.744726  0.243748 -0.159219 -0.024080 -0.061866     0.868536   \n",
              "20111   0.545394  0.326508 -0.075536  0.025270  0.015780     0.178475   \n",
              "\n",
              "        amount_scaled  \n",
              "95756        0.671673  \n",
              "238490      -0.293561  \n",
              "20111       -0.083577  \n",
              "\n",
              "[3 rows x 30 columns]"
            ]
          },
          "execution_count": 22,
          "metadata": {},
          "output_type": "execute_result"
        }
      ],
      "source": [
        "# preparing the training data (and keeping test data equivalent)\n",
        "X_train = X_train.drop(columns=['time','amount'])\n",
        "X_test = X_test.drop(columns=['time','amount'])\n",
        "X_train.head(3)"
      ]
    },
    {
      "cell_type": "code",
      "execution_count": 11,
      "metadata": {
        "colab": {
          "base_uri": "https://localhost:8080/"
        },
        "id": "SJrT0iQwRRE-",
        "outputId": "b1895bda-ec31-4191-cf1f-bb22cc9edcde"
      },
      "outputs": [
        {
          "name": "stdout",
          "output_type": "stream",
          "text": [
            "how many frauds and non frauds in the test split\n",
            " class\n",
            "0    226602\n",
            "1       378\n",
            "Name: count, dtype: int64\n",
            "\n",
            "class\n",
            "0    99.833466\n",
            "1     0.166534\n",
            "Name: count, dtype: float64\n"
          ]
        }
      ],
      "source": [
        "# lets check the data splitting (this could be a function in the ML pipeline) (still simillar proportion)\n",
        "print('how many frauds and non frauds in the test split\\n',y_train.value_counts())\n",
        "print()\n",
        "print((y_train.value_counts()/y_train.shape[0])*100)"
      ]
    },
    {
      "cell_type": "markdown",
      "metadata": {
        "id": "YyF-K7ysRRFG"
      },
      "source": [
        "## 🧠 Why Logistic Regression for the Baseline?\n",
        "Logistic Regression is a simple, interpretable model that gives us a **baseline** for detecting fraud.\n",
        "It's useful for benchmarking because:\n",
        "\n",
        "- It requires minimal hyperparameter tuning.\n",
        "- Its coefficients can indicate feature importance.\n",
        "- However, **Logistic Regression is sensitive to feature scaling**, so we preprocess `time` and `amount`.\n",
        "\n",
        "---\n",
        "\n",
        "## ⚠️ Class Imbalance in Fraud Detection\n",
        "The dataset is **highly imbalanced**:\n",
        "- Class 0 (Non-Fraud): 99.833%\n",
        "- Class 1 (Fraud): 0.167%\n",
        "\n",
        "This means **accuracy** is a **bad metric** (a model predicting \"no fraud\" every time would still be right 99.8% of the time). Instead, we use metrics that focus on the minority class.\n",
        "\n",
        "---\n",
        "\n",
        "## 📏 Key Metrics for Imbalanced Data\n",
        "| Metric            | Why It Matters                                                        |\n",
        "|--------------------|------------------------------------------------------------------------|\n",
        "| **Precision**      | Of all predicted fraud cases, how many were correct?                 |\n",
        "| **Recall (Sensitivity)** | Of all actual fraud cases, how many did we detect?                  |\n",
        "| **F1-score**       | Harmonic mean of Precision and Recall (balances false positives and negatives). |\n",
        "| **ROC AUC**        | Measures model's ability to separate classes across thresholds.      |\n",
        "| **PR AUC**         | Precision-Recall AUC focuses on the minority class (more informative for imbalanced data). |\n",
        "| **Balanced Accuracy** | Adjusts accuracy to account for class imbalance.                  |\n",
        "\n",
        "We’ll compute all of these using cross validate and stratified k-fold."
      ]
    },
    {
      "cell_type": "code",
      "execution_count": 207,
      "metadata": {
        "id": "IAY1QelJRRFC"
      },
      "outputs": [],
      "source": [
        "# as this is a binary classification problem (it has two classes, positive, fraud, and negative, non-fraud)\n",
        "# a logistic classifier is more apropriate\n",
        "\n",
        "log_clf = LogisticRegression(class_weight='balanced',random_state=11037, max_iter=400)"
      ]
    },
    {
      "cell_type": "code",
      "execution_count": 180,
      "metadata": {},
      "outputs": [],
      "source": [
        "# define scorers\n",
        "scoring = {\n",
        "    'accuracy': 'accuracy',\n",
        "    'precision': 'precision',  # threshold=0.5\n",
        "    'recall': 'recall',        # threshold=0.5\n",
        "    'f1': 'f1',                # threshold=0.5\n",
        "    'roc_auc': 'roc_auc',      # needs probabilities for it to be based on all threshold\n",
        "    'pr_auc': 'average_precision',  # needs probabilities\n",
        "    'balanced_accuracy': 'balanced_accuracy',\n",
        "}"
      ]
    },
    {
      "cell_type": "code",
      "execution_count": 181,
      "metadata": {},
      "outputs": [],
      "source": [
        "# define stratified CV to preserve fraud/non-fraud ratio in all folds\n",
        "cv = StratifiedKFold(n_splits=5, shuffle=True, random_state=11037)"
      ]
    },
    {
      "cell_type": "code",
      "execution_count": 184,
      "metadata": {
        "id": "21RrMlC7RRFL"
      },
      "outputs": [],
      "source": [
        "# perform cross-validation\n",
        "cv_results = cross_validate(\n",
        "    log_clf,\n",
        "    X_train, y_train,\n",
        "    scoring=scoring,\n",
        "    cv=cv,\n",
        "    return_train_score=False,\n",
        "\n",
        ")\n",
        "results_df = pd.DataFrame(cv_results).mean()"
      ]
    },
    {
      "cell_type": "code",
      "execution_count": 185,
      "metadata": {
        "colab": {
          "base_uri": "https://localhost:8080/",
          "height": 366
        },
        "id": "IydvrAkV72-U",
        "outputId": "072f232f-0480-4f6d-e2cc-d5c4f095f4f0"
      },
      "outputs": [
        {
          "data": {
            "application/vnd.microsoft.datawrangler.viewer.v0+json": {
              "columns": [
                {
                  "name": "index",
                  "rawType": "object",
                  "type": "string"
                },
                {
                  "name": "0",
                  "rawType": "float64",
                  "type": "float"
                }
              ],
              "ref": "1c1f81ee-7c10-4fd4-ab38-f59147a795d4",
              "rows": [
                [
                  "fit_time",
                  "1.2165066719055175"
                ],
                [
                  "score_time",
                  "0.049444723129272464"
                ],
                [
                  "test_accuracy",
                  "0.9756410256410255"
                ],
                [
                  "test_precision",
                  "0.05854883882126392"
                ],
                [
                  "test_recall",
                  "0.9022105263157894"
                ],
                [
                  "test_f1",
                  "0.10994187680287401"
                ],
                [
                  "test_roc_auc",
                  "0.9699931774933737"
                ],
                [
                  "test_pr_auc",
                  "0.7102376352305754"
                ],
                [
                  "test_balanced_accuracy",
                  "0.938987099215533"
                ]
              ],
              "shape": {
                "columns": 1,
                "rows": 9
              }
            },
            "text/plain": [
              "fit_time                  1.216507\n",
              "score_time                0.049445\n",
              "test_accuracy             0.975641\n",
              "test_precision            0.058549\n",
              "test_recall               0.902211\n",
              "test_f1                   0.109942\n",
              "test_roc_auc              0.969993\n",
              "test_pr_auc               0.710238\n",
              "test_balanced_accuracy    0.938987\n",
              "dtype: float64"
            ]
          },
          "execution_count": 185,
          "metadata": {},
          "output_type": "execute_result"
        }
      ],
      "source": [
        "results_df"
      ]
    },
    {
      "cell_type": "code",
      "execution_count": 186,
      "metadata": {
        "colab": {
          "base_uri": "https://localhost:8080/",
          "height": 350
        },
        "id": "aircQsCFRRFO",
        "outputId": "85018443-8a95-4744-f960-63ee601878d9"
      },
      "outputs": [
        {
          "data": {
            "image/png": "[encoded data removed]",
            "text/plain": [
              "<Figure size 1200x600 with 1 Axes>"
            ]
          },
          "metadata": {},
          "output_type": "display_data"
        }
      ],
      "source": [
        "plt.figure(figsize=(12,6))\n",
        "base_model_scores_barplot = sns.barplot(results_df.loc['test_accuracy':])\n",
        "\n",
        "\n",
        "for patch in base_model_scores_barplot.patches:\n",
        "    height = patch.get_height()\n",
        "    if height > 0:\n",
        "        base_model_scores_barplot.annotate(f'{height:.4f}',  # formatting\n",
        "            (patch.get_x() + patch.get_width() / 2, height), # setting each coordinate to be on the patch\n",
        "            ha='center', va='bottom', fontsize=8, rotation=0) # position related to the patch cordinate, right above and center\n",
        "\n",
        "\n",
        "plt.show()"
      ]
    },
    {
      "cell_type": "code",
      "execution_count": 208,
      "metadata": {},
      "outputs": [
        {
          "data": {
            "text/html": [
              "<style>#sk-container-id-3 {\n",
              "  /* Definition of color scheme common for light and dark mode */\n",
              "  --sklearn-color-text: #000;\n",
              "  --sklearn-color-text-muted: #666;\n",
              "  --sklearn-color-line: gray;\n",
              "  /* Definition of color scheme for unfitted estimators */\n",
              "  --sklearn-color-unfitted-level-0: #fff5e6;\n",
              "  --sklearn-color-unfitted-level-1: #f6e4d2;\n",
              "  --sklearn-color-unfitted-level-2: #ffe0b3;\n",
              "  --sklearn-color-unfitted-level-3: chocolate;\n",
              "  /* Definition of color scheme for fitted estimators */\n",
              "  --sklearn-color-fitted-level-0: #f0f8ff;\n",
              "  --sklearn-color-fitted-level-1: #d4ebff;\n",
              "  --sklearn-color-fitted-level-2: #b3dbfd;\n",
              "  --sklearn-color-fitted-level-3: cornflowerblue;\n",
              "\n",
              "  /* Specific color for light theme */\n",
              "  --sklearn-color-text-on-default-background: var(--sg-text-color, var(--theme-code-foreground, var(--jp-content-font-color1, black)));\n",
              "  --sklearn-color-background: var(--sg-background-color, var(--theme-background, var(--jp-layout-color0, white)));\n",
              "  --sklearn-color-border-box: var(--sg-text-color, var(--theme-code-foreground, var(--jp-content-font-color1, black)));\n",
              "  --sklearn-color-icon: #696969;\n",
              "\n",
              "  @media (prefers-color-scheme: dark) {\n",
              "    /* Redefinition of color scheme for dark theme */\n",
              "    --sklearn-color-text-on-default-background: var(--sg-text-color, var(--theme-code-foreground, var(--jp-content-font-color1, white)));\n",
              "    --sklearn-color-background: var(--sg-background-color, var(--theme-background, var(--jp-layout-color0, #111)));\n",
              "    --sklearn-color-border-box: var(--sg-text-color, var(--theme-code-foreground, var(--jp-content-font-color1, white)));\n",
              "    --sklearn-color-icon: #878787;\n",
              "  }\n",
              "}\n",
              "\n",
              "#sk-container-id-3 {\n",
              "  color: var(--sklearn-color-text);\n",
              "}\n",
              "\n",
              "#sk-container-id-3 pre {\n",
              "  padding: 0;\n",
              "}\n",
              "\n",
              "#sk-container-id-3 input.sk-hidden--visually {\n",
              "  border: 0;\n",
              "  clip: rect(1px 1px 1px 1px);\n",
              "  clip: rect(1px, 1px, 1px, 1px);\n",
              "  height: 1px;\n",
              "  margin: -1px;\n",
              "  overflow: hidden;\n",
              "  padding: 0;\n",
              "  position: absolute;\n",
              "  width: 1px;\n",
              "}\n",
              "\n",
              "#sk-container-id-3 div.sk-dashed-wrapped {\n",
              "  border: 1px dashed var(--sklearn-color-line);\n",
              "  margin: 0 0.4em 0.5em 0.4em;\n",
              "  box-sizing: border-box;\n",
              "  padding-bottom: 0.4em;\n",
              "  background-color: var(--sklearn-color-background);\n",
              "}\n",
              "\n",
              "#sk-container-id-3 div.sk-container {\n",
              "  /* jupyter's `normalize.less` sets `[hidden] { display: none; }`\n",
              "     but bootstrap.min.css set `[hidden] { display: none !important; }`\n",
              "     so we also need the `!important` here to be able to override the\n",
              "     default hidden behavior on the sphinx rendered scikit-learn.org.\n",
              "     See: https://github.com/scikit-learn/scikit-learn/issues/21755 */\n",
              "  display: inline-block !important;\n",
              "  position: relative;\n",
              "}\n",
              "\n",
              "#sk-container-id-3 div.sk-text-repr-fallback {\n",
              "  display: none;\n",
              "}\n",
              "\n",
              "div.sk-parallel-item,\n",
              "div.sk-serial,\n",
              "div.sk-item {\n",
              "  /* draw centered vertical line to link estimators */\n",
              "  background-image: linear-gradient(var(--sklearn-color-text-on-default-background), var(--sklearn-color-text-on-default-background));\n",
              "  background-size: 2px 100%;\n",
              "  background-repeat: no-repeat;\n",
              "  background-position: center center;\n",
              "}\n",
              "\n",
              "/* Parallel-specific style estimator block */\n",
              "\n",
              "#sk-container-id-3 div.sk-parallel-item::after {\n",
              "  content: \"\";\n",
              "  width: 100%;\n",
              "  border-bottom: 2px solid var(--sklearn-color-text-on-default-background);\n",
              "  flex-grow: 1;\n",
              "}\n",
              "\n",
              "#sk-container-id-3 div.sk-parallel {\n",
              "  display: flex;\n",
              "  align-items: stretch;\n",
              "  justify-content: center;\n",
              "  background-color: var(--sklearn-color-background);\n",
              "  position: relative;\n",
              "}\n",
              "\n",
              "#sk-container-id-3 div.sk-parallel-item {\n",
              "  display: flex;\n",
              "  flex-direction: column;\n",
              "}\n",
              "\n",
              "#sk-container-id-3 div.sk-parallel-item:first-child::after {\n",
              "  align-self: flex-end;\n",
              "  width: 50%;\n",
              "}\n",
              "\n",
              "#sk-container-id-3 div.sk-parallel-item:last-child::after {\n",
              "  align-self: flex-start;\n",
              "  width: 50%;\n",
              "}\n",
              "\n",
              "#sk-container-id-3 div.sk-parallel-item:only-child::after {\n",
              "  width: 0;\n",
              "}\n",
              "\n",
              "/* Serial-specific style estimator block */\n",
              "\n",
              "#sk-container-id-3 div.sk-serial {\n",
              "  display: flex;\n",
              "  flex-direction: column;\n",
              "  align-items: center;\n",
              "  background-color: var(--sklearn-color-background);\n",
              "  padding-right: 1em;\n",
              "  padding-left: 1em;\n",
              "}\n",
              "\n",
              "\n",
              "/* Toggleable style: style used for estimator/Pipeline/ColumnTransformer box that is\n",
              "clickable and can be expanded/collapsed.\n",
              "- Pipeline and ColumnTransformer use this feature and define the default style\n",
              "- Estimators will overwrite some part of the style using the `sk-estimator` class\n",
              "*/\n",
              "\n",
              "/* Pipeline and ColumnTransformer style (default) */\n",
              "\n",
              "#sk-container-id-3 div.sk-toggleable {\n",
              "  /* Default theme specific background. It is overwritten whether we have a\n",
              "  specific estimator or a Pipeline/ColumnTransformer */\n",
              "  background-color: var(--sklearn-color-background);\n",
              "}\n",
              "\n",
              "/* Toggleable label */\n",
              "#sk-container-id-3 label.sk-toggleable__label {\n",
              "  cursor: pointer;\n",
              "  display: flex;\n",
              "  width: 100%;\n",
              "  margin-bottom: 0;\n",
              "  padding: 0.5em;\n",
              "  box-sizing: border-box;\n",
              "  text-align: center;\n",
              "  align-items: start;\n",
              "  justify-content: space-between;\n",
              "  gap: 0.5em;\n",
              "}\n",
              "\n",
              "#sk-container-id-3 label.sk-toggleable__label .caption {\n",
              "  font-size: 0.6rem;\n",
              "  font-weight: lighter;\n",
              "  color: var(--sklearn-color-text-muted);\n",
              "}\n",
              "\n",
              "#sk-container-id-3 label.sk-toggleable__label-arrow:before {\n",
              "  /* Arrow on the left of the label */\n",
              "  content: \"▸\";\n",
              "  float: left;\n",
              "  margin-right: 0.25em;\n",
              "  color: var(--sklearn-color-icon);\n",
              "}\n",
              "\n",
              "#sk-container-id-3 label.sk-toggleable__label-arrow:hover:before {\n",
              "  color: var(--sklearn-color-text);\n",
              "}\n",
              "\n",
              "/* Toggleable content - dropdown */\n",
              "\n",
              "#sk-container-id-3 div.sk-toggleable__content {\n",
              "  display: none;\n",
              "  text-align: left;\n",
              "  /* unfitted */\n",
              "  background-color: var(--sklearn-color-unfitted-level-0);\n",
              "}\n",
              "\n",
              "#sk-container-id-3 div.sk-toggleable__content.fitted {\n",
              "  /* fitted */\n",
              "  background-color: var(--sklearn-color-fitted-level-0);\n",
              "}\n",
              "\n",
              "#sk-container-id-3 div.sk-toggleable__content pre {\n",
              "  margin: 0.2em;\n",
              "  border-radius: 0.25em;\n",
              "  color: var(--sklearn-color-text);\n",
              "  /* unfitted */\n",
              "  background-color: var(--sklearn-color-unfitted-level-0);\n",
              "}\n",
              "\n",
              "#sk-container-id-3 div.sk-toggleable__content.fitted pre {\n",
              "  /* unfitted */\n",
              "  background-color: var(--sklearn-color-fitted-level-0);\n",
              "}\n",
              "\n",
              "#sk-container-id-3 input.sk-toggleable__control:checked~div.sk-toggleable__content {\n",
              "  /* Expand drop-down */\n",
              "  display: block;\n",
              "  width: 100%;\n",
              "  overflow: visible;\n",
              "}\n",
              "\n",
              "#sk-container-id-3 input.sk-toggleable__control:checked~label.sk-toggleable__label-arrow:before {\n",
              "  content: \"▾\";\n",
              "}\n",
              "\n",
              "/* Pipeline/ColumnTransformer-specific style */\n",
              "\n",
              "#sk-container-id-3 div.sk-label input.sk-toggleable__control:checked~label.sk-toggleable__label {\n",
              "  color: var(--sklearn-color-text);\n",
              "  background-color: var(--sklearn-color-unfitted-level-2);\n",
              "}\n",
              "\n",
              "#sk-container-id-3 div.sk-label.fitted input.sk-toggleable__control:checked~label.sk-toggleable__label {\n",
              "  background-color: var(--sklearn-color-fitted-level-2);\n",
              "}\n",
              "\n",
              "/* Estimator-specific style */\n",
              "\n",
              "/* Colorize estimator box */\n",
              "#sk-container-id-3 div.sk-estimator input.sk-toggleable__control:checked~label.sk-toggleable__label {\n",
              "  /* unfitted */\n",
              "  background-color: var(--sklearn-color-unfitted-level-2);\n",
              "}\n",
              "\n",
              "#sk-container-id-3 div.sk-estimator.fitted input.sk-toggleable__control:checked~label.sk-toggleable__label {\n",
              "  /* fitted */\n",
              "  background-color: var(--sklearn-color-fitted-level-2);\n",
              "}\n",
              "\n",
              "#sk-container-id-3 div.sk-label label.sk-toggleable__label,\n",
              "#sk-container-id-3 div.sk-label label {\n",
              "  /* The background is the default theme color */\n",
              "  color: var(--sklearn-color-text-on-default-background);\n",
              "}\n",
              "\n",
              "/* On hover, darken the color of the background */\n",
              "#sk-container-id-3 div.sk-label:hover label.sk-toggleable__label {\n",
              "  color: var(--sklearn-color-text);\n",
              "  background-color: var(--sklearn-color-unfitted-level-2);\n",
              "}\n",
              "\n",
              "/* Label box, darken color on hover, fitted */\n",
              "#sk-container-id-3 div.sk-label.fitted:hover label.sk-toggleable__label.fitted {\n",
              "  color: var(--sklearn-color-text);\n",
              "  background-color: var(--sklearn-color-fitted-level-2);\n",
              "}\n",
              "\n",
              "/* Estimator label */\n",
              "\n",
              "#sk-container-id-3 div.sk-label label {\n",
              "  font-family: monospace;\n",
              "  font-weight: bold;\n",
              "  display: inline-block;\n",
              "  line-height: 1.2em;\n",
              "}\n",
              "\n",
              "#sk-container-id-3 div.sk-label-container {\n",
              "  text-align: center;\n",
              "}\n",
              "\n",
              "/* Estimator-specific */\n",
              "#sk-container-id-3 div.sk-estimator {\n",
              "  font-family: monospace;\n",
              "  border: 1px dotted var(--sklearn-color-border-box);\n",
              "  border-radius: 0.25em;\n",
              "  box-sizing: border-box;\n",
              "  margin-bottom: 0.5em;\n",
              "  /* unfitted */\n",
              "  background-color: var(--sklearn-color-unfitted-level-0);\n",
              "}\n",
              "\n",
              "#sk-container-id-3 div.sk-estimator.fitted {\n",
              "  /* fitted */\n",
              "  background-color: var(--sklearn-color-fitted-level-0);\n",
              "}\n",
              "\n",
              "/* on hover */\n",
              "#sk-container-id-3 div.sk-estimator:hover {\n",
              "  /* unfitted */\n",
              "  background-color: var(--sklearn-color-unfitted-level-2);\n",
              "}\n",
              "\n",
              "#sk-container-id-3 div.sk-estimator.fitted:hover {\n",
              "  /* fitted */\n",
              "  background-color: var(--sklearn-color-fitted-level-2);\n",
              "}\n",
              "\n",
              "/* Specification for estimator info (e.g. \"i\" and \"?\") */\n",
              "\n",
              "/* Common style for \"i\" and \"?\" */\n",
              "\n",
              ".sk-estimator-doc-link,\n",
              "a:link.sk-estimator-doc-link,\n",
              "a:visited.sk-estimator-doc-link {\n",
              "  float: right;\n",
              "  font-size: smaller;\n",
              "  line-height: 1em;\n",
              "  font-family: monospace;\n",
              "  background-color: var(--sklearn-color-background);\n",
              "  border-radius: 1em;\n",
              "  height: 1em;\n",
              "  width: 1em;\n",
              "  text-decoration: none !important;\n",
              "  margin-left: 0.5em;\n",
              "  text-align: center;\n",
              "  /* unfitted */\n",
              "  border: var(--sklearn-color-unfitted-level-1) 1pt solid;\n",
              "  color: var(--sklearn-color-unfitted-level-1);\n",
              "}\n",
              "\n",
              ".sk-estimator-doc-link.fitted,\n",
              "a:link.sk-estimator-doc-link.fitted,\n",
              "a:visited.sk-estimator-doc-link.fitted {\n",
              "  /* fitted */\n",
              "  border: var(--sklearn-color-fitted-level-1) 1pt solid;\n",
              "  color: var(--sklearn-color-fitted-level-1);\n",
              "}\n",
              "\n",
              "/* On hover */\n",
              "div.sk-estimator:hover .sk-estimator-doc-link:hover,\n",
              ".sk-estimator-doc-link:hover,\n",
              "div.sk-label-container:hover .sk-estimator-doc-link:hover,\n",
              ".sk-estimator-doc-link:hover {\n",
              "  /* unfitted */\n",
              "  background-color: var(--sklearn-color-unfitted-level-3);\n",
              "  color: var(--sklearn-color-background);\n",
              "  text-decoration: none;\n",
              "}\n",
              "\n",
              "div.sk-estimator.fitted:hover .sk-estimator-doc-link.fitted:hover,\n",
              ".sk-estimator-doc-link.fitted:hover,\n",
              "div.sk-label-container:hover .sk-estimator-doc-link.fitted:hover,\n",
              ".sk-estimator-doc-link.fitted:hover {\n",
              "  /* fitted */\n",
              "  background-color: var(--sklearn-color-fitted-level-3);\n",
              "  color: var(--sklearn-color-background);\n",
              "  text-decoration: none;\n",
              "}\n",
              "\n",
              "/* Span, style for the box shown on hovering the info icon */\n",
              ".sk-estimator-doc-link span {\n",
              "  display: none;\n",
              "  z-index: 9999;\n",
              "  position: relative;\n",
              "  font-weight: normal;\n",
              "  right: .2ex;\n",
              "  padding: .5ex;\n",
              "  margin: .5ex;\n",
              "  width: min-content;\n",
              "  min-width: 20ex;\n",
              "  max-width: 50ex;\n",
              "  color: var(--sklearn-color-text);\n",
              "  box-shadow: 2pt 2pt 4pt #999;\n",
              "  /* unfitted */\n",
              "  background: var(--sklearn-color-unfitted-level-0);\n",
              "  border: .5pt solid var(--sklearn-color-unfitted-level-3);\n",
              "}\n",
              "\n",
              ".sk-estimator-doc-link.fitted span {\n",
              "  /* fitted */\n",
              "  background: var(--sklearn-color-fitted-level-0);\n",
              "  border: var(--sklearn-color-fitted-level-3);\n",
              "}\n",
              "\n",
              ".sk-estimator-doc-link:hover span {\n",
              "  display: block;\n",
              "}\n",
              "\n",
              "/* \"?\"-specific style due to the `<a>` HTML tag */\n",
              "\n",
              "#sk-container-id-3 a.estimator_doc_link {\n",
              "  float: right;\n",
              "  font-size: 1rem;\n",
              "  line-height: 1em;\n",
              "  font-family: monospace;\n",
              "  background-color: var(--sklearn-color-background);\n",
              "  border-radius: 1rem;\n",
              "  height: 1rem;\n",
              "  width: 1rem;\n",
              "  text-decoration: none;\n",
              "  /* unfitted */\n",
              "  color: var(--sklearn-color-unfitted-level-1);\n",
              "  border: var(--sklearn-color-unfitted-level-1) 1pt solid;\n",
              "}\n",
              "\n",
              "#sk-container-id-3 a.estimator_doc_link.fitted {\n",
              "  /* fitted */\n",
              "  border: var(--sklearn-color-fitted-level-1) 1pt solid;\n",
              "  color: var(--sklearn-color-fitted-level-1);\n",
              "}\n",
              "\n",
              "/* On hover */\n",
              "#sk-container-id-3 a.estimator_doc_link:hover {\n",
              "  /* unfitted */\n",
              "  background-color: var(--sklearn-color-unfitted-level-3);\n",
              "  color: var(--sklearn-color-background);\n",
              "  text-decoration: none;\n",
              "}\n",
              "\n",
              "#sk-container-id-3 a.estimator_doc_link.fitted:hover {\n",
              "  /* fitted */\n",
              "  background-color: var(--sklearn-color-fitted-level-3);\n",
              "}\n",
              "\n",
              ".estimator-table summary {\n",
              "    padding: .5rem;\n",
              "    font-family: monospace;\n",
              "    cursor: pointer;\n",
              "}\n",
              "\n",
              ".estimator-table details[open] {\n",
              "    padding-left: 0.1rem;\n",
              "    padding-right: 0.1rem;\n",
              "    padding-bottom: 0.3rem;\n",
              "}\n",
              "\n",
              ".estimator-table .parameters-table {\n",
              "    margin-left: auto !important;\n",
              "    margin-right: auto !important;\n",
              "}\n",
              "\n",
              ".estimator-table .parameters-table tr:nth-child(odd) {\n",
              "    background-color: #fff;\n",
              "}\n",
              "\n",
              ".estimator-table .parameters-table tr:nth-child(even) {\n",
              "    background-color: #f6f6f6;\n",
              "}\n",
              "\n",
              ".estimator-table .parameters-table tr:hover {\n",
              "    background-color: #e0e0e0;\n",
              "}\n",
              "\n",
              ".estimator-table table td {\n",
              "    border: 1px solid rgba(106, 105, 104, 0.232);\n",
              "}\n",
              "\n",
              ".user-set td {\n",
              "    color:rgb(255, 94, 0);\n",
              "    text-align: left;\n",
              "}\n",
              "\n",
              ".user-set td.value pre {\n",
              "    color:rgb(255, 94, 0) !important;\n",
              "    background-color: transparent !important;\n",
              "}\n",
              "\n",
              ".default td {\n",
              "    color: black;\n",
              "    text-align: left;\n",
              "}\n",
              "\n",
              ".user-set td i,\n",
              ".default td i {\n",
              "    color: black;\n",
              "}\n",
              "\n",
              ".copy-paste-icon {\n",
              "    background-image: url(data:image/svg+xml;base64,PHN2ZyB4bWxucz0iaHR0cDovL3d3dy53My5vcmcvMjAwMC9zdmciIHZpZXdCb3g9IjAgMCA0NDggNTEyIj48IS0tIUZvbnQgQXdlc29tZSBGcmVlIDYuNy4yIGJ5IEBmb250YXdlc29tZSAtIGh0dHBzOi8vZm9udGF3ZXNvbWUuY29tIExpY2Vuc2UgLSBodHRwczovL2ZvbnRhd2Vzb21lLmNvbS9saWNlbnNlL2ZyZWUgQ29weXJpZ2h0IDIwMjUgRm9udGljb25zLCBJbmMuLS0+PHBhdGggZD0iTTIwOCAwTDMzMi4xIDBjMTIuNyAwIDI0LjkgNS4xIDMzLjkgMTQuMWw2Ny45IDY3LjljOSA5IDE0LjEgMjEuMiAxNC4xIDMzLjlMNDQ4IDMzNmMwIDI2LjUtMjEuNSA0OC00OCA0OGwtMTkyIDBjLTI2LjUgMC00OC0yMS41LTQ4LTQ4bDAtMjg4YzAtMjYuNSAyMS41LTQ4IDQ4LTQ4ek00OCAxMjhsODAgMCAwIDY0LTY0IDAgMCAyNTYgMTkyIDAgMC0zMiA2NCAwIDAgNDhjMCAyNi41LTIxLjUgNDgtNDggNDhMNDggNTEyYy0yNi41IDAtNDgtMjEuNS00OC00OEwwIDE3NmMwLTI2LjUgMjEuNS00OCA0OC00OHoiLz48L3N2Zz4=);\n",
              "    background-repeat: no-repeat;\n",
              "    background-size: 14px 14px;\n",
              "    background-position: 0;\n",
              "    display: inline-block;\n",
              "    width: 14px;\n",
              "    height: 14px;\n",
              "    cursor: pointer;\n",
              "}\n",
              "</style><body><div id=\"sk-container-id-3\" class=\"sk-top-container\"><div class=\"sk-text-repr-fallback\"><pre>LogisticRegression(class_weight=&#x27;balanced&#x27;, max_iter=400, random_state=11037)</pre><b>In a Jupyter environment, please rerun this cell to show the HTML representation or trust the notebook. <br />On GitHub, the HTML representation is unable to render, please try loading this page with nbviewer.org.</b></div><div class=\"sk-container\" hidden><div class=\"sk-item\"><div class=\"sk-estimator fitted sk-toggleable\"><input class=\"sk-toggleable__control sk-hidden--visually\" id=\"sk-estimator-id-3\" type=\"checkbox\" checked><label for=\"sk-estimator-id-3\" class=\"sk-toggleable__label fitted sk-toggleable__label-arrow\"><div><div>LogisticRegression</div></div><div><a class=\"sk-estimator-doc-link fitted\" rel=\"noreferrer\" target=\"_blank\" href=\"https://scikit-learn.org/1.7/modules/generated/sklearn.linear_model.LogisticRegression.html\">?<span>Documentation for LogisticRegression</span></a><span class=\"sk-estimator-doc-link fitted\">i<span>Fitted</span></span></div></label><div class=\"sk-toggleable__content fitted\" data-param-prefix=\"\">\n",
              "        <div class=\"estimator-table\">\n",
              "            <details>\n",
              "                <summary>Parameters</summary>\n",
              "                <table class=\"parameters-table\">\n",
              "                  <tbody>\n",
              "                    \n",
              "        <tr class=\"default\">\n",
              "            <td><i class=\"copy-paste-icon\"\n",
              "                 onclick=\"copyToClipboard('penalty',\n",
              "                          this.parentElement.nextElementSibling)\"\n",
              "            ></i></td>\n",
              "            <td class=\"param\">penalty&nbsp;</td>\n",
              "            <td class=\"value\">&#x27;l2&#x27;</td>\n",
              "        </tr>\n",
              "    \n",
              "\n",
              "        <tr class=\"default\">\n",
              "            <td><i class=\"copy-paste-icon\"\n",
              "                 onclick=\"copyToClipboard('dual',\n",
              "                          this.parentElement.nextElementSibling)\"\n",
              "            ></i></td>\n",
              "            <td class=\"param\">dual&nbsp;</td>\n",
              "            <td class=\"value\">False</td>\n",
              "        </tr>\n",
              "    \n",
              "\n",
              "        <tr class=\"default\">\n",
              "            <td><i class=\"copy-paste-icon\"\n",
              "                 onclick=\"copyToClipboard('tol',\n",
              "                          this.parentElement.nextElementSibling)\"\n",
              "            ></i></td>\n",
              "            <td class=\"param\">tol&nbsp;</td>\n",
              "            <td class=\"value\">0.0001</td>\n",
              "        </tr>\n",
              "    \n",
              "\n",
              "        <tr class=\"default\">\n",
              "            <td><i class=\"copy-paste-icon\"\n",
              "                 onclick=\"copyToClipboard('C',\n",
              "                          this.parentElement.nextElementSibling)\"\n",
              "            ></i></td>\n",
              "            <td class=\"param\">C&nbsp;</td>\n",
              "            <td class=\"value\">1.0</td>\n",
              "        </tr>\n",
              "    \n",
              "\n",
              "        <tr class=\"default\">\n",
              "            <td><i class=\"copy-paste-icon\"\n",
              "                 onclick=\"copyToClipboard('fit_intercept',\n",
              "                          this.parentElement.nextElementSibling)\"\n",
              "            ></i></td>\n",
              "            <td class=\"param\">fit_intercept&nbsp;</td>\n",
              "            <td class=\"value\">True</td>\n",
              "        </tr>\n",
              "    \n",
              "\n",
              "        <tr class=\"default\">\n",
              "            <td><i class=\"copy-paste-icon\"\n",
              "                 onclick=\"copyToClipboard('intercept_scaling',\n",
              "                          this.parentElement.nextElementSibling)\"\n",
              "            ></i></td>\n",
              "            <td class=\"param\">intercept_scaling&nbsp;</td>\n",
              "            <td class=\"value\">1</td>\n",
              "        </tr>\n",
              "    \n",
              "\n",
              "        <tr class=\"user-set\">\n",
              "            <td><i class=\"copy-paste-icon\"\n",
              "                 onclick=\"copyToClipboard('class_weight',\n",
              "                          this.parentElement.nextElementSibling)\"\n",
              "            ></i></td>\n",
              "            <td class=\"param\">class_weight&nbsp;</td>\n",
              "            <td class=\"value\">&#x27;balanced&#x27;</td>\n",
              "        </tr>\n",
              "    \n",
              "\n",
              "        <tr class=\"user-set\">\n",
              "            <td><i class=\"copy-paste-icon\"\n",
              "                 onclick=\"copyToClipboard('random_state',\n",
              "                          this.parentElement.nextElementSibling)\"\n",
              "            ></i></td>\n",
              "            <td class=\"param\">random_state&nbsp;</td>\n",
              "            <td class=\"value\">11037</td>\n",
              "        </tr>\n",
              "    \n",
              "\n",
              "        <tr class=\"default\">\n",
              "            <td><i class=\"copy-paste-icon\"\n",
              "                 onclick=\"copyToClipboard('solver',\n",
              "                          this.parentElement.nextElementSibling)\"\n",
              "            ></i></td>\n",
              "            <td class=\"param\">solver&nbsp;</td>\n",
              "            <td class=\"value\">&#x27;lbfgs&#x27;</td>\n",
              "        </tr>\n",
              "    \n",
              "\n",
              "        <tr class=\"user-set\">\n",
              "            <td><i class=\"copy-paste-icon\"\n",
              "                 onclick=\"copyToClipboard('max_iter',\n",
              "                          this.parentElement.nextElementSibling)\"\n",
              "            ></i></td>\n",
              "            <td class=\"param\">max_iter&nbsp;</td>\n",
              "            <td class=\"value\">400</td>\n",
              "        </tr>\n",
              "    \n",
              "\n",
              "        <tr class=\"default\">\n",
              "            <td><i class=\"copy-paste-icon\"\n",
              "                 onclick=\"copyToClipboard('multi_class',\n",
              "                          this.parentElement.nextElementSibling)\"\n",
              "            ></i></td>\n",
              "            <td class=\"param\">multi_class&nbsp;</td>\n",
              "            <td class=\"value\">&#x27;deprecated&#x27;</td>\n",
              "        </tr>\n",
              "    \n",
              "\n",
              "        <tr class=\"default\">\n",
              "            <td><i class=\"copy-paste-icon\"\n",
              "                 onclick=\"copyToClipboard('verbose',\n",
              "                          this.parentElement.nextElementSibling)\"\n",
              "            ></i></td>\n",
              "            <td class=\"param\">verbose&nbsp;</td>\n",
              "            <td class=\"value\">0</td>\n",
              "        </tr>\n",
              "    \n",
              "\n",
              "        <tr class=\"default\">\n",
              "            <td><i class=\"copy-paste-icon\"\n",
              "                 onclick=\"copyToClipboard('warm_start',\n",
              "                          this.parentElement.nextElementSibling)\"\n",
              "            ></i></td>\n",
              "            <td class=\"param\">warm_start&nbsp;</td>\n",
              "            <td class=\"value\">False</td>\n",
              "        </tr>\n",
              "    \n",
              "\n",
              "        <tr class=\"default\">\n",
              "            <td><i class=\"copy-paste-icon\"\n",
              "                 onclick=\"copyToClipboard('n_jobs',\n",
              "                          this.parentElement.nextElementSibling)\"\n",
              "            ></i></td>\n",
              "            <td class=\"param\">n_jobs&nbsp;</td>\n",
              "            <td class=\"value\">None</td>\n",
              "        </tr>\n",
              "    \n",
              "\n",
              "        <tr class=\"default\">\n",
              "            <td><i class=\"copy-paste-icon\"\n",
              "                 onclick=\"copyToClipboard('l1_ratio',\n",
              "                          this.parentElement.nextElementSibling)\"\n",
              "            ></i></td>\n",
              "            <td class=\"param\">l1_ratio&nbsp;</td>\n",
              "            <td class=\"value\">None</td>\n",
              "        </tr>\n",
              "    \n",
              "                  </tbody>\n",
              "                </table>\n",
              "            </details>\n",
              "        </div>\n",
              "    </div></div></div></div></div><script>function copyToClipboard(text, element) {\n",
              "    // Get the parameter prefix from the closest toggleable content\n",
              "    const toggleableContent = element.closest('.sk-toggleable__content');\n",
              "    const paramPrefix = toggleableContent ? toggleableContent.dataset.paramPrefix : '';\n",
              "    const fullParamName = paramPrefix ? `${paramPrefix}${text}` : text;\n",
              "\n",
              "    const originalStyle = element.style;\n",
              "    const computedStyle = window.getComputedStyle(element);\n",
              "    const originalWidth = computedStyle.width;\n",
              "    const originalHTML = element.innerHTML.replace('Copied!', '');\n",
              "\n",
              "    navigator.clipboard.writeText(fullParamName)\n",
              "        .then(() => {\n",
              "            element.style.width = originalWidth;\n",
              "            element.style.color = 'green';\n",
              "            element.innerHTML = \"Copied!\";\n",
              "\n",
              "            setTimeout(() => {\n",
              "                element.innerHTML = originalHTML;\n",
              "                element.style = originalStyle;\n",
              "            }, 2000);\n",
              "        })\n",
              "        .catch(err => {\n",
              "            console.error('Failed to copy:', err);\n",
              "            element.style.color = 'red';\n",
              "            element.innerHTML = \"Failed!\";\n",
              "            setTimeout(() => {\n",
              "                element.innerHTML = originalHTML;\n",
              "                element.style = originalStyle;\n",
              "            }, 2000);\n",
              "        });\n",
              "    return false;\n",
              "}\n",
              "\n",
              "document.querySelectorAll('.fa-regular.fa-copy').forEach(function(element) {\n",
              "    const toggleableContent = element.closest('.sk-toggleable__content');\n",
              "    const paramPrefix = toggleableContent ? toggleableContent.dataset.paramPrefix : '';\n",
              "    const paramName = element.parentElement.nextElementSibling.textContent.trim();\n",
              "    const fullParamName = paramPrefix ? `${paramPrefix}${paramName}` : paramName;\n",
              "\n",
              "    element.setAttribute('title', fullParamName);\n",
              "});\n",
              "</script></body>"
            ],
            "text/plain": [
              "LogisticRegression(class_weight='balanced', max_iter=400, random_state=11037)"
            ]
          },
          "execution_count": 208,
          "metadata": {},
          "output_type": "execute_result"
        }
      ],
      "source": [
        "log_clf.fit(X_train,y_train)"
      ]
    },
    {
      "cell_type": "code",
      "execution_count": 209,
      "metadata": {},
      "outputs": [
        {
          "data": {
            "image/png": "[encoded data removed]",
            "text/plain": [
              "<Figure size 640x480 with 1 Axes>"
            ]
          },
          "metadata": {},
          "output_type": "display_data"
        }
      ],
      "source": [
        "RocCurveDisplay.from_estimator(log_clf, X_test, y_test)\n",
        "plt.title('Logistic Regression ROC curve')\n",
        "plt.show()"
      ]
    },
    {
      "cell_type": "code",
      "execution_count": 191,
      "metadata": {},
      "outputs": [],
      "source": [
        "y_pred_log_clf = log_clf.predict(X_test)"
      ]
    },
    {
      "cell_type": "code",
      "execution_count": 210,
      "metadata": {},
      "outputs": [
        {
          "name": "stdout",
          "output_type": "stream",
          "text": [
            "[[55294  1357]\n",
            " [    8    87]]\n"
          ]
        },
        {
          "data": {
            "image/png": "[encoded data removed]",
            "text/plain": [
              "<Figure size 640x480 with 2 Axes>"
            ]
          },
          "metadata": {},
          "output_type": "display_data"
        }
      ],
      "source": [
        "plot_confusion_matrix(y_pred_log_clf, y_test, 'Logistic Regression Confusion Matrix on hold out test set')"
      ]
    },
    {
      "cell_type": "code",
      "execution_count": 211,
      "metadata": {},
      "outputs": [
        {
          "name": "stdout",
          "output_type": "stream",
          "text": [
            "model succesfully saved in e:\\Programacao\\LAPES\\EDA_ML_DL_PS\\LAPES-Data-Challenge-Predictive-Analytics-System\\models\\logistic_regression_baseline.pkl\n"
          ]
        }
      ],
      "source": [
        "# saving the baseline model\n",
        "\n",
        "file_path = Path.cwd().parent / 'models' / 'logistic_regression_baseline.pkl'\n",
        "joblib.dump(log_clf, file_path)\n",
        "\n",
        "print('model succesfully saved in', file_path)"
      ]
    },
    {
      "cell_type": "markdown",
      "metadata": {
        "id": "wNtj1sk6F-OT"
      },
      "source": [
        "# Lets remember the features most correlated to target class (fraud)\n",
        "this will be the base for:\n",
        "\n",
        "feature selection\n",
        "\n",
        "feature engineering\n",
        "\n",
        "feature dropping"
      ]
    },
    {
      "cell_type": "code",
      "execution_count": 74,
      "metadata": {
        "colab": {
          "base_uri": "https://localhost:8080/",
          "height": 1000
        },
        "id": "cdarX2ZnDhUJ",
        "outputId": "c0377243-ba8a-4510-f3e0-05078cef0593"
      },
      "outputs": [
        {
          "data": {
            "application/vnd.microsoft.datawrangler.viewer.v0+json": {
              "columns": [
                {
                  "name": "index",
                  "rawType": "object",
                  "type": "string"
                },
                {
                  "name": "target",
                  "rawType": "float64",
                  "type": "float"
                }
              ],
              "ref": "b1a66a0f-a8b6-4d22-9667-1960a61203d3",
              "rows": [
                [
                  "v17",
                  "-0.311265779262814"
                ],
                [
                  "v14",
                  "-0.2934912477607541"
                ],
                [
                  "v12",
                  "-0.24922237689043314"
                ],
                [
                  "v10",
                  "-0.20365064939950722"
                ],
                [
                  "v16",
                  "-0.18617359324568122"
                ],
                [
                  "v3",
                  "-0.17906647875614348"
                ],
                [
                  "v7",
                  "-0.16817017778340368"
                ],
                [
                  "v11",
                  "0.14838088655620774"
                ],
                [
                  "v4",
                  "0.12824899271721452"
                ],
                [
                  "v18",
                  "-0.10390434434174667"
                ],
                [
                  "v9",
                  "-0.09223596248429103"
                ],
                [
                  "v1",
                  "-0.0907890495447788"
                ],
                [
                  "v5",
                  "-0.08436394462189314"
                ],
                [
                  "v2",
                  "0.08393287064911568"
                ],
                [
                  "v6",
                  "-0.044502739358072"
                ],
                [
                  "v8",
                  "0.03416767585133337"
                ],
                [
                  "v19",
                  "0.03272366698905204"
                ],
                [
                  "v21",
                  "0.029663696448149"
                ],
                [
                  "v27",
                  "0.023931860254533605"
                ],
                [
                  "v20",
                  "0.021515440705587512"
                ],
                [
                  "time_scaled",
                  "-0.01204996349693601"
                ],
                [
                  "v28",
                  "0.010386340234203642"
                ],
                [
                  "v24",
                  "-0.007986902812510572"
                ],
                [
                  "v23",
                  "-0.005965976791269219"
                ],
                [
                  "amount_scaled",
                  "0.0055854724612300595"
                ],
                [
                  "v13",
                  "-0.004187879643655604"
                ],
                [
                  "v26",
                  "0.00360665828835932"
                ],
                [
                  "v22",
                  "0.003061504411037674"
                ],
                [
                  "v15",
                  "-0.0027046192373455873"
                ],
                [
                  "v25",
                  "0.0025967204348342943"
                ]
              ],
              "shape": {
                "columns": 1,
                "rows": 30
              }
            },
            "text/plain": [
              "v17             -0.311266\n",
              "v14             -0.293491\n",
              "v12             -0.249222\n",
              "v10             -0.203651\n",
              "v16             -0.186174\n",
              "v3              -0.179066\n",
              "v7              -0.168170\n",
              "v11              0.148381\n",
              "v4               0.128249\n",
              "v18             -0.103904\n",
              "v9              -0.092236\n",
              "v1              -0.090789\n",
              "v5              -0.084364\n",
              "v2               0.083933\n",
              "v6              -0.044503\n",
              "v8               0.034168\n",
              "v19              0.032724\n",
              "v21              0.029664\n",
              "v27              0.023932\n",
              "v20              0.021515\n",
              "time_scaled     -0.012050\n",
              "v28              0.010386\n",
              "v24             -0.007987\n",
              "v23             -0.005966\n",
              "amount_scaled    0.005585\n",
              "v13             -0.004188\n",
              "v26              0.003607\n",
              "v22              0.003062\n",
              "v15             -0.002705\n",
              "v25              0.002597\n",
              "Name: target, dtype: float64"
            ]
          },
          "execution_count": 74,
          "metadata": {},
          "output_type": "execute_result"
        }
      ],
      "source": [
        "# 📊 Correlation with target\n",
        "correlations = X_train.copy()\n",
        "correlations['target'] = y_train\n",
        "\n",
        "corr_matrix = correlations.corr()\n",
        "target_corr = corr_matrix['target'].drop('target').sort_values(key=abs, ascending=False)\n",
        "\n",
        "# Display sorted correlations\n",
        "target_corr\n"
      ]
    },
    {
      "cell_type": "code",
      "execution_count": 75,
      "metadata": {
        "colab": {
          "base_uri": "https://localhost:8080/",
          "height": 506
        },
        "id": "RI-3y2UGD6RN",
        "outputId": "0f78bfbf-eb76-44a8-b43a-4c0b608f9b9e"
      },
      "outputs": [
        {
          "data": {
            "image/png": "[encoded data removed]",
            "text/plain": [
              "<Figure size 1000x600 with 1 Axes>"
            ]
          },
          "metadata": {},
          "output_type": "display_data"
        }
      ],
      "source": [
        "plt.figure(figsize=(10, 6))\n",
        "sns.barplot(x=target_corr.index, y=target_corr.values,hue=target_corr.index,legend=False, palette='coolwarm')\n",
        "plt.xticks(rotation=90)\n",
        "plt.title(\"Feature Correlation with Target Class (Fraud)\")\n",
        "plt.ylabel(\"Correlation Coefficient\")\n",
        "plt.show()"
      ]
    },
    {
      "cell_type": "code",
      "execution_count": null,
      "metadata": {
        "colab": {
          "base_uri": "https://localhost:8080/"
        },
        "collapsed": true,
        "id": "4daSGUOFGQG3",
        "outputId": "ccf49fe1-a471-46f1-fa3d-2ba90d96cec3"
      },
      "outputs": [
        {
          "name": "stdout",
          "output_type": "stream",
          "text": [
            "Added Feature: v17 | F1-Score: 0.5733\n",
            "Added Feature: v14 | F1-Score: 0.1258\n",
            "Added Feature: v12 | F1-Score: 0.1144\n",
            "Added Feature: v10 | F1-Score: 0.1207\n",
            "Added Feature: v16 | F1-Score: 0.1223\n",
            "Added Feature: v3 | F1-Score: 0.1173\n",
            "Added Feature: v7 | F1-Score: 0.1195\n",
            "Added Feature: v11 | F1-Score: 0.1179\n",
            "Added Feature: v4 | F1-Score: 0.1121\n",
            "Added Feature: v18 | F1-Score: 0.1103\n",
            "Added Feature: v9 | F1-Score: 0.1105\n",
            "Added Feature: v1 | F1-Score: 0.1099\n",
            "Added Feature: v5 | F1-Score: 0.1042\n",
            "Added Feature: v2 | F1-Score: 0.1039\n",
            "Added Feature: v6 | F1-Score: 0.1062\n",
            "Added Feature: v8 | F1-Score: 0.1099\n",
            "Added Feature: v19 | F1-Score: 0.1126\n",
            "Added Feature: v21 | F1-Score: 0.1111\n",
            "Added Feature: v27 | F1-Score: 0.1120\n",
            "Added Feature: v20 | F1-Score: 0.1126\n",
            "Added Feature: time_scaled | F1-Score: 0.1157\n",
            "Added Feature: v28 | F1-Score: 0.1166\n",
            "Added Feature: v24 | F1-Score: 0.1167\n",
            "Added Feature: v23 | F1-Score: 0.1138\n",
            "Added Feature: amount_scaled | F1-Score: 0.1152\n",
            "Added Feature: v13 | F1-Score: 0.1190\n",
            "Added Feature: v26 | F1-Score: 0.1199\n",
            "Added Feature: v22 | F1-Score: 0.1146\n",
            "Added Feature: v15 | F1-Score: 0.1133\n",
            "Added Feature: v25 | F1-Score: 0.1133\n"
          ]
        }
      ],
      "source": [
        "\n",
        "\n",
        "used_features = []\n",
        "scores = []\n",
        "\n",
        "for f in target_corr.index:\n",
        "    used_features.append(f)\n",
        "\n",
        "    log_temp = LogisticRegression(class_weight='balanced', max_iter=400, random_state=11037)\n",
        "\n",
        "    # 5-fold CV and F1 score (for imbalance)\n",
        "    cv_scores = cross_val_score(\n",
        "        log_temp,\n",
        "        X_train[used_features],\n",
        "        y_train,\n",
        "        cv=cv,\n",
        "        scoring='f1',\n",
        "        n_jobs=-1\n",
        "    )\n",
        "\n",
        "    mean_score = cv_scores.mean()\n",
        "    scores.append(mean_score)\n",
        "\n",
        "    print(f\"Added Feature: {f} | F1-Score: {mean_score:.4f}\")\n"
      ]
    },
    {
      "cell_type": "markdown",
      "metadata": {
        "id": "JuVESsPGOYTk"
      },
      "source": [
        "## 🔍 Forward Feature Selection with Logistic Regression\n",
        "\n",
        "To explore the contribution of individual features to model performance, we performed a forward feature selection procedure. At each step, we added the next most-correlated feature to the model and computed the mean F1-score using 5-fold cross-validation.\n",
        "\n",
        "The results show:\n",
        "\n",
        "- The first feature alone achieves a very high F1-score (~0.65).\n",
        "- Adding additional features leads to a sharp performance drop and does not improve results significantly.\n",
        "- This suggests that the first feature captures most of the fraud signal for a linear model like Logistic Regression.\n",
        "\n",
        "This behavior is expected because:\n",
        "- Most features are PCA-transformed and orthogonal, meaning they are uncorrelated by construction.\n",
        "- Logistic Regression may struggle to separate classes in PCA space.\n",
        "\n",
        "The plot below illustrates this trend.\n"
      ]
    },
    {
      "cell_type": "code",
      "execution_count": 77,
      "metadata": {
        "colab": {
          "base_uri": "https://localhost:8080/",
          "height": 442
        },
        "id": "F2Mzny80MmwF",
        "outputId": "8caf4b75-ec6b-4ebb-aa65-9157816977d8"
      },
      "outputs": [
        {
          "data": {
            "image/png": "[encoded data removed]",
            "text/plain": [
              "<Figure size 1000x600 with 1 Axes>"
            ]
          },
          "metadata": {},
          "output_type": "display_data"
        }
      ],
      "source": [
        "plt.figure(figsize=(10, 6))\n",
        "plt.plot(range(1, len(scores) + 1), scores, marker='o')\n",
        "plt.title(\"Feature Addition vs F1-Score\")\n",
        "plt.xlabel(\"Number of Features Added\")\n",
        "plt.ylabel(\"Mean F1-Score (5-Fold CV)\")\n",
        "plt.grid(True)\n",
        "plt.show()"
      ]
    },
    {
      "cell_type": "code",
      "execution_count": 154,
      "metadata": {
        "id": "j5I8W0yfOgcL"
      },
      "outputs": [],
      "source": [
        "log_v17_clf = LogisticRegression(class_weight='balanced', max_iter=400, random_state=11037)\n",
        "# perform cross-validation with full metrics on v17 only\n",
        "cv_v17_results = cross_validate(\n",
        "    log_v17_clf,\n",
        "    X_train[['v17']], y_train,\n",
        "    scoring=scoring,\n",
        "    cv=cv,\n",
        "    return_train_score=False\n",
        ")\n",
        "results_v17_series = pd.DataFrame(cv_v17_results).mean()"
      ]
    },
    {
      "cell_type": "code",
      "execution_count": 162,
      "metadata": {
        "colab": {
          "base_uri": "https://localhost:8080/",
          "height": 366
        },
        "id": "qB_9_Q9RR-n_",
        "outputId": "23e3b674-147c-4e61-cc6c-878cf097a041"
      },
      "outputs": [],
      "source": [
        "def correct_names_after_cv(cv_results_series):\n",
        "    corrected_names = []\n",
        "    for index in cv_results_series.index:\n",
        "        if index.startswith('test_'):\n",
        "            index = index.removeprefix('test_')\n",
        "            corrected_names.append(index)\n",
        "        else:\n",
        "            corrected_names.append(index)\n",
        "\n",
        "    cv_results_series.index = corrected_names\n"
      ]
    },
    {
      "cell_type": "code",
      "execution_count": 164,
      "metadata": {},
      "outputs": [
        {
          "data": {
            "application/vnd.microsoft.datawrangler.viewer.v0+json": {
              "columns": [
                {
                  "name": "index",
                  "rawType": "object",
                  "type": "string"
                },
                {
                  "name": "0",
                  "rawType": "float64",
                  "type": "float"
                }
              ],
              "ref": "52b32219-f9bf-4b47-9cd2-098cb172fde2",
              "rows": [
                [
                  "fit_time",
                  "0.10449490547180176"
                ],
                [
                  "score_time",
                  "0.03743419647216797"
                ],
                [
                  "accuracy",
                  "0.998277381267072"
                ],
                [
                  "precision",
                  "0.49036059847418867"
                ],
                [
                  "recall",
                  "0.7091228070175439"
                ],
                [
                  "f1",
                  "0.5790119916859188"
                ],
                [
                  "roc_auc",
                  "0.7986025448242152"
                ],
                [
                  "pr_auc",
                  "0.5877868887249552"
                ],
                [
                  "balanced_accuracy",
                  "0.8539413733163773"
                ]
              ],
              "shape": {
                "columns": 1,
                "rows": 9
              }
            },
            "text/plain": [
              "fit_time             0.104495\n",
              "score_time           0.037434\n",
              "accuracy             0.998277\n",
              "precision            0.490361\n",
              "recall               0.709123\n",
              "f1                   0.579012\n",
              "roc_auc              0.798603\n",
              "pr_auc               0.587787\n",
              "balanced_accuracy    0.853941\n",
              "dtype: float64"
            ]
          },
          "execution_count": 164,
          "metadata": {},
          "output_type": "execute_result"
        }
      ],
      "source": [
        "correct_names_after_cv(results_v17_series)\n",
        "results_v17_series"
      ]
    },
    {
      "cell_type": "code",
      "execution_count": 165,
      "metadata": {
        "colab": {
          "base_uri": "https://localhost:8080/",
          "height": 350
        },
        "id": "4ywU_TrNO8Fw",
        "outputId": "6976b864-4774-4cea-f202-422853efc968"
      },
      "outputs": [
        {
          "data": {
            "image/png": "[encoded data removed]",
            "text/plain": [
              "<Figure size 1200x600 with 1 Axes>"
            ]
          },
          "metadata": {},
          "output_type": "display_data"
        }
      ],
      "source": [
        "def plot_bar_metrics(score_df: pd.DataFrame, title='placeholder'):\n",
        "    plt.figure(figsize=(12,6))\n",
        "    model_scores_barplot = sns.barplot(score_df.loc['accuracy':])\n",
        "\n",
        "\n",
        "    for patch in model_scores_barplot.patches:\n",
        "        height = patch.get_height()\n",
        "        if height > 0:\n",
        "            model_scores_barplot.annotate(f'{height:.4f}',  # formatting\n",
        "                (patch.get_x() + patch.get_width() / 2, height), # setting each coordinate to be on the patch\n",
        "                ha='center', va='bottom', fontsize=8, rotation=0) # position related to the patch cordinate, right above and center\n",
        "\n",
        "    plt.title(title)\n",
        "    plt.show()\n",
        "\n",
        "plot_bar_metrics(results_v17_series, 'Logistic Regression model trained only on V17')"
      ]
    },
    {
      "cell_type": "code",
      "execution_count": 18,
      "metadata": {
        "colab": {
          "base_uri": "https://localhost:8080/",
          "height": 532
        },
        "id": "UE0l17yXRDuv",
        "outputId": "3b1f26a2-774c-4804-ae6a-610ef14ac305"
      },
      "outputs": [
        {
          "data": {
            "image/png": "[encoded data removed]",
            "text/plain": [
              "<Figure size 800x600 with 1 Axes>"
            ]
          },
          "metadata": {},
          "output_type": "display_data"
        }
      ],
      "source": [
        "\n",
        "\n",
        "plt.figure(figsize=(8, 6))\n",
        "sns.boxplot(x=y_train, y=X_train['v17'])\n",
        "plt.title(\"Distribution of V17 by Target Class\")\n",
        "plt.xlabel(\"Target Class (0: Non-Fraud, 1: Fraud)\")\n",
        "plt.ylabel(\"V17 Value\")\n",
        "plt.show()"
      ]
    },
    {
      "cell_type": "code",
      "execution_count": 31,
      "metadata": {},
      "outputs": [
        {
          "name": "stdout",
          "output_type": "stream",
          "text": [
            "test_accuracy: 0.9996\n",
            "test_precision: 0.9263\n",
            "test_recall: 0.7964\n",
            "test_f1: 0.8562\n",
            "test_roc_auc: 0.9769\n",
            "test_pr_auc: 0.8435\n",
            "test_balanced_accuracy: 0.8982\n"
          ]
        }
      ],
      "source": [
        "# XGBoost Classifier\n",
        "xgb_clf = xgb.XGBClassifier(\n",
        "    objective=\"binary:logistic\",  # Binary classification\n",
        "    eval_metric=\"aucpr\",          # PR AUC for imbalanced data\n",
        "    scale_pos_weight=10,          # imbalance adjustment\n",
        "    random_state=11037,\n",
        "    n_jobs=-1                     # use all cores\n",
        ")\n",
        "\n",
        "cv_results = cross_validate(\n",
        "    xgb_clf,\n",
        "    X_train,\n",
        "    y_train,\n",
        "    cv=cv,\n",
        "    scoring=scoring,\n",
        "    return_train_score=False,\n",
        "    n_jobs=-1\n",
        ")\n",
        "\n",
        "# Print mean scores\n",
        "for metric, scores in cv_results.items():\n",
        "    if metric.startswith(\"test_\"):\n",
        "        print(f\"{metric}: {scores.mean():.4f}\")\n"
      ]
    },
    {
      "cell_type": "code",
      "execution_count": 32,
      "metadata": {},
      "outputs": [
        {
          "name": "stdout",
          "output_type": "stream",
          "text": [
            "Fitting 5 folds for each of 30 candidates, totalling 150 fits\n"
          ]
        },
        {
          "name": "stderr",
          "output_type": "stream",
          "text": [
            "e:\\Programacao\\LAPES\\EDA_ML_DL_PS\\LAPES-Data-Challenge-Predictive-Analytics-System\\Lib\\site-packages\\xgboost\\training.py:183: UserWarning: [18:50:45] WARNING: C:\\actions-runner\\_work\\xgboost\\xgboost\\src\\learner.cc:738: \n",
            "Parameters: { \"use_label_encoder\" } are not used.\n",
            "\n",
            "  bst.update(dtrain, iteration=i, fobj=obj)\n"
          ]
        },
        {
          "name": "stdout",
          "output_type": "stream",
          "text": [
            "Best parameters found: {'subsample': 0.7, 'scale_pos_weight': 10, 'n_estimators': 500, 'max_depth': None, 'learning_rate': 0.05, 'colsample_bytree': 0.6}\n",
            "Best PR AUC score: 0.8527305043438291\n"
          ]
        }
      ],
      "source": [
        "\n",
        "\n",
        "# Parameter grid\n",
        "param_dist = {\n",
        "    'n_estimators': [100, 300, 500, 750],\n",
        "    'max_depth': [3, 6, 10, None],\n",
        "    'learning_rate': [0.1, 0.05, 0.01],\n",
        "    'subsample': [0.7, 0.8, 1.0],\n",
        "    'colsample_bytree': [0.6,0.7, 0.8, 1.0],\n",
        "    'scale_pos_weight': [1, 10, 50]  # imbalance adjustment\n",
        "}\n",
        "\n",
        "# Randomized Search\n",
        "xgb_random = RandomizedSearchCV(\n",
        "    estimator=xgb_clf,\n",
        "    param_distributions=param_dist,\n",
        "    n_iter=30,                # test 20 random combinations\n",
        "    scoring='average_precision',  # optimize PR AUC\n",
        "    cv=cv,                     \n",
        "    verbose=1,\n",
        "    random_state=11037,\n",
        "    n_jobs=-1\n",
        ")\n",
        "\n",
        "xgb_random.fit(X_train, y_train )\n",
        "\n",
        "print(\"Best parameters found:\", xgb_random.best_params_)\n",
        "print(\"Best PR AUC score:\", xgb_random.best_score_)"
      ]
    },
    {
      "cell_type": "markdown",
      "metadata": {},
      "source": [
        "⚠️ **Note on Hyperparameter Boundaries**\n",
        "When RandomizedSearchCV selects a parameter at the boundary of the search space, it suggests that a better value may lie beyond the current range. To address this, we expanded the grid for that parameter and reran the search, carefully monitoring for overfitting.\n"
      ]
    },
    {
      "cell_type": "code",
      "execution_count": 35,
      "metadata": {},
      "outputs": [],
      "source": [
        "\n",
        "\n",
        "bst_clf = xgb.XGBClassifier(\n",
        "    **xgb_random.best_params_,\n",
        "    random_state=11037,\n",
        "    n_jobs=-1\n",
        ")\n"
      ]
    },
    {
      "cell_type": "code",
      "execution_count": 36,
      "metadata": {},
      "outputs": [],
      "source": [
        "bst_clf = bst_clf.fit(X_train,y_train)"
      ]
    },
    {
      "cell_type": "code",
      "execution_count": 74,
      "metadata": {},
      "outputs": [
        {
          "data": {
            "image/png": "[encoded data removed]",
            "text/plain": [
              "<Figure size 640x480 with 1 Axes>"
            ]
          },
          "metadata": {},
          "output_type": "display_data"
        }
      ],
      "source": [
        "RocCurveDisplay.from_estimator(bst_clf, X_test, y_test)\n",
        "plt.title('XGBoost final model ROC curve')\n",
        "plt.show()v"
      ]
    },
    {
      "cell_type": "code",
      "execution_count": 89,
      "metadata": {},
      "outputs": [
        {
          "name": "stdout",
          "output_type": "stream",
          "text": [
            "[[56645     6]\n",
            " [   18    77]]\n"
          ]
        },
        {
          "data": {
            "image/png": "[encoded data removed]",
            "text/plain": [
              "<Figure size 600x500 with 2 Axes>"
            ]
          },
          "metadata": {},
          "output_type": "display_data"
        }
      ],
      "source": [
        "y_pred_bst_clf = bst_clf.predict(X_test)\n",
        "final_model_cm = confusion_matrix(y_test,y_pred_bst_clf)\n",
        "\n",
        "# sns.heatmap(final_model_cm,annot=True)\n",
        "\n",
        "\n",
        "labels = ['Normal', 'Fraud']\n",
        "plt.figure(figsize=(6, 5))\n",
        "ax = sns.heatmap(final_model_cm, annot=True, xticklabels=labels, yticklabels=labels)\n",
        "plt.title('XGBoost Confusion Matrix on hold out test set')\n",
        "plt.xlabel('predicted class')\n",
        "plt.ylabel('actual class')\n",
        "print(final_model_cm)"
      ]
    },
    {
      "cell_type": "code",
      "execution_count": 37,
      "metadata": {},
      "outputs": [],
      "source": [
        "scoring_call = check_scoring(estimator=bst_clf, scoring=scoring, raise_exc=False)\n",
        "bst_clf_scores = scoring_call(bst_clf, X_test, y_test)"
      ]
    },
    {
      "cell_type": "code",
      "execution_count": 67,
      "metadata": {},
      "outputs": [
        {
          "data": {
            "application/vnd.microsoft.datawrangler.viewer.v0+json": {
              "columns": [
                {
                  "name": "index",
                  "rawType": "object",
                  "type": "string"
                },
                {
                  "name": "0",
                  "rawType": "float64",
                  "type": "float"
                }
              ],
              "ref": "a874b0cb-afa1-4dec-b243-87858f2b30ea",
              "rows": [
                [
                  "accuracy",
                  "0.9995770627004547"
                ],
                [
                  "precision",
                  "0.927710843373494"
                ],
                [
                  "recall",
                  "0.8105263157894737"
                ],
                [
                  "f1",
                  "0.8651685393258427"
                ],
                [
                  "roc_auc",
                  "0.9762150340635971"
                ],
                [
                  "pr_auc",
                  "0.8605346703268906"
                ],
                [
                  "balanced_accuracy",
                  "0.9052102020775403"
                ]
              ],
              "shape": {
                "columns": 1,
                "rows": 7
              }
            },
            "text/plain": [
              "accuracy             0.999577\n",
              "precision            0.927711\n",
              "recall               0.810526\n",
              "f1                   0.865169\n",
              "roc_auc              0.976215\n",
              "pr_auc               0.860535\n",
              "balanced_accuracy    0.905210\n",
              "dtype: float64"
            ]
          },
          "execution_count": 67,
          "metadata": {},
          "output_type": "execute_result"
        }
      ],
      "source": [
        "\n",
        "\n",
        "bst_clf_scores_series = pd.Series(bst_clf_scores)\n",
        "bst_clf_scores_series"
      ]
    },
    {
      "cell_type": "code",
      "execution_count": 72,
      "metadata": {},
      "outputs": [
        {
          "data": {
            "image/png": "[encoded data removed]",
            "text/plain": [
              "<Figure size 1200x600 with 1 Axes>"
            ]
          },
          "metadata": {},
          "output_type": "display_data"
        }
      ],
      "source": [
        "plot_bar_metrics(bst_clf_scores_series,'Final XGBoost model scores')"
      ]
    },
    {
      "cell_type": "code",
      "execution_count": 119,
      "metadata": {},
      "outputs": [
        {
          "name": "stdout",
          "output_type": "stream",
          "text": [
            "model succesfully saved in e:\\Programacao\\LAPES\\EDA_ML_DL_PS\\LAPES-Data-Challenge-Predictive-Analytics-System\\models\\final_XGBoost_model.pkl\n"
          ]
        }
      ],
      "source": [
        "#saving the XGBoost model\n",
        "file_path = Path.cwd().parent / 'models' / 'final_XGBoost_model.pkl'\n",
        "joblib.dump(bst_clf, file_path)\n",
        "\n",
        "print('model succesfully saved in', file_path)"
      ]
    },
    {
      "cell_type": "markdown",
      "metadata": {
        "id": "uhwBzHhJVbNM"
      },
      "source": [
        "# 🌲 Random Forest Classifier \n",
        "\n",
        "To explore non-linear patterns and potential feature interactions, we train a Random Forest Classifier using all PCA-transformed features and the scaled `Amount` and `Time`.  \n",
        "\n",
        "Random Forest is a tree-based ensemble method that:  \n",
        "- Handles imbalanced datasets better than linear models.  \n",
        "- Provides a direct estimate of feature importances.  \n",
        "\n",
        "We train the model using 5-fold cross-validation and compute the same evaluation metrics as before.\n"
      ]
    },
    {
      "cell_type": "code",
      "execution_count": 56,
      "metadata": {
        "colab": {
          "base_uri": "https://localhost:8080/"
        },
        "id": "qgpQYVyvVjK8",
        "outputId": "e1926dd0-493b-486d-bb9a-369a2e27c15e"
      },
      "outputs": [
        {
          "ename": "KeyboardInterrupt",
          "evalue": "",
          "output_type": "error",
          "traceback": [
            "\u001b[31m---------------------------------------------------------------------------\u001b[39m",
            "\u001b[31mKeyboardInterrupt\u001b[39m                         Traceback (most recent call last)",
            "\u001b[36mCell\u001b[39m\u001b[36m \u001b[39m\u001b[32mIn[56]\u001b[39m\u001b[32m, line 11\u001b[39m\n\u001b[32m      2\u001b[39m rf_clf = RandomForestClassifier(\n\u001b[32m      3\u001b[39m     n_estimators=\u001b[32m100\u001b[39m,\n\u001b[32m      4\u001b[39m     max_depth=\u001b[38;5;28;01mNone\u001b[39;00m,\n\u001b[32m   (...)\u001b[39m\u001b[32m      7\u001b[39m     n_jobs=-\u001b[32m1\u001b[39m\n\u001b[32m      8\u001b[39m )\n\u001b[32m     10\u001b[39m \u001b[38;5;66;03m# 📊 Evaluate model\u001b[39;00m\n\u001b[32m---> \u001b[39m\u001b[32m11\u001b[39m rf_cv_results = \u001b[43mcross_validate\u001b[49m\u001b[43m(\u001b[49m\n\u001b[32m     12\u001b[39m \u001b[43m    \u001b[49m\u001b[43mrf_clf\u001b[49m\u001b[43m,\u001b[49m\n\u001b[32m     13\u001b[39m \u001b[43m    \u001b[49m\u001b[43mX_train\u001b[49m\u001b[43m,\u001b[49m\n\u001b[32m     14\u001b[39m \u001b[43m    \u001b[49m\u001b[43my_train\u001b[49m\u001b[43m,\u001b[49m\n\u001b[32m     15\u001b[39m \u001b[43m    \u001b[49m\u001b[43mcv\u001b[49m\u001b[43m=\u001b[49m\u001b[43mcv\u001b[49m\u001b[43m,\u001b[49m\n\u001b[32m     16\u001b[39m \u001b[43m    \u001b[49m\u001b[43mscoring\u001b[49m\u001b[43m=\u001b[49m\u001b[43mscoring\u001b[49m\u001b[43m,\u001b[49m\n\u001b[32m     17\u001b[39m \u001b[43m    \u001b[49m\u001b[43mreturn_estimator\u001b[49m\u001b[43m=\u001b[49m\u001b[38;5;28;43;01mTrue\u001b[39;49;00m\u001b[43m,\u001b[49m\n\u001b[32m     18\u001b[39m \u001b[43m    \u001b[49m\u001b[43mn_jobs\u001b[49m\u001b[43m=\u001b[49m\u001b[43m-\u001b[49m\u001b[32;43m1\u001b[39;49m\n\u001b[32m     19\u001b[39m \u001b[43m)\u001b[49m\n\u001b[32m     21\u001b[39m \u001b[38;5;66;03m# 📄 Display mean CV scores\u001b[39;00m\n\u001b[32m     22\u001b[39m \u001b[38;5;28;01mfor\u001b[39;00m metric, scores \u001b[38;5;129;01min\u001b[39;00m rf_cv_results.items():\n",
            "\u001b[36mFile \u001b[39m\u001b[32me:\\Programacao\\LAPES\\EDA_ML_DL_PS\\LAPES-Data-Challenge-Predictive-Analytics-System\\Lib\\site-packages\\sklearn\\utils\\_param_validation.py:218\u001b[39m, in \u001b[36mvalidate_params.<locals>.decorator.<locals>.wrapper\u001b[39m\u001b[34m(*args, **kwargs)\u001b[39m\n\u001b[32m    212\u001b[39m \u001b[38;5;28;01mtry\u001b[39;00m:\n\u001b[32m    213\u001b[39m     \u001b[38;5;28;01mwith\u001b[39;00m config_context(\n\u001b[32m    214\u001b[39m         skip_parameter_validation=(\n\u001b[32m    215\u001b[39m             prefer_skip_nested_validation \u001b[38;5;129;01mor\u001b[39;00m global_skip_validation\n\u001b[32m    216\u001b[39m         )\n\u001b[32m    217\u001b[39m     ):\n\u001b[32m--> \u001b[39m\u001b[32m218\u001b[39m         \u001b[38;5;28;01mreturn\u001b[39;00m \u001b[43mfunc\u001b[49m\u001b[43m(\u001b[49m\u001b[43m*\u001b[49m\u001b[43margs\u001b[49m\u001b[43m,\u001b[49m\u001b[43m \u001b[49m\u001b[43m*\u001b[49m\u001b[43m*\u001b[49m\u001b[43mkwargs\u001b[49m\u001b[43m)\u001b[49m\n\u001b[32m    219\u001b[39m \u001b[38;5;28;01mexcept\u001b[39;00m InvalidParameterError \u001b[38;5;28;01mas\u001b[39;00m e:\n\u001b[32m    220\u001b[39m     \u001b[38;5;66;03m# When the function is just a wrapper around an estimator, we allow\u001b[39;00m\n\u001b[32m    221\u001b[39m     \u001b[38;5;66;03m# the function to delegate validation to the estimator, but we replace\u001b[39;00m\n\u001b[32m    222\u001b[39m     \u001b[38;5;66;03m# the name of the estimator by the name of the function in the error\u001b[39;00m\n\u001b[32m    223\u001b[39m     \u001b[38;5;66;03m# message to avoid confusion.\u001b[39;00m\n\u001b[32m    224\u001b[39m     msg = re.sub(\n\u001b[32m    225\u001b[39m         \u001b[33mr\u001b[39m\u001b[33m\"\u001b[39m\u001b[33mparameter of \u001b[39m\u001b[33m\\\u001b[39m\u001b[33mw+ must be\u001b[39m\u001b[33m\"\u001b[39m,\n\u001b[32m    226\u001b[39m         \u001b[33mf\u001b[39m\u001b[33m\"\u001b[39m\u001b[33mparameter of \u001b[39m\u001b[38;5;132;01m{\u001b[39;00mfunc.\u001b[34m__qualname__\u001b[39m\u001b[38;5;132;01m}\u001b[39;00m\u001b[33m must be\u001b[39m\u001b[33m\"\u001b[39m,\n\u001b[32m    227\u001b[39m         \u001b[38;5;28mstr\u001b[39m(e),\n\u001b[32m    228\u001b[39m     )\n",
            "\u001b[36mFile \u001b[39m\u001b[32me:\\Programacao\\LAPES\\EDA_ML_DL_PS\\LAPES-Data-Challenge-Predictive-Analytics-System\\Lib\\site-packages\\sklearn\\model_selection\\_validation.py:399\u001b[39m, in \u001b[36mcross_validate\u001b[39m\u001b[34m(estimator, X, y, groups, scoring, cv, n_jobs, verbose, params, pre_dispatch, return_train_score, return_estimator, return_indices, error_score)\u001b[39m\n\u001b[32m    396\u001b[39m \u001b[38;5;66;03m# We clone the estimator to make sure that all the folds are\u001b[39;00m\n\u001b[32m    397\u001b[39m \u001b[38;5;66;03m# independent, and that it is pickle-able.\u001b[39;00m\n\u001b[32m    398\u001b[39m parallel = Parallel(n_jobs=n_jobs, verbose=verbose, pre_dispatch=pre_dispatch)\n\u001b[32m--> \u001b[39m\u001b[32m399\u001b[39m results = \u001b[43mparallel\u001b[49m\u001b[43m(\u001b[49m\n\u001b[32m    400\u001b[39m \u001b[43m    \u001b[49m\u001b[43mdelayed\u001b[49m\u001b[43m(\u001b[49m\u001b[43m_fit_and_score\u001b[49m\u001b[43m)\u001b[49m\u001b[43m(\u001b[49m\n\u001b[32m    401\u001b[39m \u001b[43m        \u001b[49m\u001b[43mclone\u001b[49m\u001b[43m(\u001b[49m\u001b[43mestimator\u001b[49m\u001b[43m)\u001b[49m\u001b[43m,\u001b[49m\n\u001b[32m    402\u001b[39m \u001b[43m        \u001b[49m\u001b[43mX\u001b[49m\u001b[43m,\u001b[49m\n\u001b[32m    403\u001b[39m \u001b[43m        \u001b[49m\u001b[43my\u001b[49m\u001b[43m,\u001b[49m\n\u001b[32m    404\u001b[39m \u001b[43m        \u001b[49m\u001b[43mscorer\u001b[49m\u001b[43m=\u001b[49m\u001b[43mscorers\u001b[49m\u001b[43m,\u001b[49m\n\u001b[32m    405\u001b[39m \u001b[43m        \u001b[49m\u001b[43mtrain\u001b[49m\u001b[43m=\u001b[49m\u001b[43mtrain\u001b[49m\u001b[43m,\u001b[49m\n\u001b[32m    406\u001b[39m \u001b[43m        \u001b[49m\u001b[43mtest\u001b[49m\u001b[43m=\u001b[49m\u001b[43mtest\u001b[49m\u001b[43m,\u001b[49m\n\u001b[32m    407\u001b[39m \u001b[43m        \u001b[49m\u001b[43mverbose\u001b[49m\u001b[43m=\u001b[49m\u001b[43mverbose\u001b[49m\u001b[43m,\u001b[49m\n\u001b[32m    408\u001b[39m \u001b[43m        \u001b[49m\u001b[43mparameters\u001b[49m\u001b[43m=\u001b[49m\u001b[38;5;28;43;01mNone\u001b[39;49;00m\u001b[43m,\u001b[49m\n\u001b[32m    409\u001b[39m \u001b[43m        \u001b[49m\u001b[43mfit_params\u001b[49m\u001b[43m=\u001b[49m\u001b[43mrouted_params\u001b[49m\u001b[43m.\u001b[49m\u001b[43mestimator\u001b[49m\u001b[43m.\u001b[49m\u001b[43mfit\u001b[49m\u001b[43m,\u001b[49m\n\u001b[32m    410\u001b[39m \u001b[43m        \u001b[49m\u001b[43mscore_params\u001b[49m\u001b[43m=\u001b[49m\u001b[43mrouted_params\u001b[49m\u001b[43m.\u001b[49m\u001b[43mscorer\u001b[49m\u001b[43m.\u001b[49m\u001b[43mscore\u001b[49m\u001b[43m,\u001b[49m\n\u001b[32m    411\u001b[39m \u001b[43m        \u001b[49m\u001b[43mreturn_train_score\u001b[49m\u001b[43m=\u001b[49m\u001b[43mreturn_train_score\u001b[49m\u001b[43m,\u001b[49m\n\u001b[32m    412\u001b[39m \u001b[43m        \u001b[49m\u001b[43mreturn_times\u001b[49m\u001b[43m=\u001b[49m\u001b[38;5;28;43;01mTrue\u001b[39;49;00m\u001b[43m,\u001b[49m\n\u001b[32m    413\u001b[39m \u001b[43m        \u001b[49m\u001b[43mreturn_estimator\u001b[49m\u001b[43m=\u001b[49m\u001b[43mreturn_estimator\u001b[49m\u001b[43m,\u001b[49m\n\u001b[32m    414\u001b[39m \u001b[43m        \u001b[49m\u001b[43merror_score\u001b[49m\u001b[43m=\u001b[49m\u001b[43merror_score\u001b[49m\u001b[43m,\u001b[49m\n\u001b[32m    415\u001b[39m \u001b[43m    \u001b[49m\u001b[43m)\u001b[49m\n\u001b[32m    416\u001b[39m \u001b[43m    \u001b[49m\u001b[38;5;28;43;01mfor\u001b[39;49;00m\u001b[43m \u001b[49m\u001b[43mtrain\u001b[49m\u001b[43m,\u001b[49m\u001b[43m \u001b[49m\u001b[43mtest\u001b[49m\u001b[43m \u001b[49m\u001b[38;5;129;43;01min\u001b[39;49;00m\u001b[43m \u001b[49m\u001b[43mindices\u001b[49m\n\u001b[32m    417\u001b[39m \u001b[43m\u001b[49m\u001b[43m)\u001b[49m\n\u001b[32m    419\u001b[39m _warn_or_raise_about_fit_failures(results, error_score)\n\u001b[32m    421\u001b[39m \u001b[38;5;66;03m# For callable scoring, the return type is only know after calling. If the\u001b[39;00m\n\u001b[32m    422\u001b[39m \u001b[38;5;66;03m# return type is a dictionary, the error scores can now be inserted with\u001b[39;00m\n\u001b[32m    423\u001b[39m \u001b[38;5;66;03m# the correct key.\u001b[39;00m\n",
            "\u001b[36mFile \u001b[39m\u001b[32me:\\Programacao\\LAPES\\EDA_ML_DL_PS\\LAPES-Data-Challenge-Predictive-Analytics-System\\Lib\\site-packages\\sklearn\\utils\\parallel.py:82\u001b[39m, in \u001b[36mParallel.__call__\u001b[39m\u001b[34m(self, iterable)\u001b[39m\n\u001b[32m     73\u001b[39m warning_filters = warnings.filters\n\u001b[32m     74\u001b[39m iterable_with_config_and_warning_filters = (\n\u001b[32m     75\u001b[39m     (\n\u001b[32m     76\u001b[39m         _with_config_and_warning_filters(delayed_func, config, warning_filters),\n\u001b[32m   (...)\u001b[39m\u001b[32m     80\u001b[39m     \u001b[38;5;28;01mfor\u001b[39;00m delayed_func, args, kwargs \u001b[38;5;129;01min\u001b[39;00m iterable\n\u001b[32m     81\u001b[39m )\n\u001b[32m---> \u001b[39m\u001b[32m82\u001b[39m \u001b[38;5;28;01mreturn\u001b[39;00m \u001b[38;5;28;43msuper\u001b[39;49m\u001b[43m(\u001b[49m\u001b[43m)\u001b[49m\u001b[43m.\u001b[49m\u001b[34;43m__call__\u001b[39;49m\u001b[43m(\u001b[49m\u001b[43miterable_with_config_and_warning_filters\u001b[49m\u001b[43m)\u001b[49m\n",
            "\u001b[36mFile \u001b[39m\u001b[32me:\\Programacao\\LAPES\\EDA_ML_DL_PS\\LAPES-Data-Challenge-Predictive-Analytics-System\\Lib\\site-packages\\joblib\\parallel.py:2072\u001b[39m, in \u001b[36mParallel.__call__\u001b[39m\u001b[34m(self, iterable)\u001b[39m\n\u001b[32m   2066\u001b[39m \u001b[38;5;66;03m# The first item from the output is blank, but it makes the interpreter\u001b[39;00m\n\u001b[32m   2067\u001b[39m \u001b[38;5;66;03m# progress until it enters the Try/Except block of the generator and\u001b[39;00m\n\u001b[32m   2068\u001b[39m \u001b[38;5;66;03m# reaches the first `yield` statement. This starts the asynchronous\u001b[39;00m\n\u001b[32m   2069\u001b[39m \u001b[38;5;66;03m# dispatch of the tasks to the workers.\u001b[39;00m\n\u001b[32m   2070\u001b[39m \u001b[38;5;28mnext\u001b[39m(output)\n\u001b[32m-> \u001b[39m\u001b[32m2072\u001b[39m \u001b[38;5;28;01mreturn\u001b[39;00m output \u001b[38;5;28;01mif\u001b[39;00m \u001b[38;5;28mself\u001b[39m.return_generator \u001b[38;5;28;01melse\u001b[39;00m \u001b[38;5;28;43mlist\u001b[39;49m\u001b[43m(\u001b[49m\u001b[43moutput\u001b[49m\u001b[43m)\u001b[49m\n",
            "\u001b[36mFile \u001b[39m\u001b[32me:\\Programacao\\LAPES\\EDA_ML_DL_PS\\LAPES-Data-Challenge-Predictive-Analytics-System\\Lib\\site-packages\\joblib\\parallel.py:1682\u001b[39m, in \u001b[36mParallel._get_outputs\u001b[39m\u001b[34m(self, iterator, pre_dispatch)\u001b[39m\n\u001b[32m   1679\u001b[39m     \u001b[38;5;28;01myield\u001b[39;00m\n\u001b[32m   1681\u001b[39m     \u001b[38;5;28;01mwith\u001b[39;00m \u001b[38;5;28mself\u001b[39m._backend.retrieval_context():\n\u001b[32m-> \u001b[39m\u001b[32m1682\u001b[39m         \u001b[38;5;28;01myield from\u001b[39;00m \u001b[38;5;28mself\u001b[39m._retrieve()\n\u001b[32m   1684\u001b[39m \u001b[38;5;28;01mexcept\u001b[39;00m \u001b[38;5;167;01mGeneratorExit\u001b[39;00m:\n\u001b[32m   1685\u001b[39m     \u001b[38;5;66;03m# The generator has been garbage collected before being fully\u001b[39;00m\n\u001b[32m   1686\u001b[39m     \u001b[38;5;66;03m# consumed. This aborts the remaining tasks if possible and warn\u001b[39;00m\n\u001b[32m   1687\u001b[39m     \u001b[38;5;66;03m# the user if necessary.\u001b[39;00m\n\u001b[32m   1688\u001b[39m     \u001b[38;5;28mself\u001b[39m._exception = \u001b[38;5;28;01mTrue\u001b[39;00m\n",
            "\u001b[36mFile \u001b[39m\u001b[32me:\\Programacao\\LAPES\\EDA_ML_DL_PS\\LAPES-Data-Challenge-Predictive-Analytics-System\\Lib\\site-packages\\joblib\\parallel.py:1800\u001b[39m, in \u001b[36mParallel._retrieve\u001b[39m\u001b[34m(self)\u001b[39m\n\u001b[32m   1789\u001b[39m \u001b[38;5;28;01mif\u001b[39;00m \u001b[38;5;28mself\u001b[39m.return_ordered:\n\u001b[32m   1790\u001b[39m     \u001b[38;5;66;03m# Case ordered: wait for completion (or error) of the next job\u001b[39;00m\n\u001b[32m   1791\u001b[39m     \u001b[38;5;66;03m# that have been dispatched and not retrieved yet. If no job\u001b[39;00m\n\u001b[32m   (...)\u001b[39m\u001b[32m   1795\u001b[39m     \u001b[38;5;66;03m# control only have to be done on the amount of time the next\u001b[39;00m\n\u001b[32m   1796\u001b[39m     \u001b[38;5;66;03m# dispatched job is pending.\u001b[39;00m\n\u001b[32m   1797\u001b[39m     \u001b[38;5;28;01mif\u001b[39;00m (nb_jobs == \u001b[32m0\u001b[39m) \u001b[38;5;129;01mor\u001b[39;00m (\n\u001b[32m   1798\u001b[39m         \u001b[38;5;28mself\u001b[39m._jobs[\u001b[32m0\u001b[39m].get_status(timeout=\u001b[38;5;28mself\u001b[39m.timeout) == TASK_PENDING\n\u001b[32m   1799\u001b[39m     ):\n\u001b[32m-> \u001b[39m\u001b[32m1800\u001b[39m         \u001b[43mtime\u001b[49m\u001b[43m.\u001b[49m\u001b[43msleep\u001b[49m\u001b[43m(\u001b[49m\u001b[32;43m0.01\u001b[39;49m\u001b[43m)\u001b[49m\n\u001b[32m   1801\u001b[39m         \u001b[38;5;28;01mcontinue\u001b[39;00m\n\u001b[32m   1803\u001b[39m \u001b[38;5;28;01melif\u001b[39;00m nb_jobs == \u001b[32m0\u001b[39m:\n\u001b[32m   1804\u001b[39m     \u001b[38;5;66;03m# Case unordered: jobs are added to the list of jobs to\u001b[39;00m\n\u001b[32m   1805\u001b[39m     \u001b[38;5;66;03m# retrieve `self._jobs` only once completed or in error, which\u001b[39;00m\n\u001b[32m   (...)\u001b[39m\u001b[32m   1811\u001b[39m     \u001b[38;5;66;03m# timeouts before any other dispatched job has completed and\u001b[39;00m\n\u001b[32m   1812\u001b[39m     \u001b[38;5;66;03m# been added to `self._jobs` to be retrieved.\u001b[39;00m\n",
            "\u001b[31mKeyboardInterrupt\u001b[39m: "
          ]
        }
      ],
      "source": [
        "# ⚙️ Random Forest model\n",
        "rf_clf = RandomForestClassifier(\n",
        "    n_estimators=100,\n",
        "    max_depth=None,\n",
        "    class_weight='balanced',  # Handle class imbalance\n",
        "    random_state=11037,\n",
        "    n_jobs=-1\n",
        ")\n",
        "\n",
        "# 📊 Evaluate model\n",
        "rf_cv_results = cross_validate(\n",
        "    rf_clf,\n",
        "    X_train,\n",
        "    y_train,\n",
        "    cv=cv,\n",
        "    scoring=scoring,\n",
        "    return_estimator=True,\n",
        "    n_jobs=-1\n",
        ")\n",
        "\n",
        "# 📄 Display mean CV scores\n",
        "for metric, scores in rf_cv_results.items():\n",
        "    if metric.startswith(\"test_\"):\n",
        "        print(f\"{metric}: {scores.mean():.6f}\")\n",
        "\n",
        "results_rand_tree_df = pd.DataFrame(rf_cv_results)\n"
      ]
    },
    {
      "cell_type": "code",
      "execution_count": null,
      "metadata": {
        "colab": {
          "base_uri": "https://localhost:8080/",
          "height": 303
        },
        "id": "uXLWafAbZXVm",
        "outputId": "e1dd4dbb-3ef8-4741-f49e-ca424271a04d"
      },
      "outputs": [
        {
          "data": {
            "application/vnd.microsoft.datawrangler.viewer.v0+json": {
              "columns": [
                {
                  "name": "index",
                  "rawType": "object",
                  "type": "string"
                },
                {
                  "name": "0",
                  "rawType": "float64",
                  "type": "float"
                }
              ],
              "ref": "c78a68a3-55f1-4a03-a981-1a97892cf696",
              "rows": [
                [
                  "test_accuracy",
                  "0.9994845360824742"
                ],
                [
                  "test_precision",
                  "0.9453073540925143"
                ],
                [
                  "test_recall",
                  "0.7327368421052631"
                ],
                [
                  "test_f1",
                  "0.8253888123911007"
                ],
                [
                  "test_roc_auc",
                  "0.9388623842562701"
                ],
                [
                  "test_pr_auc",
                  "0.8243140487201568"
                ],
                [
                  "test_balanced_accuracy",
                  "0.8663331168921147"
                ]
              ],
              "shape": {
                "columns": 1,
                "rows": 7
              }
            },
            "text/plain": [
              "test_accuracy             0.999485\n",
              "test_precision            0.945307\n",
              "test_recall               0.732737\n",
              "test_f1                   0.825389\n",
              "test_roc_auc              0.938862\n",
              "test_pr_auc               0.824314\n",
              "test_balanced_accuracy    0.866333\n",
              "dtype: float64"
            ]
          },
          "execution_count": 36,
          "metadata": {},
          "output_type": "execute_result"
        }
      ],
      "source": [
        "results_rand_tree_df = pd.DataFrame(rf_cv_results).mean(numeric_only=True)\n",
        "results_rand_tree_df.loc['test_accuracy':]"
      ]
    },
    {
      "cell_type": "code",
      "execution_count": 27,
      "metadata": {
        "colab": {
          "base_uri": "https://localhost:8080/",
          "height": 370
        },
        "id": "Pf3JkZ0cXs4A",
        "outputId": "98f4f02d-3851-428c-d71b-84472014ec83"
      },
      "outputs": [
        {
          "ename": "NameError",
          "evalue": "name 'plot_bar_metrics' is not defined",
          "output_type": "error",
          "traceback": [
            "\u001b[31m---------------------------------------------------------------------------\u001b[39m",
            "\u001b[31mNameError\u001b[39m                                 Traceback (most recent call last)",
            "\u001b[36mCell\u001b[39m\u001b[36m \u001b[39m\u001b[32mIn[27]\u001b[39m\u001b[32m, line 1\u001b[39m\n\u001b[32m----> \u001b[39m\u001b[32m1\u001b[39m \u001b[43mplot_bar_metrics\u001b[49m(results_rand_tree_df[\u001b[33m'\u001b[39m\u001b[33mtest_accuracy\u001b[39m\u001b[33m'\u001b[39m:])\n",
            "\u001b[31mNameError\u001b[39m: name 'plot_bar_metrics' is not defined"
          ]
        }
      ],
      "source": [
        "plot_bar_metrics(results_rand_tree_df['test_accuracy':])"
      ]
    },
    {
      "cell_type": "code",
      "execution_count": null,
      "metadata": {
        "colab": {
          "base_uri": "https://localhost:8080/",
          "height": 1000
        },
        "id": "sQ366KJVWsXV",
        "outputId": "79829f85-1a4c-4208-a29b-e4a0ef80c11c"
      },
      "outputs": [
        {
          "data": {
            "application/vnd.microsoft.datawrangler.viewer.v0+json": {
              "columns": [
                {
                  "name": "index",
                  "rawType": "object",
                  "type": "string"
                },
                {
                  "name": "0",
                  "rawType": "float64",
                  "type": "float"
                }
              ],
              "ref": "ecfeb706-afea-4348-ae30-26632ca56a24",
              "rows": [
                [
                  "v14",
                  "0.17065478414338067"
                ],
                [
                  "v10",
                  "0.1491086982297523"
                ],
                [
                  "v12",
                  "0.12883944624385416"
                ],
                [
                  "v4",
                  "0.10678848214775191"
                ],
                [
                  "v11",
                  "0.07392106236244202"
                ],
                [
                  "v17",
                  "0.06400754656812054"
                ],
                [
                  "v3",
                  "0.03533358999191901"
                ],
                [
                  "v16",
                  "0.033380905873883794"
                ],
                [
                  "v7",
                  "0.03297338181308739"
                ],
                [
                  "v21",
                  "0.02076397793022404"
                ],
                [
                  "v2",
                  "0.01968883314832405"
                ],
                [
                  "v19",
                  "0.01396501330714627"
                ],
                [
                  "v18",
                  "0.013448507149159484"
                ],
                [
                  "amount_scaled",
                  "0.012270862145038176"
                ],
                [
                  "v20",
                  "0.012179068193473457"
                ],
                [
                  "v8",
                  "0.010253013565227927"
                ],
                [
                  "v1",
                  "0.009848944289456294"
                ],
                [
                  "v5",
                  "0.009663793362278041"
                ],
                [
                  "v13",
                  "0.009015646789118526"
                ],
                [
                  "v9",
                  "0.008682734341090896"
                ],
                [
                  "v15",
                  "0.008311326360552226"
                ],
                [
                  "v26",
                  "0.008155368219886739"
                ],
                [
                  "v22",
                  "0.007096082152093138"
                ],
                [
                  "v6",
                  "0.006622585787237539"
                ],
                [
                  "v27",
                  "0.006470832651686617"
                ],
                [
                  "v23",
                  "0.006432346347499225"
                ],
                [
                  "v25",
                  "0.006125721267229626"
                ],
                [
                  "v28",
                  "0.0060551158778577455"
                ],
                [
                  "time_scaled",
                  "0.005303631924780404"
                ],
                [
                  "v24",
                  "0.004638697816447883"
                ]
              ],
              "shape": {
                "columns": 1,
                "rows": 30
              }
            },
            "text/plain": [
              "v14              0.170655\n",
              "v10              0.149109\n",
              "v12              0.128839\n",
              "v4               0.106788\n",
              "v11              0.073921\n",
              "v17              0.064008\n",
              "v3               0.035334\n",
              "v16              0.033381\n",
              "v7               0.032973\n",
              "v21              0.020764\n",
              "v2               0.019689\n",
              "v19              0.013965\n",
              "v18              0.013449\n",
              "amount_scaled    0.012271\n",
              "v20              0.012179\n",
              "v8               0.010253\n",
              "v1               0.009849\n",
              "v5               0.009664\n",
              "v13              0.009016\n",
              "v9               0.008683\n",
              "v15              0.008311\n",
              "v26              0.008155\n",
              "v22              0.007096\n",
              "v6               0.006623\n",
              "v27              0.006471\n",
              "v23              0.006432\n",
              "v25              0.006126\n",
              "v28              0.006055\n",
              "time_scaled      0.005304\n",
              "v24              0.004639\n",
              "dtype: float64"
            ]
          },
          "execution_count": 38,
          "metadata": {},
          "output_type": "execute_result"
        }
      ],
      "source": [
        "importances = np.mean(\n",
        "    [estimator.feature_importances_ for estimator in rf_cv_results['estimator']],\n",
        "    axis=0\n",
        ")\n",
        "\n",
        "# 📊 Sort and display\n",
        "feature_importances = pd.Series(importances, index=X_train.columns).sort_values(ascending=False)\n",
        "feature_importances"
      ]
    },
    {
      "cell_type": "code",
      "execution_count": null,
      "metadata": {
        "colab": {
          "base_uri": "https://localhost:8080/",
          "height": 516
        },
        "id": "uloRwzmdXIh-",
        "outputId": "f397de9f-aa39-43d5-cfcd-d1c55b53435d"
      },
      "outputs": [
        {
          "name": "stderr",
          "output_type": "stream",
          "text": [
            "C:\\Users\\José Victor\\AppData\\Local\\Temp\\ipykernel_17616\\1651492526.py:6: FutureWarning: \n",
            "\n",
            "Passing `palette` without assigning `hue` is deprecated and will be removed in v0.14.0. Assign the `y` variable to `hue` and set `legend=False` for the same effect.\n",
            "\n",
            "  sns.barplot(x=feature_importances.values, y=feature_importances.index, palette=\"viridis\")\n"
          ]
        },
        {
          "data": {
            "image/png": "[encoded data removed]",
            "text/plain": [
              "<Figure size 1000x600 with 1 Axes>"
            ]
          },
          "metadata": {},
          "output_type": "display_data"
        }
      ],
      "source": [
        "# 📉 Plot Feature Importances\n",
        "\n",
        "\n",
        "plt.figure(figsize=(10, 6))\n",
        "sns.barplot(x=feature_importances.values, y=feature_importances.index, palette=\"viridis\")\n",
        "plt.title(\"Random Forest Feature Importances\")\n",
        "plt.xlabel(\"Importance\")\n",
        "plt.ylabel(\"Feature\")\n",
        "plt.show()\n"
      ]
    },
    {
      "cell_type": "markdown",
      "metadata": {
        "id": "PCW_fsjNeu6D"
      },
      "source": [
        "## 🌲 Random Forest Feature Importances\n",
        "\n",
        "The analysis shows that a small subset of PCA-transformed features (notably V14, V10, V4, V12) carries most of the predictive signal for fraud detection. Features like `amount_scaled` have moderate importance, while `time_scaled` and several PCA features contribute little to model performance.\n",
        "\n",
        "This suggests that fraud is characterized by patterns concentrated in a few principal components. However, Random Forest’s robustness to irrelevant features allows us to retain all features for now.\n"
      ]
    },
    {
      "cell_type": "code",
      "execution_count": 55,
      "metadata": {},
      "outputs": [
        {
          "ename": "NameError",
          "evalue": "name 'feature_importances' is not defined",
          "output_type": "error",
          "traceback": [
            "\u001b[31m---------------------------------------------------------------------------\u001b[39m",
            "\u001b[31mNameError\u001b[39m                                 Traceback (most recent call last)",
            "\u001b[36mCell\u001b[39m\u001b[36m \u001b[39m\u001b[32mIn[55]\u001b[39m\u001b[32m, line 2\u001b[39m\n\u001b[32m      1\u001b[39m \u001b[38;5;66;03m# lets try to speed training up by limiting training to top 5\u001b[39;00m\n\u001b[32m----> \u001b[39m\u001b[32m2\u001b[39m features_to_use = \u001b[43mfeature_importances\u001b[49m.index[:\u001b[32m5\u001b[39m]\n",
            "\u001b[31mNameError\u001b[39m: name 'feature_importances' is not defined"
          ]
        }
      ],
      "source": [
        "# lets try to speed training up by limiting training to top 5\n",
        "features_to_use = feature_importances.index[:5]"
      ]
    },
    {
      "cell_type": "code",
      "execution_count": null,
      "metadata": {
        "colab": {
          "base_uri": "https://localhost:8080/"
        },
        "id": "_1a3fqVKoYQ4",
        "outputId": "50d80c9c-4ee7-49f4-931b-60af83b9f7cd"
      },
      "outputs": [
        {
          "name": "stdout",
          "output_type": "stream",
          "text": [
            "test_accuracy: 0.999454\n",
            "test_precision: 0.929168\n",
            "test_recall: 0.727368\n",
            "test_f1: 0.815330\n",
            "test_roc_auc: 0.932688\n",
            "test_pr_auc: 0.802445\n",
            "test_balanced_accuracy: 0.863638\n"
          ]
        }
      ],
      "source": [
        "# 📊 Evaluate model\n",
        "rf_quick_cv_results = cross_validate(\n",
        "    rf_clf,\n",
        "    X_train[features_to_use],\n",
        "    y_train,\n",
        "    cv=cv,\n",
        "    scoring=scoring,\n",
        "    return_estimator=True,\n",
        "    n_jobs=-1\n",
        ")\n",
        "\n",
        "# 📄 Display mean CV scores\n",
        "for metric, scores in rf_quick_cv_results.items():\n",
        "    if metric.startswith(\"test_\"):\n",
        "        print(f\"{metric}: {scores.mean():.6f}\")\n",
        "\n",
        "results_quick_rand_tree_df = pd.DataFrame(rf_quick_cv_results)\n"
      ]
    },
    {
      "cell_type": "code",
      "execution_count": null,
      "metadata": {
        "colab": {
          "base_uri": "https://localhost:8080/",
          "height": 303
        },
        "id": "V43tGpDEskVn",
        "outputId": "6f61d2e3-c583-4baa-c5d1-16adc51cf5f7"
      },
      "outputs": [
        {
          "data": {
            "application/vnd.microsoft.datawrangler.viewer.v0+json": {
              "columns": [
                {
                  "name": "index",
                  "rawType": "object",
                  "type": "string"
                },
                {
                  "name": "0",
                  "rawType": "float64",
                  "type": "float"
                }
              ],
              "ref": "6efd48f8-72d4-4097-b254-8d97dfb52576",
              "rows": [
                [
                  "test_accuracy",
                  "0.9994536963609129"
                ],
                [
                  "test_precision",
                  "0.9291682991598103"
                ],
                [
                  "test_recall",
                  "0.7273684210526314"
                ],
                [
                  "test_f1",
                  "0.815330372452942"
                ],
                [
                  "test_roc_auc",
                  "0.9326882965845529"
                ],
                [
                  "test_pr_auc",
                  "0.8024450052851007"
                ],
                [
                  "test_balanced_accuracy",
                  "0.8636378737091353"
                ]
              ],
              "shape": {
                "columns": 1,
                "rows": 7
              }
            },
            "text/plain": [
              "test_accuracy             0.999454\n",
              "test_precision            0.929168\n",
              "test_recall               0.727368\n",
              "test_f1                   0.815330\n",
              "test_roc_auc              0.932688\n",
              "test_pr_auc               0.802445\n",
              "test_balanced_accuracy    0.863638\n",
              "dtype: float64"
            ]
          },
          "execution_count": 41,
          "metadata": {},
          "output_type": "execute_result"
        }
      ],
      "source": [
        "results_quick_rand_tree_df = pd.DataFrame(rf_quick_cv_results).mean(numeric_only=True)\n",
        "results_quick_rand_tree_df.loc['test_accuracy':]"
      ]
    },
    {
      "cell_type": "code",
      "execution_count": null,
      "metadata": {
        "colab": {
          "base_uri": "https://localhost:8080/",
          "height": 370
        },
        "id": "CT3wavjSqeHc",
        "outputId": "594e44a3-9b8c-40f9-953b-5a990e8541bd"
      },
      "outputs": [
        {
          "data": {
            "image/png": "[encoded data removed]",
            "text/plain": [
              "<Figure size 1200x600 with 1 Axes>"
            ]
          },
          "metadata": {},
          "output_type": "display_data"
        }
      ],
      "source": [
        "#plotting the quick version\n",
        "plt.figure(figsize=(12, 6))\n",
        "\n",
        "# 📊 Bar plot for Random Forest metrics\n",
        "quick_rand_tree_scores_barplot = sns.barplot(data=results_quick_rand_tree_df.loc['test_accuracy':])\n",
        "\n",
        "# Annotate bars with their values\n",
        "for patch in quick_rand_tree_scores_barplot.patches:\n",
        "    height = patch.get_height()\n",
        "    quick_rand_tree_scores_barplot.annotate(\n",
        "        f'{height:.4f}',  # Format value\n",
        "        (patch.get_x() + patch.get_width() / 2, height),  # Center annotation\n",
        "        ha='center', va='bottom', fontsize=8, color='black'\n",
        "    )\n",
        "\n",
        "plt.title(\"Quick Random Forest Cross-Validation Scores\")\n",
        "plt.ylabel(\"Score\")\n",
        "plt.xlabel(\"Metrics\")\n",
        "plt.show()\n"
      ]
    },
    {
      "cell_type": "markdown",
      "metadata": {},
      "source": [
        "### Hyperparameter tuning with randomized search CV from sklearn\n"
      ]
    },
    {
      "cell_type": "code",
      "execution_count": 54,
      "metadata": {
        "id": "Ch6D1mUbf7NS"
      },
      "outputs": [
        {
          "ename": "NameError",
          "evalue": "name 'features_to_use' is not defined",
          "output_type": "error",
          "traceback": [
            "\u001b[31m---------------------------------------------------------------------------\u001b[39m",
            "\u001b[31mNameError\u001b[39m                                 Traceback (most recent call last)",
            "\u001b[36mCell\u001b[39m\u001b[36m \u001b[39m\u001b[32mIn[54]\u001b[39m\u001b[32m, line 17\u001b[39m\n\u001b[32m      1\u001b[39m param_dist = {\n\u001b[32m      2\u001b[39m     \u001b[33m\"\u001b[39m\u001b[33mn_estimators\u001b[39m\u001b[33m\"\u001b[39m: [\u001b[32m100\u001b[39m, \u001b[32m300\u001b[39m, \u001b[32m500\u001b[39m],\n\u001b[32m      3\u001b[39m     \u001b[33m\"\u001b[39m\u001b[33mmax_depth\u001b[39m\u001b[33m\"\u001b[39m: [\u001b[38;5;28;01mNone\u001b[39;00m, \u001b[32m10\u001b[39m, \u001b[32m20\u001b[39m, \u001b[32m30\u001b[39m],\n\u001b[32m      4\u001b[39m     \u001b[33m\"\u001b[39m\u001b[33mmin_samples_split\u001b[39m\u001b[33m\"\u001b[39m: [\u001b[32m2\u001b[39m, \u001b[32m5\u001b[39m, \u001b[32m10\u001b[39m],\n\u001b[32m      5\u001b[39m     \u001b[33m\"\u001b[39m\u001b[33mmax_features\u001b[39m\u001b[33m\"\u001b[39m: [\u001b[33m\"\u001b[39m\u001b[33msqrt\u001b[39m\u001b[33m\"\u001b[39m, \u001b[33m\"\u001b[39m\u001b[33mlog2\u001b[39m\u001b[33m\"\u001b[39m, \u001b[38;5;28;01mNone\u001b[39;00m],\n\u001b[32m      6\u001b[39m }\n\u001b[32m      8\u001b[39m rand_search = RandomizedSearchCV(\n\u001b[32m      9\u001b[39m     RandomForestClassifier(class_weight=\u001b[33m\"\u001b[39m\u001b[33mbalanced\u001b[39m\u001b[33m\"\u001b[39m, random_state=\u001b[32m11037\u001b[39m),\n\u001b[32m     10\u001b[39m     param_distributions=param_dist,\n\u001b[32m   (...)\u001b[39m\u001b[32m     15\u001b[39m     n_jobs=-\u001b[32m1\u001b[39m\n\u001b[32m     16\u001b[39m )\n\u001b[32m---> \u001b[39m\u001b[32m17\u001b[39m rand_search.fit(X_train[\u001b[43mfeatures_to_use\u001b[49m], y_train)\n",
            "\u001b[31mNameError\u001b[39m: name 'features_to_use' is not defined"
          ]
        }
      ],
      "source": [
        "\n",
        "\n",
        "param_dist = {\n",
        "    \"n_estimators\": [100, 300, 500],\n",
        "    \"max_depth\": [None, 10, 20, 30],\n",
        "    \"min_samples_split\": [2, 5, 10],\n",
        "    \"max_features\": [\"sqrt\", \"log2\", None],\n",
        "}\n",
        "\n",
        "rand_search = RandomizedSearchCV(\n",
        "    RandomForestClassifier(class_weight=\"balanced\", random_state=11037),\n",
        "    param_distributions=param_dist,\n",
        "    scoring='aasdad daucprr',\n",
        "    n_iter=10,\n",
        "    cv=cv,\n",
        "    random_state=11037,\n",
        "    n_jobs=-1\n",
        ")\n",
        "rand_search.fit(X_train[features_to_use], y_train)\n"
      ]
    },
    {
      "cell_type": "code",
      "execution_count": null,
      "metadata": {},
      "outputs": [
        {
          "name": "stdout",
          "output_type": "stream",
          "text": [
            "Best parameters: {'n_estimators': 300, 'min_samples_split': 5, 'max_features': 'sqrt', 'max_depth': None}\n",
            "F1_score for top model:  0.8204577619229511\n"
          ]
        }
      ],
      "source": [
        "print(\"Best parameters:\", rand_search.best_params_)\n",
        "print(\"F1_score for top model: \", rand_search.best_score_)"
      ]
    },
    {
      "cell_type": "code",
      "execution_count": null,
      "metadata": {},
      "outputs": [],
      "source": [
        "tuned_rf_model = RandomForestClassifier(\n",
        "    n_estimators=300,\n",
        "    min_samples_split=5,\n",
        "    max_features='sqrt',\n",
        "    max_depth=None,\n",
        "    random_state=11037,\n",
        "    class_weight='balanced',\n",
        "    n_jobs=-1\n",
        ")"
      ]
    },
    {
      "cell_type": "code",
      "execution_count": null,
      "metadata": {},
      "outputs": [],
      "source": [
        "# eval the model with CV\n",
        "\n",
        "tuned_rf_cv_results = cross_validate(\n",
        "    tuned_rf_model,\n",
        "    X_train,\n",
        "    y_train,\n",
        "    cv=cv,\n",
        "    scoring=scoring,\n",
        "    return_estimator=True,\n",
        "    n_jobs=-1\n",
        ")\n",
        "\n",
        "tuned_rf_results = pd.DataFrame(tuned_rf_cv_results).mean(numeric_only=True)"
      ]
    },
    {
      "cell_type": "code",
      "execution_count": null,
      "metadata": {},
      "outputs": [
        {
          "data": {
            "image/png": "[encoded data removed]",
            "text/plain": [
              "<Figure size 1200x600 with 1 Axes>"
            ]
          },
          "metadata": {},
          "output_type": "display_data"
        }
      ],
      "source": [
        "plt.figure(figsize=(12, 6))\n",
        "\n",
        "# 📊 Bar plot for Random Forest metrics\n",
        "rf_tuned_scores_barplot = sns.barplot(data=tuned_rf_results.loc['test_accuracy':])\n",
        "\n",
        "# Annotate bars with their values\n",
        "for patch in rf_tuned_scores_barplot.patches:\n",
        "    height = patch.get_height()\n",
        "    rf_tuned_scores_barplot.annotate(\n",
        "        f'{height:.4f}',  # Format value\n",
        "        (patch.get_x() + patch.get_width() / 2, height),  # Center annotation\n",
        "        ha='center', va='bottom', fontsize=8, color='black'\n",
        "    )\n",
        "\n",
        "plt.title(\"Tuned Random Forest Cross-Validation Scores\")\n",
        "plt.ylabel(\"Score\")\n",
        "plt.xlabel(\"Metrics\")\n",
        "plt.show()"
      ]
    },
    {
      "cell_type": "markdown",
      "metadata": {},
      "source": [
        "### Now that we have found the best hyperparameters, lets train our *final* model on the whole training data"
      ]
    },
    {
      "cell_type": "code",
      "execution_count": null,
      "metadata": {},
      "outputs": [],
      "source": [
        "final_rf_model = RandomForestClassifier(\n",
        "    n_estimators=300,\n",
        "    min_samples_split=5,\n",
        "    max_features='sqrt',\n",
        "    max_depth=None,\n",
        "    random_state=11037,\n",
        "    class_weight='balanced',\n",
        "    n_jobs=-1,\n",
        ")"
      ]
    },
    {
      "cell_type": "code",
      "execution_count": 99,
      "metadata": {},
      "outputs": [
        {
          "data": {
            "text/html": [
              "<style>#sk-container-id-1 {\n",
              "  /* Definition of color scheme common for light and dark mode */\n",
              "  --sklearn-color-text: #000;\n",
              "  --sklearn-color-text-muted: #666;\n",
              "  --sklearn-color-line: gray;\n",
              "  /* Definition of color scheme for unfitted estimators */\n",
              "  --sklearn-color-unfitted-level-0: #fff5e6;\n",
              "  --sklearn-color-unfitted-level-1: #f6e4d2;\n",
              "  --sklearn-color-unfitted-level-2: #ffe0b3;\n",
              "  --sklearn-color-unfitted-level-3: chocolate;\n",
              "  /* Definition of color scheme for fitted estimators */\n",
              "  --sklearn-color-fitted-level-0: #f0f8ff;\n",
              "  --sklearn-color-fitted-level-1: #d4ebff;\n",
              "  --sklearn-color-fitted-level-2: #b3dbfd;\n",
              "  --sklearn-color-fitted-level-3: cornflowerblue;\n",
              "\n",
              "  /* Specific color for light theme */\n",
              "  --sklearn-color-text-on-default-background: var(--sg-text-color, var(--theme-code-foreground, var(--jp-content-font-color1, black)));\n",
              "  --sklearn-color-background: var(--sg-background-color, var(--theme-background, var(--jp-layout-color0, white)));\n",
              "  --sklearn-color-border-box: var(--sg-text-color, var(--theme-code-foreground, var(--jp-content-font-color1, black)));\n",
              "  --sklearn-color-icon: #696969;\n",
              "\n",
              "  @media (prefers-color-scheme: dark) {\n",
              "    /* Redefinition of color scheme for dark theme */\n",
              "    --sklearn-color-text-on-default-background: var(--sg-text-color, var(--theme-code-foreground, var(--jp-content-font-color1, white)));\n",
              "    --sklearn-color-background: var(--sg-background-color, var(--theme-background, var(--jp-layout-color0, #111)));\n",
              "    --sklearn-color-border-box: var(--sg-text-color, var(--theme-code-foreground, var(--jp-content-font-color1, white)));\n",
              "    --sklearn-color-icon: #878787;\n",
              "  }\n",
              "}\n",
              "\n",
              "#sk-container-id-1 {\n",
              "  color: var(--sklearn-color-text);\n",
              "}\n",
              "\n",
              "#sk-container-id-1 pre {\n",
              "  padding: 0;\n",
              "}\n",
              "\n",
              "#sk-container-id-1 input.sk-hidden--visually {\n",
              "  border: 0;\n",
              "  clip: rect(1px 1px 1px 1px);\n",
              "  clip: rect(1px, 1px, 1px, 1px);\n",
              "  height: 1px;\n",
              "  margin: -1px;\n",
              "  overflow: hidden;\n",
              "  padding: 0;\n",
              "  position: absolute;\n",
              "  width: 1px;\n",
              "}\n",
              "\n",
              "#sk-container-id-1 div.sk-dashed-wrapped {\n",
              "  border: 1px dashed var(--sklearn-color-line);\n",
              "  margin: 0 0.4em 0.5em 0.4em;\n",
              "  box-sizing: border-box;\n",
              "  padding-bottom: 0.4em;\n",
              "  background-color: var(--sklearn-color-background);\n",
              "}\n",
              "\n",
              "#sk-container-id-1 div.sk-container {\n",
              "  /* jupyter's `normalize.less` sets `[hidden] { display: none; }`\n",
              "     but bootstrap.min.css set `[hidden] { display: none !important; }`\n",
              "     so we also need the `!important` here to be able to override the\n",
              "     default hidden behavior on the sphinx rendered scikit-learn.org.\n",
              "     See: https://github.com/scikit-learn/scikit-learn/issues/21755 */\n",
              "  display: inline-block !important;\n",
              "  position: relative;\n",
              "}\n",
              "\n",
              "#sk-container-id-1 div.sk-text-repr-fallback {\n",
              "  display: none;\n",
              "}\n",
              "\n",
              "div.sk-parallel-item,\n",
              "div.sk-serial,\n",
              "div.sk-item {\n",
              "  /* draw centered vertical line to link estimators */\n",
              "  background-image: linear-gradient(var(--sklearn-color-text-on-default-background), var(--sklearn-color-text-on-default-background));\n",
              "  background-size: 2px 100%;\n",
              "  background-repeat: no-repeat;\n",
              "  background-position: center center;\n",
              "}\n",
              "\n",
              "/* Parallel-specific style estimator block */\n",
              "\n",
              "#sk-container-id-1 div.sk-parallel-item::after {\n",
              "  content: \"\";\n",
              "  width: 100%;\n",
              "  border-bottom: 2px solid var(--sklearn-color-text-on-default-background);\n",
              "  flex-grow: 1;\n",
              "}\n",
              "\n",
              "#sk-container-id-1 div.sk-parallel {\n",
              "  display: flex;\n",
              "  align-items: stretch;\n",
              "  justify-content: center;\n",
              "  background-color: var(--sklearn-color-background);\n",
              "  position: relative;\n",
              "}\n",
              "\n",
              "#sk-container-id-1 div.sk-parallel-item {\n",
              "  display: flex;\n",
              "  flex-direction: column;\n",
              "}\n",
              "\n",
              "#sk-container-id-1 div.sk-parallel-item:first-child::after {\n",
              "  align-self: flex-end;\n",
              "  width: 50%;\n",
              "}\n",
              "\n",
              "#sk-container-id-1 div.sk-parallel-item:last-child::after {\n",
              "  align-self: flex-start;\n",
              "  width: 50%;\n",
              "}\n",
              "\n",
              "#sk-container-id-1 div.sk-parallel-item:only-child::after {\n",
              "  width: 0;\n",
              "}\n",
              "\n",
              "/* Serial-specific style estimator block */\n",
              "\n",
              "#sk-container-id-1 div.sk-serial {\n",
              "  display: flex;\n",
              "  flex-direction: column;\n",
              "  align-items: center;\n",
              "  background-color: var(--sklearn-color-background);\n",
              "  padding-right: 1em;\n",
              "  padding-left: 1em;\n",
              "}\n",
              "\n",
              "\n",
              "/* Toggleable style: style used for estimator/Pipeline/ColumnTransformer box that is\n",
              "clickable and can be expanded/collapsed.\n",
              "- Pipeline and ColumnTransformer use this feature and define the default style\n",
              "- Estimators will overwrite some part of the style using the `sk-estimator` class\n",
              "*/\n",
              "\n",
              "/* Pipeline and ColumnTransformer style (default) */\n",
              "\n",
              "#sk-container-id-1 div.sk-toggleable {\n",
              "  /* Default theme specific background. It is overwritten whether we have a\n",
              "  specific estimator or a Pipeline/ColumnTransformer */\n",
              "  background-color: var(--sklearn-color-background);\n",
              "}\n",
              "\n",
              "/* Toggleable label */\n",
              "#sk-container-id-1 label.sk-toggleable__label {\n",
              "  cursor: pointer;\n",
              "  display: flex;\n",
              "  width: 100%;\n",
              "  margin-bottom: 0;\n",
              "  padding: 0.5em;\n",
              "  box-sizing: border-box;\n",
              "  text-align: center;\n",
              "  align-items: start;\n",
              "  justify-content: space-between;\n",
              "  gap: 0.5em;\n",
              "}\n",
              "\n",
              "#sk-container-id-1 label.sk-toggleable__label .caption {\n",
              "  font-size: 0.6rem;\n",
              "  font-weight: lighter;\n",
              "  color: var(--sklearn-color-text-muted);\n",
              "}\n",
              "\n",
              "#sk-container-id-1 label.sk-toggleable__label-arrow:before {\n",
              "  /* Arrow on the left of the label */\n",
              "  content: \"▸\";\n",
              "  float: left;\n",
              "  margin-right: 0.25em;\n",
              "  color: var(--sklearn-color-icon);\n",
              "}\n",
              "\n",
              "#sk-container-id-1 label.sk-toggleable__label-arrow:hover:before {\n",
              "  color: var(--sklearn-color-text);\n",
              "}\n",
              "\n",
              "/* Toggleable content - dropdown */\n",
              "\n",
              "#sk-container-id-1 div.sk-toggleable__content {\n",
              "  display: none;\n",
              "  text-align: left;\n",
              "  /* unfitted */\n",
              "  background-color: var(--sklearn-color-unfitted-level-0);\n",
              "}\n",
              "\n",
              "#sk-container-id-1 div.sk-toggleable__content.fitted {\n",
              "  /* fitted */\n",
              "  background-color: var(--sklearn-color-fitted-level-0);\n",
              "}\n",
              "\n",
              "#sk-container-id-1 div.sk-toggleable__content pre {\n",
              "  margin: 0.2em;\n",
              "  border-radius: 0.25em;\n",
              "  color: var(--sklearn-color-text);\n",
              "  /* unfitted */\n",
              "  background-color: var(--sklearn-color-unfitted-level-0);\n",
              "}\n",
              "\n",
              "#sk-container-id-1 div.sk-toggleable__content.fitted pre {\n",
              "  /* unfitted */\n",
              "  background-color: var(--sklearn-color-fitted-level-0);\n",
              "}\n",
              "\n",
              "#sk-container-id-1 input.sk-toggleable__control:checked~div.sk-toggleable__content {\n",
              "  /* Expand drop-down */\n",
              "  display: block;\n",
              "  width: 100%;\n",
              "  overflow: visible;\n",
              "}\n",
              "\n",
              "#sk-container-id-1 input.sk-toggleable__control:checked~label.sk-toggleable__label-arrow:before {\n",
              "  content: \"▾\";\n",
              "}\n",
              "\n",
              "/* Pipeline/ColumnTransformer-specific style */\n",
              "\n",
              "#sk-container-id-1 div.sk-label input.sk-toggleable__control:checked~label.sk-toggleable__label {\n",
              "  color: var(--sklearn-color-text);\n",
              "  background-color: var(--sklearn-color-unfitted-level-2);\n",
              "}\n",
              "\n",
              "#sk-container-id-1 div.sk-label.fitted input.sk-toggleable__control:checked~label.sk-toggleable__label {\n",
              "  background-color: var(--sklearn-color-fitted-level-2);\n",
              "}\n",
              "\n",
              "/* Estimator-specific style */\n",
              "\n",
              "/* Colorize estimator box */\n",
              "#sk-container-id-1 div.sk-estimator input.sk-toggleable__control:checked~label.sk-toggleable__label {\n",
              "  /* unfitted */\n",
              "  background-color: var(--sklearn-color-unfitted-level-2);\n",
              "}\n",
              "\n",
              "#sk-container-id-1 div.sk-estimator.fitted input.sk-toggleable__control:checked~label.sk-toggleable__label {\n",
              "  /* fitted */\n",
              "  background-color: var(--sklearn-color-fitted-level-2);\n",
              "}\n",
              "\n",
              "#sk-container-id-1 div.sk-label label.sk-toggleable__label,\n",
              "#sk-container-id-1 div.sk-label label {\n",
              "  /* The background is the default theme color */\n",
              "  color: var(--sklearn-color-text-on-default-background);\n",
              "}\n",
              "\n",
              "/* On hover, darken the color of the background */\n",
              "#sk-container-id-1 div.sk-label:hover label.sk-toggleable__label {\n",
              "  color: var(--sklearn-color-text);\n",
              "  background-color: var(--sklearn-color-unfitted-level-2);\n",
              "}\n",
              "\n",
              "/* Label box, darken color on hover, fitted */\n",
              "#sk-container-id-1 div.sk-label.fitted:hover label.sk-toggleable__label.fitted {\n",
              "  color: var(--sklearn-color-text);\n",
              "  background-color: var(--sklearn-color-fitted-level-2);\n",
              "}\n",
              "\n",
              "/* Estimator label */\n",
              "\n",
              "#sk-container-id-1 div.sk-label label {\n",
              "  font-family: monospace;\n",
              "  font-weight: bold;\n",
              "  display: inline-block;\n",
              "  line-height: 1.2em;\n",
              "}\n",
              "\n",
              "#sk-container-id-1 div.sk-label-container {\n",
              "  text-align: center;\n",
              "}\n",
              "\n",
              "/* Estimator-specific */\n",
              "#sk-container-id-1 div.sk-estimator {\n",
              "  font-family: monospace;\n",
              "  border: 1px dotted var(--sklearn-color-border-box);\n",
              "  border-radius: 0.25em;\n",
              "  box-sizing: border-box;\n",
              "  margin-bottom: 0.5em;\n",
              "  /* unfitted */\n",
              "  background-color: var(--sklearn-color-unfitted-level-0);\n",
              "}\n",
              "\n",
              "#sk-container-id-1 div.sk-estimator.fitted {\n",
              "  /* fitted */\n",
              "  background-color: var(--sklearn-color-fitted-level-0);\n",
              "}\n",
              "\n",
              "/* on hover */\n",
              "#sk-container-id-1 div.sk-estimator:hover {\n",
              "  /* unfitted */\n",
              "  background-color: var(--sklearn-color-unfitted-level-2);\n",
              "}\n",
              "\n",
              "#sk-container-id-1 div.sk-estimator.fitted:hover {\n",
              "  /* fitted */\n",
              "  background-color: var(--sklearn-color-fitted-level-2);\n",
              "}\n",
              "\n",
              "/* Specification for estimator info (e.g. \"i\" and \"?\") */\n",
              "\n",
              "/* Common style for \"i\" and \"?\" */\n",
              "\n",
              ".sk-estimator-doc-link,\n",
              "a:link.sk-estimator-doc-link,\n",
              "a:visited.sk-estimator-doc-link {\n",
              "  float: right;\n",
              "  font-size: smaller;\n",
              "  line-height: 1em;\n",
              "  font-family: monospace;\n",
              "  background-color: var(--sklearn-color-background);\n",
              "  border-radius: 1em;\n",
              "  height: 1em;\n",
              "  width: 1em;\n",
              "  text-decoration: none !important;\n",
              "  margin-left: 0.5em;\n",
              "  text-align: center;\n",
              "  /* unfitted */\n",
              "  border: var(--sklearn-color-unfitted-level-1) 1pt solid;\n",
              "  color: var(--sklearn-color-unfitted-level-1);\n",
              "}\n",
              "\n",
              ".sk-estimator-doc-link.fitted,\n",
              "a:link.sk-estimator-doc-link.fitted,\n",
              "a:visited.sk-estimator-doc-link.fitted {\n",
              "  /* fitted */\n",
              "  border: var(--sklearn-color-fitted-level-1) 1pt solid;\n",
              "  color: var(--sklearn-color-fitted-level-1);\n",
              "}\n",
              "\n",
              "/* On hover */\n",
              "div.sk-estimator:hover .sk-estimator-doc-link:hover,\n",
              ".sk-estimator-doc-link:hover,\n",
              "div.sk-label-container:hover .sk-estimator-doc-link:hover,\n",
              ".sk-estimator-doc-link:hover {\n",
              "  /* unfitted */\n",
              "  background-color: var(--sklearn-color-unfitted-level-3);\n",
              "  color: var(--sklearn-color-background);\n",
              "  text-decoration: none;\n",
              "}\n",
              "\n",
              "div.sk-estimator.fitted:hover .sk-estimator-doc-link.fitted:hover,\n",
              ".sk-estimator-doc-link.fitted:hover,\n",
              "div.sk-label-container:hover .sk-estimator-doc-link.fitted:hover,\n",
              ".sk-estimator-doc-link.fitted:hover {\n",
              "  /* fitted */\n",
              "  background-color: var(--sklearn-color-fitted-level-3);\n",
              "  color: var(--sklearn-color-background);\n",
              "  text-decoration: none;\n",
              "}\n",
              "\n",
              "/* Span, style for the box shown on hovering the info icon */\n",
              ".sk-estimator-doc-link span {\n",
              "  display: none;\n",
              "  z-index: 9999;\n",
              "  position: relative;\n",
              "  font-weight: normal;\n",
              "  right: .2ex;\n",
              "  padding: .5ex;\n",
              "  margin: .5ex;\n",
              "  width: min-content;\n",
              "  min-width: 20ex;\n",
              "  max-width: 50ex;\n",
              "  color: var(--sklearn-color-text);\n",
              "  box-shadow: 2pt 2pt 4pt #999;\n",
              "  /* unfitted */\n",
              "  background: var(--sklearn-color-unfitted-level-0);\n",
              "  border: .5pt solid var(--sklearn-color-unfitted-level-3);\n",
              "}\n",
              "\n",
              ".sk-estimator-doc-link.fitted span {\n",
              "  /* fitted */\n",
              "  background: var(--sklearn-color-fitted-level-0);\n",
              "  border: var(--sklearn-color-fitted-level-3);\n",
              "}\n",
              "\n",
              ".sk-estimator-doc-link:hover span {\n",
              "  display: block;\n",
              "}\n",
              "\n",
              "/* \"?\"-specific style due to the `<a>` HTML tag */\n",
              "\n",
              "#sk-container-id-1 a.estimator_doc_link {\n",
              "  float: right;\n",
              "  font-size: 1rem;\n",
              "  line-height: 1em;\n",
              "  font-family: monospace;\n",
              "  background-color: var(--sklearn-color-background);\n",
              "  border-radius: 1rem;\n",
              "  height: 1rem;\n",
              "  width: 1rem;\n",
              "  text-decoration: none;\n",
              "  /* unfitted */\n",
              "  color: var(--sklearn-color-unfitted-level-1);\n",
              "  border: var(--sklearn-color-unfitted-level-1) 1pt solid;\n",
              "}\n",
              "\n",
              "#sk-container-id-1 a.estimator_doc_link.fitted {\n",
              "  /* fitted */\n",
              "  border: var(--sklearn-color-fitted-level-1) 1pt solid;\n",
              "  color: var(--sklearn-color-fitted-level-1);\n",
              "}\n",
              "\n",
              "/* On hover */\n",
              "#sk-container-id-1 a.estimator_doc_link:hover {\n",
              "  /* unfitted */\n",
              "  background-color: var(--sklearn-color-unfitted-level-3);\n",
              "  color: var(--sklearn-color-background);\n",
              "  text-decoration: none;\n",
              "}\n",
              "\n",
              "#sk-container-id-1 a.estimator_doc_link.fitted:hover {\n",
              "  /* fitted */\n",
              "  background-color: var(--sklearn-color-fitted-level-3);\n",
              "}\n",
              "\n",
              ".estimator-table summary {\n",
              "    padding: .5rem;\n",
              "    font-family: monospace;\n",
              "    cursor: pointer;\n",
              "}\n",
              "\n",
              ".estimator-table details[open] {\n",
              "    padding-left: 0.1rem;\n",
              "    padding-right: 0.1rem;\n",
              "    padding-bottom: 0.3rem;\n",
              "}\n",
              "\n",
              ".estimator-table .parameters-table {\n",
              "    margin-left: auto !important;\n",
              "    margin-right: auto !important;\n",
              "}\n",
              "\n",
              ".estimator-table .parameters-table tr:nth-child(odd) {\n",
              "    background-color: #fff;\n",
              "}\n",
              "\n",
              ".estimator-table .parameters-table tr:nth-child(even) {\n",
              "    background-color: #f6f6f6;\n",
              "}\n",
              "\n",
              ".estimator-table .parameters-table tr:hover {\n",
              "    background-color: #e0e0e0;\n",
              "}\n",
              "\n",
              ".estimator-table table td {\n",
              "    border: 1px solid rgba(106, 105, 104, 0.232);\n",
              "}\n",
              "\n",
              ".user-set td {\n",
              "    color:rgb(255, 94, 0);\n",
              "    text-align: left;\n",
              "}\n",
              "\n",
              ".user-set td.value pre {\n",
              "    color:rgb(255, 94, 0) !important;\n",
              "    background-color: transparent !important;\n",
              "}\n",
              "\n",
              ".default td {\n",
              "    color: black;\n",
              "    text-align: left;\n",
              "}\n",
              "\n",
              ".user-set td i,\n",
              ".default td i {\n",
              "    color: black;\n",
              "}\n",
              "\n",
              ".copy-paste-icon {\n",
              "    background-image: url(data:image/svg+xml;base64,PHN2ZyB4bWxucz0iaHR0cDovL3d3dy53My5vcmcvMjAwMC9zdmciIHZpZXdCb3g9IjAgMCA0NDggNTEyIj48IS0tIUZvbnQgQXdlc29tZSBGcmVlIDYuNy4yIGJ5IEBmb250YXdlc29tZSAtIGh0dHBzOi8vZm9udGF3ZXNvbWUuY29tIExpY2Vuc2UgLSBodHRwczovL2ZvbnRhd2Vzb21lLmNvbS9saWNlbnNlL2ZyZWUgQ29weXJpZ2h0IDIwMjUgRm9udGljb25zLCBJbmMuLS0+PHBhdGggZD0iTTIwOCAwTDMzMi4xIDBjMTIuNyAwIDI0LjkgNS4xIDMzLjkgMTQuMWw2Ny45IDY3LjljOSA5IDE0LjEgMjEuMiAxNC4xIDMzLjlMNDQ4IDMzNmMwIDI2LjUtMjEuNSA0OC00OCA0OGwtMTkyIDBjLTI2LjUgMC00OC0yMS41LTQ4LTQ4bDAtMjg4YzAtMjYuNSAyMS41LTQ4IDQ4LTQ4ek00OCAxMjhsODAgMCAwIDY0LTY0IDAgMCAyNTYgMTkyIDAgMC0zMiA2NCAwIDAgNDhjMCAyNi41LTIxLjUgNDgtNDggNDhMNDggNTEyYy0yNi41IDAtNDgtMjEuNS00OC00OEwwIDE3NmMwLTI2LjUgMjEuNS00OCA0OC00OHoiLz48L3N2Zz4=);\n",
              "    background-repeat: no-repeat;\n",
              "    background-size: 14px 14px;\n",
              "    background-position: 0;\n",
              "    display: inline-block;\n",
              "    width: 14px;\n",
              "    height: 14px;\n",
              "    cursor: pointer;\n",
              "}\n",
              "</style><body><div id=\"sk-container-id-1\" class=\"sk-top-container\"><div class=\"sk-text-repr-fallback\"><pre>RandomForestClassifier(class_weight=&#x27;balanced&#x27;, min_samples_split=5,\n",
              "                       n_estimators=300, n_jobs=-1, random_state=11037)</pre><b>In a Jupyter environment, please rerun this cell to show the HTML representation or trust the notebook. <br />On GitHub, the HTML representation is unable to render, please try loading this page with nbviewer.org.</b></div><div class=\"sk-container\" hidden><div class=\"sk-item\"><div class=\"sk-estimator fitted sk-toggleable\"><input class=\"sk-toggleable__control sk-hidden--visually\" id=\"sk-estimator-id-1\" type=\"checkbox\" checked><label for=\"sk-estimator-id-1\" class=\"sk-toggleable__label fitted sk-toggleable__label-arrow\"><div><div>RandomForestClassifier</div></div><div><a class=\"sk-estimator-doc-link fitted\" rel=\"noreferrer\" target=\"_blank\" href=\"https://scikit-learn.org/1.7/modules/generated/sklearn.ensemble.RandomForestClassifier.html\">?<span>Documentation for RandomForestClassifier</span></a><span class=\"sk-estimator-doc-link fitted\">i<span>Fitted</span></span></div></label><div class=\"sk-toggleable__content fitted\" data-param-prefix=\"\">\n",
              "        <div class=\"estimator-table\">\n",
              "            <details>\n",
              "                <summary>Parameters</summary>\n",
              "                <table class=\"parameters-table\">\n",
              "                  <tbody>\n",
              "                    \n",
              "        <tr class=\"user-set\">\n",
              "            <td><i class=\"copy-paste-icon\"\n",
              "                 onclick=\"copyToClipboard('n_estimators',\n",
              "                          this.parentElement.nextElementSibling)\"\n",
              "            ></i></td>\n",
              "            <td class=\"param\">n_estimators&nbsp;</td>\n",
              "            <td class=\"value\">300</td>\n",
              "        </tr>\n",
              "    \n",
              "\n",
              "        <tr class=\"default\">\n",
              "            <td><i class=\"copy-paste-icon\"\n",
              "                 onclick=\"copyToClipboard('criterion',\n",
              "                          this.parentElement.nextElementSibling)\"\n",
              "            ></i></td>\n",
              "            <td class=\"param\">criterion&nbsp;</td>\n",
              "            <td class=\"value\">&#x27;gini&#x27;</td>\n",
              "        </tr>\n",
              "    \n",
              "\n",
              "        <tr class=\"default\">\n",
              "            <td><i class=\"copy-paste-icon\"\n",
              "                 onclick=\"copyToClipboard('max_depth',\n",
              "                          this.parentElement.nextElementSibling)\"\n",
              "            ></i></td>\n",
              "            <td class=\"param\">max_depth&nbsp;</td>\n",
              "            <td class=\"value\">None</td>\n",
              "        </tr>\n",
              "    \n",
              "\n",
              "        <tr class=\"user-set\">\n",
              "            <td><i class=\"copy-paste-icon\"\n",
              "                 onclick=\"copyToClipboard('min_samples_split',\n",
              "                          this.parentElement.nextElementSibling)\"\n",
              "            ></i></td>\n",
              "            <td class=\"param\">min_samples_split&nbsp;</td>\n",
              "            <td class=\"value\">5</td>\n",
              "        </tr>\n",
              "    \n",
              "\n",
              "        <tr class=\"default\">\n",
              "            <td><i class=\"copy-paste-icon\"\n",
              "                 onclick=\"copyToClipboard('min_samples_leaf',\n",
              "                          this.parentElement.nextElementSibling)\"\n",
              "            ></i></td>\n",
              "            <td class=\"param\">min_samples_leaf&nbsp;</td>\n",
              "            <td class=\"value\">1</td>\n",
              "        </tr>\n",
              "    \n",
              "\n",
              "        <tr class=\"default\">\n",
              "            <td><i class=\"copy-paste-icon\"\n",
              "                 onclick=\"copyToClipboard('min_weight_fraction_leaf',\n",
              "                          this.parentElement.nextElementSibling)\"\n",
              "            ></i></td>\n",
              "            <td class=\"param\">min_weight_fraction_leaf&nbsp;</td>\n",
              "            <td class=\"value\">0.0</td>\n",
              "        </tr>\n",
              "    \n",
              "\n",
              "        <tr class=\"default\">\n",
              "            <td><i class=\"copy-paste-icon\"\n",
              "                 onclick=\"copyToClipboard('max_features',\n",
              "                          this.parentElement.nextElementSibling)\"\n",
              "            ></i></td>\n",
              "            <td class=\"param\">max_features&nbsp;</td>\n",
              "            <td class=\"value\">&#x27;sqrt&#x27;</td>\n",
              "        </tr>\n",
              "    \n",
              "\n",
              "        <tr class=\"default\">\n",
              "            <td><i class=\"copy-paste-icon\"\n",
              "                 onclick=\"copyToClipboard('max_leaf_nodes',\n",
              "                          this.parentElement.nextElementSibling)\"\n",
              "            ></i></td>\n",
              "            <td class=\"param\">max_leaf_nodes&nbsp;</td>\n",
              "            <td class=\"value\">None</td>\n",
              "        </tr>\n",
              "    \n",
              "\n",
              "        <tr class=\"default\">\n",
              "            <td><i class=\"copy-paste-icon\"\n",
              "                 onclick=\"copyToClipboard('min_impurity_decrease',\n",
              "                          this.parentElement.nextElementSibling)\"\n",
              "            ></i></td>\n",
              "            <td class=\"param\">min_impurity_decrease&nbsp;</td>\n",
              "            <td class=\"value\">0.0</td>\n",
              "        </tr>\n",
              "    \n",
              "\n",
              "        <tr class=\"default\">\n",
              "            <td><i class=\"copy-paste-icon\"\n",
              "                 onclick=\"copyToClipboard('bootstrap',\n",
              "                          this.parentElement.nextElementSibling)\"\n",
              "            ></i></td>\n",
              "            <td class=\"param\">bootstrap&nbsp;</td>\n",
              "            <td class=\"value\">True</td>\n",
              "        </tr>\n",
              "    \n",
              "\n",
              "        <tr class=\"default\">\n",
              "            <td><i class=\"copy-paste-icon\"\n",
              "                 onclick=\"copyToClipboard('oob_score',\n",
              "                          this.parentElement.nextElementSibling)\"\n",
              "            ></i></td>\n",
              "            <td class=\"param\">oob_score&nbsp;</td>\n",
              "            <td class=\"value\">False</td>\n",
              "        </tr>\n",
              "    \n",
              "\n",
              "        <tr class=\"user-set\">\n",
              "            <td><i class=\"copy-paste-icon\"\n",
              "                 onclick=\"copyToClipboard('n_jobs',\n",
              "                          this.parentElement.nextElementSibling)\"\n",
              "            ></i></td>\n",
              "            <td class=\"param\">n_jobs&nbsp;</td>\n",
              "            <td class=\"value\">-1</td>\n",
              "        </tr>\n",
              "    \n",
              "\n",
              "        <tr class=\"user-set\">\n",
              "            <td><i class=\"copy-paste-icon\"\n",
              "                 onclick=\"copyToClipboard('random_state',\n",
              "                          this.parentElement.nextElementSibling)\"\n",
              "            ></i></td>\n",
              "            <td class=\"param\">random_state&nbsp;</td>\n",
              "            <td class=\"value\">11037</td>\n",
              "        </tr>\n",
              "    \n",
              "\n",
              "        <tr class=\"default\">\n",
              "            <td><i class=\"copy-paste-icon\"\n",
              "                 onclick=\"copyToClipboard('verbose',\n",
              "                          this.parentElement.nextElementSibling)\"\n",
              "            ></i></td>\n",
              "            <td class=\"param\">verbose&nbsp;</td>\n",
              "            <td class=\"value\">0</td>\n",
              "        </tr>\n",
              "    \n",
              "\n",
              "        <tr class=\"default\">\n",
              "            <td><i class=\"copy-paste-icon\"\n",
              "                 onclick=\"copyToClipboard('warm_start',\n",
              "                          this.parentElement.nextElementSibling)\"\n",
              "            ></i></td>\n",
              "            <td class=\"param\">warm_start&nbsp;</td>\n",
              "            <td class=\"value\">False</td>\n",
              "        </tr>\n",
              "    \n",
              "\n",
              "        <tr class=\"user-set\">\n",
              "            <td><i class=\"copy-paste-icon\"\n",
              "                 onclick=\"copyToClipboard('class_weight',\n",
              "                          this.parentElement.nextElementSibling)\"\n",
              "            ></i></td>\n",
              "            <td class=\"param\">class_weight&nbsp;</td>\n",
              "            <td class=\"value\">&#x27;balanced&#x27;</td>\n",
              "        </tr>\n",
              "    \n",
              "\n",
              "        <tr class=\"default\">\n",
              "            <td><i class=\"copy-paste-icon\"\n",
              "                 onclick=\"copyToClipboard('ccp_alpha',\n",
              "                          this.parentElement.nextElementSibling)\"\n",
              "            ></i></td>\n",
              "            <td class=\"param\">ccp_alpha&nbsp;</td>\n",
              "            <td class=\"value\">0.0</td>\n",
              "        </tr>\n",
              "    \n",
              "\n",
              "        <tr class=\"default\">\n",
              "            <td><i class=\"copy-paste-icon\"\n",
              "                 onclick=\"copyToClipboard('max_samples',\n",
              "                          this.parentElement.nextElementSibling)\"\n",
              "            ></i></td>\n",
              "            <td class=\"param\">max_samples&nbsp;</td>\n",
              "            <td class=\"value\">None</td>\n",
              "        </tr>\n",
              "    \n",
              "\n",
              "        <tr class=\"default\">\n",
              "            <td><i class=\"copy-paste-icon\"\n",
              "                 onclick=\"copyToClipboard('monotonic_cst',\n",
              "                          this.parentElement.nextElementSibling)\"\n",
              "            ></i></td>\n",
              "            <td class=\"param\">monotonic_cst&nbsp;</td>\n",
              "            <td class=\"value\">None</td>\n",
              "        </tr>\n",
              "    \n",
              "                  </tbody>\n",
              "                </table>\n",
              "            </details>\n",
              "        </div>\n",
              "    </div></div></div></div></div><script>function copyToClipboard(text, element) {\n",
              "    // Get the parameter prefix from the closest toggleable content\n",
              "    const toggleableContent = element.closest('.sk-toggleable__content');\n",
              "    const paramPrefix = toggleableContent ? toggleableContent.dataset.paramPrefix : '';\n",
              "    const fullParamName = paramPrefix ? `${paramPrefix}${text}` : text;\n",
              "\n",
              "    const originalStyle = element.style;\n",
              "    const computedStyle = window.getComputedStyle(element);\n",
              "    const originalWidth = computedStyle.width;\n",
              "    const originalHTML = element.innerHTML.replace('Copied!', '');\n",
              "\n",
              "    navigator.clipboard.writeText(fullParamName)\n",
              "        .then(() => {\n",
              "            element.style.width = originalWidth;\n",
              "            element.style.color = 'green';\n",
              "            element.innerHTML = \"Copied!\";\n",
              "\n",
              "            setTimeout(() => {\n",
              "                element.innerHTML = originalHTML;\n",
              "                element.style = originalStyle;\n",
              "            }, 2000);\n",
              "        })\n",
              "        .catch(err => {\n",
              "            console.error('Failed to copy:', err);\n",
              "            element.style.color = 'red';\n",
              "            element.innerHTML = \"Failed!\";\n",
              "            setTimeout(() => {\n",
              "                element.innerHTML = originalHTML;\n",
              "                element.style = originalStyle;\n",
              "            }, 2000);\n",
              "        });\n",
              "    return false;\n",
              "}\n",
              "\n",
              "document.querySelectorAll('.fa-regular.fa-copy').forEach(function(element) {\n",
              "    const toggleableContent = element.closest('.sk-toggleable__content');\n",
              "    const paramPrefix = toggleableContent ? toggleableContent.dataset.paramPrefix : '';\n",
              "    const paramName = element.parentElement.nextElementSibling.textContent.trim();\n",
              "    const fullParamName = paramPrefix ? `${paramPrefix}${paramName}` : paramName;\n",
              "\n",
              "    element.setAttribute('title', fullParamName);\n",
              "});\n",
              "</script></body>"
            ],
            "text/plain": [
              "RandomForestClassifier(class_weight='balanced', min_samples_split=5,\n",
              "                       n_estimators=300, n_jobs=-1, random_state=11037)"
            ]
          },
          "execution_count": 99,
          "metadata": {},
          "output_type": "execute_result"
        }
      ],
      "source": [
        "# train the model on the training data\n",
        "final_rf_model.fit(X_train,y_train)"
      ]
    },
    {
      "cell_type": "code",
      "execution_count": 113,
      "metadata": {},
      "outputs": [],
      "source": [
        "filename = Path.cwd().parent / 'models' / 'final_rf_model.pkl'\n",
        "final_rf_model = joblib.load(filename=filename)"
      ]
    },
    {
      "cell_type": "code",
      "execution_count": 195,
      "metadata": {},
      "outputs": [
        {
          "data": {
            "image/png": "[encoded data removed]",
            "text/plain": [
              "<Figure size 640x480 with 1 Axes>"
            ]
          },
          "metadata": {},
          "output_type": "display_data"
        }
      ],
      "source": [
        "RocCurveDisplay.from_estimator(final_rf_model, X_test, y_test)\n",
        "plt.title('Random Forest ROC curve')\n",
        "plt.show()"
      ]
    },
    {
      "cell_type": "code",
      "execution_count": 192,
      "metadata": {},
      "outputs": [
        {
          "name": "stdout",
          "output_type": "stream",
          "text": [
            "[[56646     5]\n",
            " [   23    72]]\n"
          ]
        },
        {
          "data": {
            "image/png": "[encoded data removed]",
            "text/plain": [
              "<Figure size 640x480 with 2 Axes>"
            ]
          },
          "metadata": {},
          "output_type": "display_data"
        }
      ],
      "source": [
        "y_pred = final_rf_model.predict(X_test)\n",
        "def plot_confusion_matrix( y_pred: pd.DataFrame, y_test: pd.DataFrame, title: str):\n",
        "    final_model_cm = confusion_matrix(y_test,y_pred)\n",
        "    labels = ['Fraud', 'Normal']\n",
        "\n",
        "    sns.heatmap(final_model_cm, annot=True, fmt='d', xticklabels=labels, yticklabels=labels)\n",
        "    plt.title(title)\n",
        "    plt.xlabel('predicted class')\n",
        "    plt.ylabel('actual class')\n",
        "    print(final_model_cm)\n",
        "\n",
        "plot_confusion_matrix(y_pred, y_test, 'Random Forest Confusion Matrix on hold out test set')"
      ]
    },
    {
      "cell_type": "code",
      "execution_count": 116,
      "metadata": {},
      "outputs": [],
      "source": [
        "scoring_call = check_scoring(estimator=final_rf_model, scoring=scoring, raise_exc=False)\n",
        "scores = scoring_call(final_rf_model, X_test, y_test)"
      ]
    },
    {
      "cell_type": "code",
      "execution_count": 117,
      "metadata": {},
      "outputs": [],
      "source": [
        "scores = pd.Series(scores)"
      ]
    },
    {
      "cell_type": "code",
      "execution_count": 118,
      "metadata": {},
      "outputs": [
        {
          "data": {
            "image/png": "[encoded data removed]",
            "text/plain": [
              "<Figure size 1200x600 with 1 Axes>"
            ]
          },
          "metadata": {},
          "output_type": "display_data"
        }
      ],
      "source": [
        "plot_bar_metrics(scores, 'Final Random Forest model metrics')"
      ]
    },
    {
      "cell_type": "markdown",
      "metadata": {},
      "source": [
        "### finally, saving the final model using joblib"
      ]
    },
    {
      "cell_type": "code",
      "execution_count": null,
      "metadata": {},
      "outputs": [
        {
          "data": {
            "text/plain": [
              "WindowsPath('e:/Programacao/LAPES/EDA_ML_DL_PS/LAPES-Data-Challenge-Predictive-Analytics-System/notebooks')"
            ]
          },
          "execution_count": 57,
          "metadata": {},
          "output_type": "execute_result"
        }
      ],
      "source": [
        "Path.cwd()"
      ]
    },
    {
      "cell_type": "code",
      "execution_count": 112,
      "metadata": {},
      "outputs": [
        {
          "name": "stdout",
          "output_type": "stream",
          "text": [
            "model succesfully saved in e:\\Programacao\\LAPES\\EDA_ML_DL_PS\\LAPES-Data-Challenge-Predictive-Analytics-System\\models\\final_rf_model.pkl\n"
          ]
        }
      ],
      "source": [
        "\n",
        "file_path = Path.cwd().parent / 'models' / 'final_rf_model.pkl'\n",
        "joblib.dump(final_rf_model, file_path)\n",
        "\n",
        "print('model succesfully saved in', file_path)"
      ]
    },
    {
      "cell_type": "code",
      "execution_count": 205,
      "metadata": {},
      "outputs": [],
      "source": [
        "filepath_rf = Path.cwd().parent / 'models' / 'final_rf_model.pkl'\n",
        "filepath_bst = Path.cwd().parent / 'models' / 'final_XGBoost_model.pkl'\n",
        "filepath_log = Path.cwd().parent / 'models' / 'logistic_regression_baseline.pkl'\n",
        "\n",
        "log_clf = joblib.load(filepath_log)\n",
        "bst_clf = joblib.load(filepath_bst)\n",
        "final_rf_model = joblib.load(filepath_rf)"
      ]
    },
    {
      "cell_type": "code",
      "execution_count": 212,
      "metadata": {},
      "outputs": [
        {
          "data": {
            "image/png": "[encoded data removed]",
            "text/plain": [
              "<Figure size 800x600 with 1 Axes>"
            ]
          },
          "metadata": {},
          "output_type": "display_data"
        }
      ],
      "source": [
        "fig, ax = plt.subplots(figsize=(8, 6))\n",
        "\n",
        "\n",
        "RocCurveDisplay.from_estimator(log_clf, X_test, y_test, ax=ax, name=\"Logistic Regression\")\n",
        "\n",
        "RocCurveDisplay.from_estimator(bst_clf, X_test, y_test, ax=ax, name=\"XGBoost\")\n",
        "\n",
        "RocCurveDisplay.from_estimator(final_rf_model, X_test, y_test, ax=ax, name=\"Random Forest\")\n",
        "\n",
        "ax.set_title(\"ROC Curves for All Models\")\n",
        "ax.grid(True)\n",
        "\n",
        "plt.show()\n"
      ]
    }
  ],
  "metadata": {
    "colab": {
      "provenance": []
    },
    "kernelspec": {
      "display_name": "LAPES-Data-Challenge-Predictive-Analytics-System",
      "language": "python",
      "name": "python3"
    },
    "language_info": {
      "codemirror_mode": {
        "name": "ipython",
        "version": 3
      },
      "file_extension": ".py",
      "mimetype": "text/x-python",
      "name": "python",
      "nbconvert_exporter": "python",
      "pygments_lexer": "ipython3",
      "version": "3.12.1"
    }
  },
  "nbformat": 4,
  "nbformat_minor": 0
}
