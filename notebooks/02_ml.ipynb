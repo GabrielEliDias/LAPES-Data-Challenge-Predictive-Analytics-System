{
  "cells": [
    {
      "cell_type": "code",
      "execution_count": 59,
      "metadata": {
        "colab": {
          "base_uri": "https://localhost:8080/",
          "height": 211
        },
        "id": "b8d-irTcRREw",
        "outputId": "c74cb958-7510-4351-bd59-7312dcab92c5"
      },
      "outputs": [
        {
          "name": "stdout",
          "output_type": "stream",
          "text": [
            "(283726, 31)\n"
          ]
        },
        {
          "data": {
            "application/vnd.microsoft.datawrangler.viewer.v0+json": {
              "columns": [
                {
                  "name": "index",
                  "rawType": "int64",
                  "type": "integer"
                },
                {
                  "name": "time",
                  "rawType": "float64",
                  "type": "float"
                },
                {
                  "name": "v1",
                  "rawType": "float64",
                  "type": "float"
                },
                {
                  "name": "v2",
                  "rawType": "float64",
                  "type": "float"
                },
                {
                  "name": "v3",
                  "rawType": "float64",
                  "type": "float"
                },
                {
                  "name": "v4",
                  "rawType": "float64",
                  "type": "float"
                },
                {
                  "name": "v5",
                  "rawType": "float64",
                  "type": "float"
                },
                {
                  "name": "v6",
                  "rawType": "float64",
                  "type": "float"
                },
                {
                  "name": "v7",
                  "rawType": "float64",
                  "type": "float"
                },
                {
                  "name": "v8",
                  "rawType": "float64",
                  "type": "float"
                },
                {
                  "name": "v9",
                  "rawType": "float64",
                  "type": "float"
                },
                {
                  "name": "v10",
                  "rawType": "float64",
                  "type": "float"
                },
                {
                  "name": "v11",
                  "rawType": "float64",
                  "type": "float"
                },
                {
                  "name": "v12",
                  "rawType": "float64",
                  "type": "float"
                },
                {
                  "name": "v13",
                  "rawType": "float64",
                  "type": "float"
                },
                {
                  "name": "v14",
                  "rawType": "float64",
                  "type": "float"
                },
                {
                  "name": "v15",
                  "rawType": "float64",
                  "type": "float"
                },
                {
                  "name": "v16",
                  "rawType": "float64",
                  "type": "float"
                },
                {
                  "name": "v17",
                  "rawType": "float64",
                  "type": "float"
                },
                {
                  "name": "v18",
                  "rawType": "float64",
                  "type": "float"
                },
                {
                  "name": "v19",
                  "rawType": "float64",
                  "type": "float"
                },
                {
                  "name": "v20",
                  "rawType": "float64",
                  "type": "float"
                },
                {
                  "name": "v21",
                  "rawType": "float64",
                  "type": "float"
                },
                {
                  "name": "v22",
                  "rawType": "float64",
                  "type": "float"
                },
                {
                  "name": "v23",
                  "rawType": "float64",
                  "type": "float"
                },
                {
                  "name": "v24",
                  "rawType": "float64",
                  "type": "float"
                },
                {
                  "name": "v25",
                  "rawType": "float64",
                  "type": "float"
                },
                {
                  "name": "v26",
                  "rawType": "float64",
                  "type": "float"
                },
                {
                  "name": "v27",
                  "rawType": "float64",
                  "type": "float"
                },
                {
                  "name": "v28",
                  "rawType": "float64",
                  "type": "float"
                },
                {
                  "name": "amount",
                  "rawType": "float64",
                  "type": "float"
                },
                {
                  "name": "class",
                  "rawType": "int64",
                  "type": "integer"
                }
              ],
              "ref": "75ea102b-807d-4f47-b3f7-820a6cee704e",
              "rows": [
                [
                  "0",
                  "0.0",
                  "-1.3598071336738",
                  "-0.0727811733098497",
                  "2.53634673796914",
                  "1.37815522427443",
                  "-0.338320769942518",
                  "0.462387777762292",
                  "0.239598554061257",
                  "0.0986979012610507",
                  "0.363786969611213",
                  "0.0907941719789316",
                  "-0.551599533260813",
                  "-0.617800855762348",
                  "-0.991389847235408",
                  "-0.311169353699879",
                  "1.46817697209427",
                  "-0.470400525259478",
                  "0.207971241929242",
                  "0.0257905801985591",
                  "0.403992960255733",
                  "0.251412098239705",
                  "-0.018306777944153",
                  "0.277837575558899",
                  "-0.110473910188767",
                  "0.0669280749146731",
                  "0.128539358273528",
                  "-0.189114843888824",
                  "0.133558376740387",
                  "-0.0210530534538215",
                  "149.62",
                  "0"
                ],
                [
                  "1",
                  "0.0",
                  "1.19185711131486",
                  "0.26615071205963",
                  "0.16648011335321",
                  "0.448154078460911",
                  "0.0600176492822243",
                  "-0.0823608088155687",
                  "-0.0788029833323113",
                  "0.0851016549148104",
                  "-0.255425128109186",
                  "-0.166974414004614",
                  "1.61272666105479",
                  "1.06523531137287",
                  "0.48909501589608",
                  "-0.143772296441519",
                  "0.635558093258208",
                  "0.463917041022171",
                  "-0.114804663102346",
                  "-0.183361270123994",
                  "-0.145783041325259",
                  "-0.0690831352230203",
                  "-0.225775248033138",
                  "-0.638671952771851",
                  "0.101288021253234",
                  "-0.339846475529127",
                  "0.167170404418143",
                  "0.125894532368176",
                  "-0.0089830991432281",
                  "0.0147241691924927",
                  "2.69",
                  "0"
                ],
                [
                  "2",
                  "1.0",
                  "-1.35835406159823",
                  "-1.34016307473609",
                  "1.77320934263119",
                  "0.379779593034328",
                  "-0.503198133318193",
                  "1.80049938079263",
                  "0.791460956450422",
                  "0.247675786588991",
                  "-1.51465432260583",
                  "0.207642865216696",
                  "0.624501459424895",
                  "0.066083685268831",
                  "0.717292731410831",
                  "-0.165945922763554",
                  "2.34586494901581",
                  "-2.89008319444231",
                  "1.10996937869599",
                  "-0.121359313195888",
                  "-2.26185709530414",
                  "0.524979725224404",
                  "0.247998153469754",
                  "0.771679401917229",
                  "0.909412262347719",
                  "-0.689280956490685",
                  "-0.327641833735251",
                  "-0.139096571514147",
                  "-0.0553527940384261",
                  "-0.0597518405929204",
                  "378.66",
                  "0"
                ]
              ],
              "shape": {
                "columns": 31,
                "rows": 3
              }
            },
            "text/html": [
              "<div>\n",
              "<style scoped>\n",
              "    .dataframe tbody tr th:only-of-type {\n",
              "        vertical-align: middle;\n",
              "    }\n",
              "\n",
              "    .dataframe tbody tr th {\n",
              "        vertical-align: top;\n",
              "    }\n",
              "\n",
              "    .dataframe thead th {\n",
              "        text-align: right;\n",
              "    }\n",
              "</style>\n",
              "<table border=\"1\" class=\"dataframe\">\n",
              "  <thead>\n",
              "    <tr style=\"text-align: right;\">\n",
              "      <th></th>\n",
              "      <th>time</th>\n",
              "      <th>v1</th>\n",
              "      <th>v2</th>\n",
              "      <th>v3</th>\n",
              "      <th>v4</th>\n",
              "      <th>v5</th>\n",
              "      <th>v6</th>\n",
              "      <th>v7</th>\n",
              "      <th>v8</th>\n",
              "      <th>v9</th>\n",
              "      <th>...</th>\n",
              "      <th>v21</th>\n",
              "      <th>v22</th>\n",
              "      <th>v23</th>\n",
              "      <th>v24</th>\n",
              "      <th>v25</th>\n",
              "      <th>v26</th>\n",
              "      <th>v27</th>\n",
              "      <th>v28</th>\n",
              "      <th>amount</th>\n",
              "      <th>class</th>\n",
              "    </tr>\n",
              "  </thead>\n",
              "  <tbody>\n",
              "    <tr>\n",
              "      <th>0</th>\n",
              "      <td>0.0</td>\n",
              "      <td>-1.359807</td>\n",
              "      <td>-0.072781</td>\n",
              "      <td>2.536347</td>\n",
              "      <td>1.378155</td>\n",
              "      <td>-0.338321</td>\n",
              "      <td>0.462388</td>\n",
              "      <td>0.239599</td>\n",
              "      <td>0.098698</td>\n",
              "      <td>0.363787</td>\n",
              "      <td>...</td>\n",
              "      <td>-0.018307</td>\n",
              "      <td>0.277838</td>\n",
              "      <td>-0.110474</td>\n",
              "      <td>0.066928</td>\n",
              "      <td>0.128539</td>\n",
              "      <td>-0.189115</td>\n",
              "      <td>0.133558</td>\n",
              "      <td>-0.021053</td>\n",
              "      <td>149.62</td>\n",
              "      <td>0</td>\n",
              "    </tr>\n",
              "    <tr>\n",
              "      <th>1</th>\n",
              "      <td>0.0</td>\n",
              "      <td>1.191857</td>\n",
              "      <td>0.266151</td>\n",
              "      <td>0.166480</td>\n",
              "      <td>0.448154</td>\n",
              "      <td>0.060018</td>\n",
              "      <td>-0.082361</td>\n",
              "      <td>-0.078803</td>\n",
              "      <td>0.085102</td>\n",
              "      <td>-0.255425</td>\n",
              "      <td>...</td>\n",
              "      <td>-0.225775</td>\n",
              "      <td>-0.638672</td>\n",
              "      <td>0.101288</td>\n",
              "      <td>-0.339846</td>\n",
              "      <td>0.167170</td>\n",
              "      <td>0.125895</td>\n",
              "      <td>-0.008983</td>\n",
              "      <td>0.014724</td>\n",
              "      <td>2.69</td>\n",
              "      <td>0</td>\n",
              "    </tr>\n",
              "    <tr>\n",
              "      <th>2</th>\n",
              "      <td>1.0</td>\n",
              "      <td>-1.358354</td>\n",
              "      <td>-1.340163</td>\n",
              "      <td>1.773209</td>\n",
              "      <td>0.379780</td>\n",
              "      <td>-0.503198</td>\n",
              "      <td>1.800499</td>\n",
              "      <td>0.791461</td>\n",
              "      <td>0.247676</td>\n",
              "      <td>-1.514654</td>\n",
              "      <td>...</td>\n",
              "      <td>0.247998</td>\n",
              "      <td>0.771679</td>\n",
              "      <td>0.909412</td>\n",
              "      <td>-0.689281</td>\n",
              "      <td>-0.327642</td>\n",
              "      <td>-0.139097</td>\n",
              "      <td>-0.055353</td>\n",
              "      <td>-0.059752</td>\n",
              "      <td>378.66</td>\n",
              "      <td>0</td>\n",
              "    </tr>\n",
              "  </tbody>\n",
              "</table>\n",
              "<p>3 rows × 31 columns</p>\n",
              "</div>"
            ],
            "text/plain": [
              "   time        v1        v2        v3        v4        v5        v6        v7  \\\n",
              "0   0.0 -1.359807 -0.072781  2.536347  1.378155 -0.338321  0.462388  0.239599   \n",
              "1   0.0  1.191857  0.266151  0.166480  0.448154  0.060018 -0.082361 -0.078803   \n",
              "2   1.0 -1.358354 -1.340163  1.773209  0.379780 -0.503198  1.800499  0.791461   \n",
              "\n",
              "         v8        v9  ...       v21       v22       v23       v24       v25  \\\n",
              "0  0.098698  0.363787  ... -0.018307  0.277838 -0.110474  0.066928  0.128539   \n",
              "1  0.085102 -0.255425  ... -0.225775 -0.638672  0.101288 -0.339846  0.167170   \n",
              "2  0.247676 -1.514654  ...  0.247998  0.771679  0.909412 -0.689281 -0.327642   \n",
              "\n",
              "        v26       v27       v28  amount  class  \n",
              "0 -0.189115  0.133558 -0.021053  149.62      0  \n",
              "1  0.125895 -0.008983  0.014724    2.69      0  \n",
              "2 -0.139097 -0.055353 -0.059752  378.66      0  \n",
              "\n",
              "[3 rows x 31 columns]"
            ]
          },
          "execution_count": 59,
          "metadata": {},
          "output_type": "execute_result"
        }
      ],
      "source": [
        "# initial dataframe from the cleaned data in silver layer\n",
        "import pandas as pd\n",
        "from pathlib import Path\n",
        "\n",
        "silver_path = Path.cwd().parent / 'data' / 'silver' / 'creditcard_fraud_cleaned.parquet'\n",
        "\n",
        "df = pd.read_parquet(silver_path)\n",
        "print(df.shape)\n",
        "df.head(3)"
      ]
    },
    {
      "cell_type": "code",
      "execution_count": 60,
      "metadata": {
        "colab": {
          "base_uri": "https://localhost:8080/",
          "height": 178
        },
        "id": "ade7F6RzRRE3",
        "outputId": "7b0203ef-79b5-434c-d726-3fd90563504e"
      },
      "outputs": [
        {
          "data": {
            "application/vnd.microsoft.datawrangler.viewer.v0+json": {
              "columns": [
                {
                  "name": "class",
                  "rawType": "int64",
                  "type": "integer"
                },
                {
                  "name": "count",
                  "rawType": "float64",
                  "type": "float"
                }
              ],
              "ref": "2875edab-60d9-4a6a-949a-70eebf093985",
              "rows": [
                [
                  "0",
                  "99.83328986416473"
                ],
                [
                  "1",
                  "0.1667101358352777"
                ]
              ],
              "shape": {
                "columns": 1,
                "rows": 2
              }
            },
            "text/plain": [
              "class\n",
              "0    99.83329\n",
              "1     0.16671\n",
              "Name: count, dtype: float64"
            ]
          },
          "execution_count": 60,
          "metadata": {},
          "output_type": "execute_result"
        }
      ],
      "source": [
        "# splitting dataset in X(independent features) and y (target class)\n",
        "\n",
        "X = df.drop(columns='class')\n",
        "y = df['class']\n",
        "(y.value_counts()/y.shape[0])*100"
      ]
    },
    {
      "cell_type": "code",
      "execution_count": 61,
      "metadata": {
        "colab": {
          "base_uri": "https://localhost:8080/",
          "height": 300
        },
        "id": "Z_W3dItjRRE5",
        "outputId": "041f3d7a-b697-4a3d-e550-d3254887fba0"
      },
      "outputs": [
        {
          "data": {
            "application/vnd.microsoft.datawrangler.viewer.v0+json": {
              "columns": [
                {
                  "name": "index",
                  "rawType": "object",
                  "type": "string"
                },
                {
                  "name": "amount_scaled",
                  "rawType": "float64",
                  "type": "float"
                },
                {
                  "name": "time_scaled",
                  "rawType": "float64",
                  "type": "float"
                }
              ],
              "ref": "8e12f41d-b34a-423c-a9e7-98b03700891c",
              "rows": [
                [
                  "count",
                  "283726.0",
                  "283726.0"
                ],
                [
                  "mean",
                  "0.9243872522736366",
                  "0.548700620396286"
                ],
                [
                  "std",
                  "3.482122613207806",
                  "0.2747873043348043"
                ],
                [
                  "min",
                  "-0.30593797802809064",
                  "0.0"
                ],
                [
                  "25%",
                  "-0.228062856348213",
                  "0.31369941895458126"
                ],
                [
                  "50%",
                  "0.0",
                  "0.49014132598731425"
                ],
                [
                  "75%",
                  "0.7719371436517869",
                  "0.8061600074077504"
                ],
                [
                  "max",
                  "356.9623140036156",
                  "1.0"
                ]
              ],
              "shape": {
                "columns": 2,
                "rows": 8
              }
            },
            "text/html": [
              "<div>\n",
              "<style scoped>\n",
              "    .dataframe tbody tr th:only-of-type {\n",
              "        vertical-align: middle;\n",
              "    }\n",
              "\n",
              "    .dataframe tbody tr th {\n",
              "        vertical-align: top;\n",
              "    }\n",
              "\n",
              "    .dataframe thead th {\n",
              "        text-align: right;\n",
              "    }\n",
              "</style>\n",
              "<table border=\"1\" class=\"dataframe\">\n",
              "  <thead>\n",
              "    <tr style=\"text-align: right;\">\n",
              "      <th></th>\n",
              "      <th>amount_scaled</th>\n",
              "      <th>time_scaled</th>\n",
              "    </tr>\n",
              "  </thead>\n",
              "  <tbody>\n",
              "    <tr>\n",
              "      <th>count</th>\n",
              "      <td>283726.000000</td>\n",
              "      <td>283726.000000</td>\n",
              "    </tr>\n",
              "    <tr>\n",
              "      <th>mean</th>\n",
              "      <td>0.924387</td>\n",
              "      <td>0.548701</td>\n",
              "    </tr>\n",
              "    <tr>\n",
              "      <th>std</th>\n",
              "      <td>3.482123</td>\n",
              "      <td>0.274787</td>\n",
              "    </tr>\n",
              "    <tr>\n",
              "      <th>min</th>\n",
              "      <td>-0.305938</td>\n",
              "      <td>0.000000</td>\n",
              "    </tr>\n",
              "    <tr>\n",
              "      <th>25%</th>\n",
              "      <td>-0.228063</td>\n",
              "      <td>0.313699</td>\n",
              "    </tr>\n",
              "    <tr>\n",
              "      <th>50%</th>\n",
              "      <td>0.000000</td>\n",
              "      <td>0.490141</td>\n",
              "    </tr>\n",
              "    <tr>\n",
              "      <th>75%</th>\n",
              "      <td>0.771937</td>\n",
              "      <td>0.806160</td>\n",
              "    </tr>\n",
              "    <tr>\n",
              "      <th>max</th>\n",
              "      <td>356.962314</td>\n",
              "      <td>1.000000</td>\n",
              "    </tr>\n",
              "  </tbody>\n",
              "</table>\n",
              "</div>"
            ],
            "text/plain": [
              "       amount_scaled    time_scaled\n",
              "count  283726.000000  283726.000000\n",
              "mean        0.924387       0.548701\n",
              "std         3.482123       0.274787\n",
              "min        -0.305938       0.000000\n",
              "25%        -0.228063       0.313699\n",
              "50%         0.000000       0.490141\n",
              "75%         0.771937       0.806160\n",
              "max       356.962314       1.000000"
            ]
          },
          "execution_count": 61,
          "metadata": {},
          "output_type": "execute_result"
        }
      ],
      "source": [
        "# all the dataset is already scaled with pca transform, except for time and amount\n",
        "# so before splitting and training the dataset,let's scale:\n",
        "# time using minMaxscaler, which is standard\n",
        "# amount using robustScaler, to better treat the significant rigth skewness and outliers\n",
        "\n",
        "from sklearn.preprocessing import MinMaxScaler, RobustScaler\n",
        "time_scaler = MinMaxScaler()\n",
        "amount_scaler = RobustScaler()\n",
        "X['time_scaled'] = time_scaler.fit_transform(X[['time']])\n",
        "X['amount_scaled'] =amount_scaler.fit_transform(X[['amount']])\n",
        "X[['amount_scaled','time_scaled']].describe()"
      ]
    },
    {
      "cell_type": "code",
      "execution_count": 62,
      "metadata": {
        "colab": {
          "base_uri": "https://localhost:8080/",
          "height": 892
        },
        "id": "yiYXyINWRRE7",
        "outputId": "33cdb3f2-4966-47bf-f052-8c3f0a087c13"
      },
      "outputs": [
        {
          "data": {
            "image/png": "[encoded data removed]",
            "text/plain": [
              "<Figure size 800x500 with 1 Axes>"
            ]
          },
          "metadata": {},
          "output_type": "display_data"
        },
        {
          "data": {
            "image/png": "[encoded data removed]",
            "text/plain": [
              "<Figure size 800x500 with 1 Axes>"
            ]
          },
          "metadata": {},
          "output_type": "display_data"
        }
      ],
      "source": [
        "import matplotlib.pyplot as plt\n",
        "import seaborn as sns\n",
        "plt.figure(figsize=(8,5))\n",
        "sns.scatterplot(data = X, x='time', y='amount')\n",
        "plt.title('amount over time')\n",
        "plt.show()\n",
        "\n",
        "plt.figure(figsize=(8,5))\n",
        "sns.scatterplot(data = X, x='time_scaled', y='amount_scaled')\n",
        "plt.title('Amount robust_scaled over time min_maxed_scaled')\n",
        "plt.show()\n"
      ]
    },
    {
      "cell_type": "code",
      "execution_count": 63,
      "metadata": {
        "id": "kG2JVKOTRRE9"
      },
      "outputs": [],
      "source": [
        "# splitting the data in training and testing, using stratify to keep the proportions and not bias the data\n",
        "from sklearn.model_selection import train_test_split\n",
        "X_train, X_test, y_train, y_test = train_test_split(X,y, test_size=0.2, stratify=y)"
      ]
    },
    {
      "cell_type": "code",
      "execution_count": 64,
      "metadata": {
        "colab": {
          "base_uri": "https://localhost:8080/"
        },
        "id": "SJrT0iQwRRE-",
        "outputId": "b1895bda-ec31-4191-cf1f-bb22cc9edcde"
      },
      "outputs": [
        {
          "name": "stdout",
          "output_type": "stream",
          "text": [
            "how many frauds and non frauds in the test split\n",
            " class\n",
            "0    226602\n",
            "1       378\n",
            "Name: count, dtype: int64\n",
            "\n",
            "class\n",
            "0    99.833466\n",
            "1     0.166534\n",
            "Name: count, dtype: float64\n"
          ]
        }
      ],
      "source": [
        "# lets check the data splitting (this could be a function in the ML pipeline) (still simillar proportion)\n",
        "print('how many frauds and non frauds in the test split\\n',y_train.value_counts())\n",
        "print()\n",
        "print((y_train.value_counts()/y_train.shape[0])*100)"
      ]
    },
    {
      "cell_type": "code",
      "execution_count": 65,
      "metadata": {
        "id": "IAY1QelJRRFC"
      },
      "outputs": [],
      "source": [
        "# as this is a binary classification problem (it has two classes, positive, fraud, and negative, non-fraud)\n",
        "# a logistic classifier is more apropriate\n",
        "from sklearn.linear_model import LogisticRegression\n",
        "log_clf = LogisticRegression(class_weight='balanced',random_state=11037, max_iter=400)"
      ]
    },
    {
      "cell_type": "code",
      "execution_count": 66,
      "metadata": {
        "colab": {
          "base_uri": "https://localhost:8080/",
          "height": 193
        },
        "id": "9qFWQJTrRRFF",
        "outputId": "db0657b4-6800-4985-e110-6a3e1119065b"
      },
      "outputs": [
        {
          "data": {
            "application/vnd.microsoft.datawrangler.viewer.v0+json": {
              "columns": [
                {
                  "name": "index",
                  "rawType": "int64",
                  "type": "integer"
                },
                {
                  "name": "v1",
                  "rawType": "float64",
                  "type": "float"
                },
                {
                  "name": "v2",
                  "rawType": "float64",
                  "type": "float"
                },
                {
                  "name": "v3",
                  "rawType": "float64",
                  "type": "float"
                },
                {
                  "name": "v4",
                  "rawType": "float64",
                  "type": "float"
                },
                {
                  "name": "v5",
                  "rawType": "float64",
                  "type": "float"
                },
                {
                  "name": "v6",
                  "rawType": "float64",
                  "type": "float"
                },
                {
                  "name": "v7",
                  "rawType": "float64",
                  "type": "float"
                },
                {
                  "name": "v8",
                  "rawType": "float64",
                  "type": "float"
                },
                {
                  "name": "v9",
                  "rawType": "float64",
                  "type": "float"
                },
                {
                  "name": "v10",
                  "rawType": "float64",
                  "type": "float"
                },
                {
                  "name": "v11",
                  "rawType": "float64",
                  "type": "float"
                },
                {
                  "name": "v12",
                  "rawType": "float64",
                  "type": "float"
                },
                {
                  "name": "v13",
                  "rawType": "float64",
                  "type": "float"
                },
                {
                  "name": "v14",
                  "rawType": "float64",
                  "type": "float"
                },
                {
                  "name": "v15",
                  "rawType": "float64",
                  "type": "float"
                },
                {
                  "name": "v16",
                  "rawType": "float64",
                  "type": "float"
                },
                {
                  "name": "v17",
                  "rawType": "float64",
                  "type": "float"
                },
                {
                  "name": "v18",
                  "rawType": "float64",
                  "type": "float"
                },
                {
                  "name": "v19",
                  "rawType": "float64",
                  "type": "float"
                },
                {
                  "name": "v20",
                  "rawType": "float64",
                  "type": "float"
                },
                {
                  "name": "v21",
                  "rawType": "float64",
                  "type": "float"
                },
                {
                  "name": "v22",
                  "rawType": "float64",
                  "type": "float"
                },
                {
                  "name": "v23",
                  "rawType": "float64",
                  "type": "float"
                },
                {
                  "name": "v24",
                  "rawType": "float64",
                  "type": "float"
                },
                {
                  "name": "v25",
                  "rawType": "float64",
                  "type": "float"
                },
                {
                  "name": "v26",
                  "rawType": "float64",
                  "type": "float"
                },
                {
                  "name": "v27",
                  "rawType": "float64",
                  "type": "float"
                },
                {
                  "name": "v28",
                  "rawType": "float64",
                  "type": "float"
                },
                {
                  "name": "time_scaled",
                  "rawType": "float64",
                  "type": "float"
                },
                {
                  "name": "amount_scaled",
                  "rawType": "float64",
                  "type": "float"
                }
              ],
              "ref": "4f4720cc-f59a-4a21-b5fd-de8b9ac4ae53",
              "rows": [
                [
                  "13148",
                  "-5.07963574725029",
                  "4.09499764144927",
                  "-6.60573095921199",
                  "2.09652012155771",
                  "-2.41844751189838",
                  "-1.89971285555444",
                  "-1.71033197645306",
                  "3.35941213254602",
                  "0.84167994094233",
                  "-1.27228765229947",
                  "0.323183093922906",
                  "-1.16581342636517",
                  "3.36394710693127",
                  "-0.0279493774699153",
                  "0.169282317729892",
                  "2.02241158003538",
                  "4.72939081644228",
                  "2.00704243317097",
                  "-0.766971153738233",
                  "0.114001222490192",
                  "-0.246145187354536",
                  "-0.810647588176299",
                  "-0.197877351029153",
                  "-0.45289446883784",
                  "0.0802855103815935",
                  "-0.394970875677781",
                  "0.0470261576484207",
                  "-0.244471743107343",
                  "0.13435807213296913",
                  "0.9454874148240855"
                ],
                [
                  "250784",
                  "-0.154540397562122",
                  "0.105622349184008",
                  "-0.292716518479842",
                  "-2.31359781949373",
                  "0.659718222366676",
                  "-0.964125197870318",
                  "0.752564771716249",
                  "-0.231438599317003",
                  "-1.3062541611874",
                  "0.237863283514956",
                  "0.18942964140737",
                  "-0.552504121879785",
                  "-0.915082661486364",
                  "0.196937055059078",
                  "-2.1250608038803",
                  "0.72043001453473",
                  "-0.0512777611064681",
                  "-1.19070188639067",
                  "0.527557928268602",
                  "-0.150118398937625",
                  "0.357791077005253",
                  "0.959399121816285",
                  "-0.253828720645381",
                  "-0.368426915555259",
                  "-0.3533451764154",
                  "-0.277688133403458",
                  "0.0091964962075302",
                  "0.192022651484038",
                  "0.899729154127506",
                  "-0.2225003476567932"
                ],
                [
                  "256287",
                  "-0.25478041067097",
                  "1.10524619985592",
                  "-0.5041980143308",
                  "-0.31638040561217",
                  "0.0819042645406688",
                  "-1.30576703194993",
                  "0.720781474538327",
                  "0.164112699387785",
                  "-0.0569017129101983",
                  "-0.493393326564251",
                  "-1.22545213563873",
                  "-0.365084245716588",
                  "-0.830087780528719",
                  "0.920310175716388",
                  "0.514557899274165",
                  "-0.279633324440794",
                  "-0.251826654196782",
                  "0.310848000960627",
                  "0.0318047703994647",
                  "-0.15437778167266",
                  "0.411610383379771",
                  "1.25883065929227",
                  "-0.0274290109519171",
                  "0.0591158901778585",
                  "-0.790844169762277",
                  "-0.217807560500606",
                  "0.373386201368361",
                  "0.259639857981223",
                  "0.9147761470438447",
                  "-0.027951606174384663"
                ]
              ],
              "shape": {
                "columns": 30,
                "rows": 3
              }
            },
            "text/html": [
              "<div>\n",
              "<style scoped>\n",
              "    .dataframe tbody tr th:only-of-type {\n",
              "        vertical-align: middle;\n",
              "    }\n",
              "\n",
              "    .dataframe tbody tr th {\n",
              "        vertical-align: top;\n",
              "    }\n",
              "\n",
              "    .dataframe thead th {\n",
              "        text-align: right;\n",
              "    }\n",
              "</style>\n",
              "<table border=\"1\" class=\"dataframe\">\n",
              "  <thead>\n",
              "    <tr style=\"text-align: right;\">\n",
              "      <th></th>\n",
              "      <th>v1</th>\n",
              "      <th>v2</th>\n",
              "      <th>v3</th>\n",
              "      <th>v4</th>\n",
              "      <th>v5</th>\n",
              "      <th>v6</th>\n",
              "      <th>v7</th>\n",
              "      <th>v8</th>\n",
              "      <th>v9</th>\n",
              "      <th>v10</th>\n",
              "      <th>...</th>\n",
              "      <th>v21</th>\n",
              "      <th>v22</th>\n",
              "      <th>v23</th>\n",
              "      <th>v24</th>\n",
              "      <th>v25</th>\n",
              "      <th>v26</th>\n",
              "      <th>v27</th>\n",
              "      <th>v28</th>\n",
              "      <th>time_scaled</th>\n",
              "      <th>amount_scaled</th>\n",
              "    </tr>\n",
              "  </thead>\n",
              "  <tbody>\n",
              "    <tr>\n",
              "      <th>13148</th>\n",
              "      <td>-5.079636</td>\n",
              "      <td>4.094998</td>\n",
              "      <td>-6.605731</td>\n",
              "      <td>2.096520</td>\n",
              "      <td>-2.418448</td>\n",
              "      <td>-1.899713</td>\n",
              "      <td>-1.710332</td>\n",
              "      <td>3.359412</td>\n",
              "      <td>0.841680</td>\n",
              "      <td>-1.272288</td>\n",
              "      <td>...</td>\n",
              "      <td>-0.246145</td>\n",
              "      <td>-0.810648</td>\n",
              "      <td>-0.197877</td>\n",
              "      <td>-0.452894</td>\n",
              "      <td>0.080286</td>\n",
              "      <td>-0.394971</td>\n",
              "      <td>0.047026</td>\n",
              "      <td>-0.244472</td>\n",
              "      <td>0.134358</td>\n",
              "      <td>0.945487</td>\n",
              "    </tr>\n",
              "    <tr>\n",
              "      <th>250784</th>\n",
              "      <td>-0.154540</td>\n",
              "      <td>0.105622</td>\n",
              "      <td>-0.292717</td>\n",
              "      <td>-2.313598</td>\n",
              "      <td>0.659718</td>\n",
              "      <td>-0.964125</td>\n",
              "      <td>0.752565</td>\n",
              "      <td>-0.231439</td>\n",
              "      <td>-1.306254</td>\n",
              "      <td>0.237863</td>\n",
              "      <td>...</td>\n",
              "      <td>0.357791</td>\n",
              "      <td>0.959399</td>\n",
              "      <td>-0.253829</td>\n",
              "      <td>-0.368427</td>\n",
              "      <td>-0.353345</td>\n",
              "      <td>-0.277688</td>\n",
              "      <td>0.009196</td>\n",
              "      <td>0.192023</td>\n",
              "      <td>0.899729</td>\n",
              "      <td>-0.222500</td>\n",
              "    </tr>\n",
              "    <tr>\n",
              "      <th>256287</th>\n",
              "      <td>-0.254780</td>\n",
              "      <td>1.105246</td>\n",
              "      <td>-0.504198</td>\n",
              "      <td>-0.316380</td>\n",
              "      <td>0.081904</td>\n",
              "      <td>-1.305767</td>\n",
              "      <td>0.720781</td>\n",
              "      <td>0.164113</td>\n",
              "      <td>-0.056902</td>\n",
              "      <td>-0.493393</td>\n",
              "      <td>...</td>\n",
              "      <td>0.411610</td>\n",
              "      <td>1.258831</td>\n",
              "      <td>-0.027429</td>\n",
              "      <td>0.059116</td>\n",
              "      <td>-0.790844</td>\n",
              "      <td>-0.217808</td>\n",
              "      <td>0.373386</td>\n",
              "      <td>0.259640</td>\n",
              "      <td>0.914776</td>\n",
              "      <td>-0.027952</td>\n",
              "    </tr>\n",
              "  </tbody>\n",
              "</table>\n",
              "<p>3 rows × 30 columns</p>\n",
              "</div>"
            ],
            "text/plain": [
              "              v1        v2        v3        v4        v5        v6        v7  \\\n",
              "13148  -5.079636  4.094998 -6.605731  2.096520 -2.418448 -1.899713 -1.710332   \n",
              "250784 -0.154540  0.105622 -0.292717 -2.313598  0.659718 -0.964125  0.752565   \n",
              "256287 -0.254780  1.105246 -0.504198 -0.316380  0.081904 -1.305767  0.720781   \n",
              "\n",
              "              v8        v9       v10  ...       v21       v22       v23  \\\n",
              "13148   3.359412  0.841680 -1.272288  ... -0.246145 -0.810648 -0.197877   \n",
              "250784 -0.231439 -1.306254  0.237863  ...  0.357791  0.959399 -0.253829   \n",
              "256287  0.164113 -0.056902 -0.493393  ...  0.411610  1.258831 -0.027429   \n",
              "\n",
              "             v24       v25       v26       v27       v28  time_scaled  \\\n",
              "13148  -0.452894  0.080286 -0.394971  0.047026 -0.244472     0.134358   \n",
              "250784 -0.368427 -0.353345 -0.277688  0.009196  0.192023     0.899729   \n",
              "256287  0.059116 -0.790844 -0.217808  0.373386  0.259640     0.914776   \n",
              "\n",
              "        amount_scaled  \n",
              "13148        0.945487  \n",
              "250784      -0.222500  \n",
              "256287      -0.027952  \n",
              "\n",
              "[3 rows x 30 columns]"
            ]
          },
          "execution_count": 66,
          "metadata": {},
          "output_type": "execute_result"
        }
      ],
      "source": [
        "# preparing the training data (and keeping test data equivalent)\n",
        "X_train = X_train.drop(columns=['time','amount'])\n",
        "X_test = X_test.drop(columns=['time','amount'])\n",
        "X_train.head(3)"
      ]
    },
    {
      "cell_type": "markdown",
      "metadata": {
        "id": "YyF-K7ysRRFG"
      },
      "source": [
        "## 🧠 Why Logistic Regression for the Baseline?\n",
        "Logistic Regression is a simple, interpretable model that gives us a **baseline** for detecting fraud.\n",
        "It's useful for benchmarking because:\n",
        "\n",
        "- It requires minimal hyperparameter tuning.\n",
        "- Its coefficients can indicate feature importance.\n",
        "- However, **Logistic Regression is sensitive to feature scaling**, so we preprocess `time` and `amount`.\n",
        "\n",
        "---\n",
        "\n",
        "## ⚠️ Class Imbalance in Fraud Detection\n",
        "The dataset is **highly imbalanced**:\n",
        "- Class 0 (Non-Fraud): ~99.8%\n",
        "- Class 1 (Fraud): ~0.2%\n",
        "\n",
        "This means **accuracy** is a **bad metric** (a model predicting \"no fraud\" every time would still be right 99.8% of the time). Instead, we use metrics that focus on the minority class.\n",
        "\n",
        "---\n",
        "\n",
        "## 📏 Key Metrics for Imbalanced Data\n",
        "| Metric            | Why It Matters                                                        |\n",
        "|--------------------|------------------------------------------------------------------------|\n",
        "| **Precision**      | Of all predicted fraud cases, how many were correct?                 |\n",
        "| **Recall (Sensitivity)** | Of all actual fraud cases, how many did we detect?                  |\n",
        "| **F1-score**       | Harmonic mean of Precision and Recall (balances false positives and negatives). |\n",
        "| **ROC AUC**        | Measures model's ability to separate classes across thresholds.      |\n",
        "| **PR AUC**         | Precision-Recall AUC focuses on the minority class (more informative for imbalanced data). |\n",
        "| **Balanced Accuracy** | Adjusts accuracy to account for class imbalance.                  |\n",
        "\n",
        "We’ll compute all of these using cross validate and stratified k-fold."
      ]
    },
    {
      "cell_type": "code",
      "execution_count": 67,
      "metadata": {},
      "outputs": [],
      "source": [
        "from sklearn.model_selection import cross_validate, StratifiedKFold"
      ]
    },
    {
      "cell_type": "code",
      "execution_count": 68,
      "metadata": {},
      "outputs": [],
      "source": [
        "# define scorers\n",
        "scoring = {\n",
        "    'accuracy': 'accuracy',\n",
        "    'precision': 'precision',  # threshold=0.5\n",
        "    'recall': 'recall',        # threshold=0.5\n",
        "    'f1': 'f1',                # threshold=0.5\n",
        "    'roc_auc': 'roc_auc',      # needs probabilities for it to be based on all threshold\n",
        "    'pr_auc': 'average_precision',  # needs probabilities\n",
        "    'balanced_accuracy': 'balanced_accuracy',\n",
        "}"
      ]
    },
    {
      "cell_type": "code",
      "execution_count": 69,
      "metadata": {},
      "outputs": [],
      "source": [
        "# define stratified CV to preserve fraud/non-fraud ratio in all folds\n",
        "cv = StratifiedKFold(n_splits=5, shuffle=True, random_state=11037)"
      ]
    },
    {
      "cell_type": "code",
      "execution_count": 70,
      "metadata": {
        "id": "21RrMlC7RRFL"
      },
      "outputs": [],
      "source": [
        "# perform cross-validation\n",
        "cv_results = cross_validate(\n",
        "    log_clf,\n",
        "    X_train, y_train,\n",
        "    scoring=scoring,\n",
        "    cv=cv,\n",
        "    return_train_score=False,\n",
        "\n",
        ")\n",
        "results_df = pd.DataFrame(cv_results).mean()"
      ]
    },
    {
      "cell_type": "code",
      "execution_count": 71,
      "metadata": {
        "colab": {
          "base_uri": "https://localhost:8080/",
          "height": 366
        },
        "id": "IydvrAkV72-U",
        "outputId": "072f232f-0480-4f6d-e2cc-d5c4f095f4f0"
      },
      "outputs": [
        {
          "data": {
            "application/vnd.microsoft.datawrangler.viewer.v0+json": {
              "columns": [
                {
                  "name": "index",
                  "rawType": "object",
                  "type": "string"
                },
                {
                  "name": "0",
                  "rawType": "float64",
                  "type": "float"
                }
              ],
              "ref": "bf03c8c8-7409-41be-be07-e9b25b9a4489",
              "rows": [
                [
                  "fit_time",
                  "2.645690107345581"
                ],
                [
                  "score_time",
                  "0.07176904678344727"
                ],
                [
                  "test_accuracy",
                  "0.9762401973742179"
                ],
                [
                  "test_precision",
                  "0.06042558589415433"
                ],
                [
                  "test_recall",
                  "0.9099999999999999"
                ],
                [
                  "test_f1",
                  "0.11330560680196529"
                ],
                [
                  "test_roc_auc",
                  "0.9797569653310306"
                ],
                [
                  "test_pr_auc",
                  "0.7400773124570322"
                ],
                [
                  "test_balanced_accuracy",
                  "0.9431752991259194"
                ]
              ],
              "shape": {
                "columns": 1,
                "rows": 9
              }
            },
            "text/plain": [
              "fit_time                  2.645690\n",
              "score_time                0.071769\n",
              "test_accuracy             0.976240\n",
              "test_precision            0.060426\n",
              "test_recall               0.910000\n",
              "test_f1                   0.113306\n",
              "test_roc_auc              0.979757\n",
              "test_pr_auc               0.740077\n",
              "test_balanced_accuracy    0.943175\n",
              "dtype: float64"
            ]
          },
          "execution_count": 71,
          "metadata": {},
          "output_type": "execute_result"
        }
      ],
      "source": [
        "results_df"
      ]
    },
    {
      "cell_type": "code",
      "execution_count": 72,
      "metadata": {
        "colab": {
          "base_uri": "https://localhost:8080/",
          "height": 350
        },
        "id": "aircQsCFRRFO",
        "outputId": "85018443-8a95-4744-f960-63ee601878d9"
      },
      "outputs": [
        {
          "data": {
            "image/png": "[encoded data removed]",
            "text/plain": [
              "<Figure size 1200x600 with 1 Axes>"
            ]
          },
          "metadata": {},
          "output_type": "display_data"
        }
      ],
      "source": [
        "plt.figure(figsize=(12,6))\n",
        "base_model_scores_barplot = sns.barplot(results_df.loc['test_accuracy':])\n",
        "\n",
        "\n",
        "for patch in base_model_scores_barplot.patches:\n",
        "    height = patch.get_height()\n",
        "    if height > 0:\n",
        "        base_model_scores_barplot.annotate(f'{height:.4f}',  # formatting\n",
        "            (patch.get_x() + patch.get_width() / 2, height), # setting each coordinate to be on the patch\n",
        "            ha='center', va='bottom', fontsize=8, rotation=0) # position related to the patch cordinate, right above and center\n",
        "\n",
        "\n",
        "plt.show()"
      ]
    },
    {
      "cell_type": "code",
      "execution_count": 73,
      "metadata": {
        "colab": {
          "base_uri": "https://localhost:8080/"
        },
        "id": "8Owp_eiERRFQ",
        "outputId": "c0b8a0e9-5563-495d-a971-3fb885237c05"
      },
      "outputs": [
        {
          "data": {
            "text/plain": [
              "{'C': 1.0,\n",
              " 'class_weight': 'balanced',\n",
              " 'dual': False,\n",
              " 'fit_intercept': True,\n",
              " 'intercept_scaling': 1,\n",
              " 'l1_ratio': None,\n",
              " 'max_iter': 400,\n",
              " 'multi_class': 'deprecated',\n",
              " 'n_jobs': None,\n",
              " 'penalty': 'l2',\n",
              " 'random_state': 11037,\n",
              " 'solver': 'lbfgs',\n",
              " 'tol': 0.0001,\n",
              " 'verbose': 0,\n",
              " 'warm_start': False}"
            ]
          },
          "execution_count": 73,
          "metadata": {},
          "output_type": "execute_result"
        }
      ],
      "source": [
        "log_clf.get_params()"
      ]
    },
    {
      "cell_type": "markdown",
      "metadata": {
        "id": "wNtj1sk6F-OT"
      },
      "source": [
        "# Lets remember the features most correlated to target class (fraud)\n",
        "this will be the base for:\n",
        "\n",
        "feature selection\n",
        "\n",
        "feature engineering\n",
        "\n",
        "feature dropping"
      ]
    },
    {
      "cell_type": "code",
      "execution_count": 74,
      "metadata": {
        "colab": {
          "base_uri": "https://localhost:8080/",
          "height": 1000
        },
        "id": "cdarX2ZnDhUJ",
        "outputId": "c0377243-ba8a-4510-f3e0-05078cef0593"
      },
      "outputs": [
        {
          "data": {
            "application/vnd.microsoft.datawrangler.viewer.v0+json": {
              "columns": [
                {
                  "name": "index",
                  "rawType": "object",
                  "type": "string"
                },
                {
                  "name": "target",
                  "rawType": "float64",
                  "type": "float"
                }
              ],
              "ref": "b1a66a0f-a8b6-4d22-9667-1960a61203d3",
              "rows": [
                [
                  "v17",
                  "-0.311265779262814"
                ],
                [
                  "v14",
                  "-0.2934912477607541"
                ],
                [
                  "v12",
                  "-0.24922237689043314"
                ],
                [
                  "v10",
                  "-0.20365064939950722"
                ],
                [
                  "v16",
                  "-0.18617359324568122"
                ],
                [
                  "v3",
                  "-0.17906647875614348"
                ],
                [
                  "v7",
                  "-0.16817017778340368"
                ],
                [
                  "v11",
                  "0.14838088655620774"
                ],
                [
                  "v4",
                  "0.12824899271721452"
                ],
                [
                  "v18",
                  "-0.10390434434174667"
                ],
                [
                  "v9",
                  "-0.09223596248429103"
                ],
                [
                  "v1",
                  "-0.0907890495447788"
                ],
                [
                  "v5",
                  "-0.08436394462189314"
                ],
                [
                  "v2",
                  "0.08393287064911568"
                ],
                [
                  "v6",
                  "-0.044502739358072"
                ],
                [
                  "v8",
                  "0.03416767585133337"
                ],
                [
                  "v19",
                  "0.03272366698905204"
                ],
                [
                  "v21",
                  "0.029663696448149"
                ],
                [
                  "v27",
                  "0.023931860254533605"
                ],
                [
                  "v20",
                  "0.021515440705587512"
                ],
                [
                  "time_scaled",
                  "-0.01204996349693601"
                ],
                [
                  "v28",
                  "0.010386340234203642"
                ],
                [
                  "v24",
                  "-0.007986902812510572"
                ],
                [
                  "v23",
                  "-0.005965976791269219"
                ],
                [
                  "amount_scaled",
                  "0.0055854724612300595"
                ],
                [
                  "v13",
                  "-0.004187879643655604"
                ],
                [
                  "v26",
                  "0.00360665828835932"
                ],
                [
                  "v22",
                  "0.003061504411037674"
                ],
                [
                  "v15",
                  "-0.0027046192373455873"
                ],
                [
                  "v25",
                  "0.0025967204348342943"
                ]
              ],
              "shape": {
                "columns": 1,
                "rows": 30
              }
            },
            "text/plain": [
              "v17             -0.311266\n",
              "v14             -0.293491\n",
              "v12             -0.249222\n",
              "v10             -0.203651\n",
              "v16             -0.186174\n",
              "v3              -0.179066\n",
              "v7              -0.168170\n",
              "v11              0.148381\n",
              "v4               0.128249\n",
              "v18             -0.103904\n",
              "v9              -0.092236\n",
              "v1              -0.090789\n",
              "v5              -0.084364\n",
              "v2               0.083933\n",
              "v6              -0.044503\n",
              "v8               0.034168\n",
              "v19              0.032724\n",
              "v21              0.029664\n",
              "v27              0.023932\n",
              "v20              0.021515\n",
              "time_scaled     -0.012050\n",
              "v28              0.010386\n",
              "v24             -0.007987\n",
              "v23             -0.005966\n",
              "amount_scaled    0.005585\n",
              "v13             -0.004188\n",
              "v26              0.003607\n",
              "v22              0.003062\n",
              "v15             -0.002705\n",
              "v25              0.002597\n",
              "Name: target, dtype: float64"
            ]
          },
          "execution_count": 74,
          "metadata": {},
          "output_type": "execute_result"
        }
      ],
      "source": [
        "# 📊 Correlation with target\n",
        "correlations = X_train.copy()\n",
        "correlations['target'] = y_train\n",
        "\n",
        "corr_matrix = correlations.corr()\n",
        "target_corr = corr_matrix['target'].drop('target').sort_values(key=abs, ascending=False)\n",
        "\n",
        "# Display sorted correlations\n",
        "target_corr\n"
      ]
    },
    {
      "cell_type": "code",
      "execution_count": 75,
      "metadata": {
        "colab": {
          "base_uri": "https://localhost:8080/",
          "height": 506
        },
        "id": "RI-3y2UGD6RN",
        "outputId": "0f78bfbf-eb76-44a8-b43a-4c0b608f9b9e"
      },
      "outputs": [
        {
          "data": {
            "image/png": "[encoded data removed]",
            "text/plain": [
              "<Figure size 1000x600 with 1 Axes>"
            ]
          },
          "metadata": {},
          "output_type": "display_data"
        }
      ],
      "source": [
        "plt.figure(figsize=(10, 6))\n",
        "sns.barplot(x=target_corr.index, y=target_corr.values,hue=target_corr.index,legend=False, palette='coolwarm')\n",
        "plt.xticks(rotation=90)\n",
        "plt.title(\"Feature Correlation with Target Class (Fraud)\")\n",
        "plt.ylabel(\"Correlation Coefficient\")\n",
        "plt.show()"
      ]
    },
    {
      "cell_type": "code",
      "execution_count": 76,
      "metadata": {
        "colab": {
          "base_uri": "https://localhost:8080/"
        },
        "collapsed": true,
        "id": "4daSGUOFGQG3",
        "outputId": "ccf49fe1-a471-46f1-fa3d-2ba90d96cec3"
      },
      "outputs": [
        {
          "name": "stdout",
          "output_type": "stream",
          "text": [
            "Added Feature: v17 | F1-Score: 0.5733\n",
            "Added Feature: v14 | F1-Score: 0.1258\n",
            "Added Feature: v12 | F1-Score: 0.1144\n",
            "Added Feature: v10 | F1-Score: 0.1207\n",
            "Added Feature: v16 | F1-Score: 0.1223\n",
            "Added Feature: v3 | F1-Score: 0.1173\n",
            "Added Feature: v7 | F1-Score: 0.1195\n",
            "Added Feature: v11 | F1-Score: 0.1179\n",
            "Added Feature: v4 | F1-Score: 0.1121\n",
            "Added Feature: v18 | F1-Score: 0.1103\n",
            "Added Feature: v9 | F1-Score: 0.1105\n",
            "Added Feature: v1 | F1-Score: 0.1099\n",
            "Added Feature: v5 | F1-Score: 0.1042\n",
            "Added Feature: v2 | F1-Score: 0.1039\n",
            "Added Feature: v6 | F1-Score: 0.1062\n",
            "Added Feature: v8 | F1-Score: 0.1099\n",
            "Added Feature: v19 | F1-Score: 0.1126\n",
            "Added Feature: v21 | F1-Score: 0.1111\n",
            "Added Feature: v27 | F1-Score: 0.1120\n",
            "Added Feature: v20 | F1-Score: 0.1126\n",
            "Added Feature: time_scaled | F1-Score: 0.1157\n",
            "Added Feature: v28 | F1-Score: 0.1166\n",
            "Added Feature: v24 | F1-Score: 0.1167\n",
            "Added Feature: v23 | F1-Score: 0.1138\n",
            "Added Feature: amount_scaled | F1-Score: 0.1152\n",
            "Added Feature: v13 | F1-Score: 0.1190\n",
            "Added Feature: v26 | F1-Score: 0.1199\n",
            "Added Feature: v22 | F1-Score: 0.1146\n",
            "Added Feature: v15 | F1-Score: 0.1133\n",
            "Added Feature: v25 | F1-Score: 0.1133\n"
          ]
        }
      ],
      "source": [
        "from sklearn.model_selection import cross_val_score\n",
        "\n",
        "used_features = []\n",
        "scores = []\n",
        "\n",
        "for f in target_corr.index:\n",
        "    used_features.append(f)\n",
        "\n",
        "    log_temp = LogisticRegression(class_weight='balanced', max_iter=400, random_state=11037)\n",
        "\n",
        "    # 5-fold CV and F1 score (for imbalance)\n",
        "    cv_scores = cross_val_score(\n",
        "        log_temp,\n",
        "        X_train[used_features],\n",
        "        y_train,\n",
        "        cv=cv,\n",
        "        scoring='f1',\n",
        "        n_jobs=-1\n",
        "    )\n",
        "\n",
        "    mean_score = cv_scores.mean()\n",
        "    scores.append(mean_score)\n",
        "\n",
        "    print(f\"Added Feature: {f} | F1-Score: {mean_score:.4f}\")\n"
      ]
    },
    {
      "cell_type": "markdown",
      "metadata": {
        "id": "JuVESsPGOYTk"
      },
      "source": [
        "## 🔍 Forward Feature Selection with Logistic Regression\n",
        "\n",
        "To explore the contribution of individual features to model performance, we performed a forward feature selection procedure. At each step, we added the next most-correlated feature to the model and computed the mean F1-score using 5-fold cross-validation.\n",
        "\n",
        "The results show:\n",
        "\n",
        "- The first feature alone achieves a very high F1-score (~0.65).\n",
        "- Adding additional features leads to a sharp performance drop and does not improve results significantly.\n",
        "- This suggests that the first feature captures most of the fraud signal for a linear model like Logistic Regression.\n",
        "\n",
        "This behavior is expected because:\n",
        "- Most features are PCA-transformed and orthogonal, meaning they are uncorrelated by construction.\n",
        "- Logistic Regression may struggle to separate classes in PCA space.\n",
        "\n",
        "The plot below illustrates this trend.\n"
      ]
    },
    {
      "cell_type": "code",
      "execution_count": 77,
      "metadata": {
        "colab": {
          "base_uri": "https://localhost:8080/",
          "height": 442
        },
        "id": "F2Mzny80MmwF",
        "outputId": "8caf4b75-ec6b-4ebb-aa65-9157816977d8"
      },
      "outputs": [
        {
          "data": {
            "image/png": "[encoded data removed]",
            "text/plain": [
              "<Figure size 1000x600 with 1 Axes>"
            ]
          },
          "metadata": {},
          "output_type": "display_data"
        }
      ],
      "source": [
        "plt.figure(figsize=(10, 6))\n",
        "plt.plot(range(1, len(scores) + 1), scores, marker='o')\n",
        "plt.title(\"Feature Addition vs F1-Score\")\n",
        "plt.xlabel(\"Number of Features Added\")\n",
        "plt.ylabel(\"Mean F1-Score (5-Fold CV)\")\n",
        "plt.grid(True)\n",
        "plt.show()"
      ]
    },
    {
      "cell_type": "code",
      "execution_count": 78,
      "metadata": {
        "id": "j5I8W0yfOgcL"
      },
      "outputs": [],
      "source": [
        "log_v17_clf = LogisticRegression(class_weight='balanced', max_iter=400, random_state=11037)\n",
        "# perform cross-validation with full metrics on v17 only\n",
        "cv_v17_results = cross_validate(\n",
        "    log_v17_clf,\n",
        "    X_train[['v17']], y_train,\n",
        "    scoring=scoring,\n",
        "    cv=cv,\n",
        "    return_train_score=False\n",
        ")\n",
        "results_v17_df = pd.DataFrame(cv_v17_results).mean()"
      ]
    },
    {
      "cell_type": "code",
      "execution_count": 79,
      "metadata": {
        "colab": {
          "base_uri": "https://localhost:8080/",
          "height": 366
        },
        "id": "qB_9_Q9RR-n_",
        "outputId": "23e3b674-147c-4e61-cc6c-878cf097a041"
      },
      "outputs": [
        {
          "data": {
            "application/vnd.microsoft.datawrangler.viewer.v0+json": {
              "columns": [
                {
                  "name": "index",
                  "rawType": "object",
                  "type": "string"
                },
                {
                  "name": "0",
                  "rawType": "float64",
                  "type": "float"
                }
              ],
              "ref": "311cb85a-7e78-414d-81d3-b9d5cdecbf8a",
              "rows": [
                [
                  "fit_time",
                  "0.2090895175933838"
                ],
                [
                  "score_time",
                  "0.30730619430541994"
                ],
                [
                  "test_accuracy",
                  "0.9982245131729668"
                ],
                [
                  "test_precision",
                  "0.4815723118329582"
                ],
                [
                  "test_recall",
                  "0.7142456140350877"
                ],
                [
                  "test_f1",
                  "0.5732817386363613"
                ],
                [
                  "test_roc_auc",
                  "0.8023021110548427"
                ],
                [
                  "test_pr_auc",
                  "0.5996547844550308"
                ],
                [
                  "test_balanced_accuracy",
                  "0.8564718866523459"
                ]
              ],
              "shape": {
                "columns": 1,
                "rows": 9
              }
            },
            "text/plain": [
              "fit_time                  0.209090\n",
              "score_time                0.307306\n",
              "test_accuracy             0.998225\n",
              "test_precision            0.481572\n",
              "test_recall               0.714246\n",
              "test_f1                   0.573282\n",
              "test_roc_auc              0.802302\n",
              "test_pr_auc               0.599655\n",
              "test_balanced_accuracy    0.856472\n",
              "dtype: float64"
            ]
          },
          "execution_count": 79,
          "metadata": {},
          "output_type": "execute_result"
        }
      ],
      "source": [
        "results_v17_df"
      ]
    },
    {
      "cell_type": "code",
      "execution_count": 80,
      "metadata": {
        "colab": {
          "base_uri": "https://localhost:8080/",
          "height": 350
        },
        "id": "4ywU_TrNO8Fw",
        "outputId": "6976b864-4774-4cea-f202-422853efc968"
      },
      "outputs": [
        {
          "data": {
            "image/png": "[encoded data removed]",
            "text/plain": [
              "<Figure size 1200x600 with 1 Axes>"
            ]
          },
          "metadata": {},
          "output_type": "display_data"
        }
      ],
      "source": [
        "def plot_bar_metrics(score_df: pd.DataFrame):\n",
        "    plt.figure(figsize=(12,6))\n",
        "    model_scores_barplot = sns.barplot(score_df.loc['test_accuracy':])\n",
        "\n",
        "\n",
        "    for patch in model_scores_barplot.patches:\n",
        "        height = patch.get_height()\n",
        "        if height > 0:\n",
        "            model_scores_barplot.annotate(f'{height:.4f}',  # formatting\n",
        "                (patch.get_x() + patch.get_width() / 2, height), # setting each coordinate to be on the patch\n",
        "                ha='center', va='bottom', fontsize=8, rotation=0) # position related to the patch cordinate, right above and center\n",
        "\n",
        "\n",
        "    plt.show()\n",
        "\n",
        "plot_bar_metrics(results_v17_df)"
      ]
    },
    {
      "cell_type": "code",
      "execution_count": 81,
      "metadata": {
        "colab": {
          "base_uri": "https://localhost:8080/",
          "height": 532
        },
        "id": "UE0l17yXRDuv",
        "outputId": "3b1f26a2-774c-4804-ae6a-610ef14ac305"
      },
      "outputs": [
        {
          "data": {
            "image/png": "[encoded data removed]",
            "text/plain": [
              "<Figure size 800x600 with 1 Axes>"
            ]
          },
          "metadata": {},
          "output_type": "display_data"
        }
      ],
      "source": [
        "\n",
        "\n",
        "plt.figure(figsize=(8, 6))\n",
        "sns.boxplot(x=y_train, y=X_train['v17'])\n",
        "plt.title(\"Distribution of V17 by Target Class\")\n",
        "plt.xlabel(\"Target Class (0: Non-Fraud, 1: Fraud)\")\n",
        "plt.ylabel(\"V17 Value\")\n",
        "plt.show()"
      ]
    },
    {
      "cell_type": "code",
      "execution_count": 88,
      "metadata": {},
      "outputs": [
        {
          "name": "stdout",
          "output_type": "stream",
          "text": [
            "test_accuracy: 0.9996\n",
            "test_precision: 0.9316\n",
            "test_recall: 0.7988\n",
            "test_f1: 0.8590\n",
            "test_roc_auc: 0.9806\n",
            "test_pr_auc: 0.8510\n",
            "test_balanced_accuracy: 0.8994\n"
          ]
        }
      ],
      "source": [
        "import xgboost as xgb\n",
        "\n",
        "# XGBoost Classifier\n",
        "xgb_clf = xgb.XGBClassifier(\n",
        "    objective=\"binary:logistic\",  # Binary classification\n",
        "    eval_metric=\"aucpr\",          # PR AUC for imbalanced data\n",
        "    use_label_encoder=False,      # avoid warnings\n",
        "    scale_pos_weight=10,          # imbalance adjustment\n",
        "    random_state=11037,\n",
        "    n_jobs=-1                     # use all cores\n",
        ")\n",
        "\n",
        "cv_results = cross_validate(\n",
        "    xgb_clf,\n",
        "    X_train,\n",
        "    y_train,\n",
        "    cv=cv,\n",
        "    scoring=scoring,\n",
        "    return_train_score=False,\n",
        "    n_jobs=-1\n",
        ")\n",
        "\n",
        "# Print mean scores\n",
        "for metric, scores in cv_results.items():\n",
        "    if metric.startswith(\"test_\"):\n",
        "        print(f\"{metric}: {scores.mean():.4f}\")\n"
      ]
    },
    {
      "cell_type": "code",
      "execution_count": 90,
      "metadata": {},
      "outputs": [
        {
          "name": "stdout",
          "output_type": "stream",
          "text": [
            "Fitting 5 folds for each of 30 candidates, totalling 150 fits\n"
          ]
        },
        {
          "name": "stderr",
          "output_type": "stream",
          "text": [
            "e:\\Programacao\\LAPES\\EDA_ML_DL_PS\\LAPES-Data-Challenge-Predictive-Analytics-System\\Lib\\site-packages\\xgboost\\training.py:183: UserWarning: [12:15:59] WARNING: C:\\actions-runner\\_work\\xgboost\\xgboost\\src\\learner.cc:738: \n",
            "Parameters: { \"use_label_encoder\" } are not used.\n",
            "\n",
            "  bst.update(dtrain, iteration=i, fobj=obj)\n"
          ]
        },
        {
          "name": "stdout",
          "output_type": "stream",
          "text": [
            "Best parameters found: {'subsample': 1.0, 'scale_pos_weight': 1, 'n_estimators': 500, 'max_depth': 3, 'learning_rate': 0.05, 'colsample_bytree': 1.0}\n",
            "Best PR AUC score: 0.8532139781628663\n"
          ]
        }
      ],
      "source": [
        "from sklearn.model_selection import RandomizedSearchCV\n",
        "\n",
        "# Parameter grid\n",
        "param_dist = {\n",
        "    'n_estimators': [100, 300, 500, 750],\n",
        "    'max_depth': [3, 6, 10, None],\n",
        "    'learning_rate': [0.1, 0.05, 0.01],\n",
        "    'subsample': [0.7, 0.8, 1.0],\n",
        "    'colsample_bytree': [0.6,0.7, 0.8, 1.0],\n",
        "    'scale_pos_weight': [1, 10, 50]  # imbalance adjustment\n",
        "}\n",
        "\n",
        "# Randomized Search\n",
        "xgb_random = RandomizedSearchCV(\n",
        "    estimator=xgb_clf,\n",
        "    param_distributions=param_dist,\n",
        "    n_iter=30,                # test 20 random combinations\n",
        "    scoring='average_precision',  # optimize PR AUC\n",
        "    cv=cv,                     \n",
        "    verbose=1,\n",
        "    random_state=11037,\n",
        "    n_jobs=-1\n",
        ")\n",
        "\n",
        "xgb_random.fit(X_train, y_train )\n",
        "\n",
        "print(\"Best parameters found:\", xgb_random.best_params_)\n",
        "print(\"Best PR AUC score:\", xgb_random.best_score_)"
      ]
    },
    {
      "cell_type": "markdown",
      "metadata": {},
      "source": [
        "⚠️ **Note on Hyperparameter Boundaries**\n",
        "When RandomizedSearchCV selects a parameter at the boundary of the search space, it suggests that a better value may lie beyond the current range. To address this, we expanded the grid for that parameter and reran the search, carefully monitoring for overfitting.\n"
      ]
    },
    {
      "cell_type": "code",
      "execution_count": 91,
      "metadata": {},
      "outputs": [],
      "source": [
        "\n",
        "\n",
        "bst_clf = xgb.XGBClassifier(\n",
        "    **xgb_random.best_params_,\n",
        "    random_state=11037,\n",
        "    n_jobs=-1\n",
        ")\n"
      ]
    },
    {
      "cell_type": "code",
      "execution_count": 92,
      "metadata": {},
      "outputs": [],
      "source": [
        "bst_clf_results = cross_validate(\n",
        "    bst_clf,\n",
        "    X_train, y_train,\n",
        "    scoring=scoring,\n",
        "    cv=cv,\n",
        "    return_train_score=False\n",
        ")"
      ]
    },
    {
      "cell_type": "code",
      "execution_count": 93,
      "metadata": {},
      "outputs": [],
      "source": [
        "bst_clf_results_df = pd.DataFrame(bst_clf_results).mean()"
      ]
    },
    {
      "cell_type": "code",
      "execution_count": 94,
      "metadata": {},
      "outputs": [
        {
          "data": {
            "image/png": "[encoded data removed]",
            "text/plain": [
              "<Figure size 1200x600 with 1 Axes>"
            ]
          },
          "metadata": {},
          "output_type": "display_data"
        }
      ],
      "source": [
        "plot_bar_metrics(bst_clf_results_df)"
      ]
    },
    {
      "cell_type": "markdown",
      "metadata": {
        "id": "uhwBzHhJVbNM"
      },
      "source": [
        "## 🌲 Random Forest Classifier With Feature Importances\n",
        "\n",
        "To explore non-linear patterns and potential feature interactions, we train a Random Forest Classifier using all PCA-transformed features and the scaled `Amount` and `Time`.  \n",
        "\n",
        "Random Forest is a tree-based ensemble method that:  \n",
        "- Handles imbalanced datasets better than linear models.  \n",
        "- Provides a direct estimate of feature importances.  \n",
        "\n",
        "We train the model using 5-fold cross-validation and compute the same evaluation metrics as before.\n"
      ]
    },
    {
      "cell_type": "code",
      "execution_count": null,
      "metadata": {},
      "outputs": [],
      "source": [
        "# importing \n",
        "from sklearn.ensemble import RandomForestClassifier\n",
        "from sklearn.model_selection import cross_validate\n"
      ]
    },
    {
      "cell_type": "code",
      "execution_count": null,
      "metadata": {
        "colab": {
          "base_uri": "https://localhost:8080/"
        },
        "id": "qgpQYVyvVjK8",
        "outputId": "e1926dd0-493b-486d-bb9a-369a2e27c15e"
      },
      "outputs": [
        {
          "name": "stdout",
          "output_type": "stream",
          "text": [
            "test_accuracy: 0.999485\n",
            "test_precision: 0.945307\n",
            "test_recall: 0.732737\n",
            "test_f1: 0.825389\n",
            "test_roc_auc: 0.938862\n",
            "test_pr_auc: 0.824314\n",
            "test_balanced_accuracy: 0.866333\n"
          ]
        }
      ],
      "source": [
        "# ⚙️ Random Forest model\n",
        "rf_clf = RandomForestClassifier(\n",
        "    n_estimators=100,\n",
        "    max_depth=None,\n",
        "    class_weight='balanced',  # Handle class imbalance\n",
        "    random_state=11037,\n",
        "    n_jobs=-1\n",
        ")\n",
        "\n",
        "# 📊 Evaluate model\n",
        "rf_cv_results = cross_validate(\n",
        "    rf_clf,\n",
        "    X_train,\n",
        "    y_train,\n",
        "    cv=cv,\n",
        "    scoring=scoring,\n",
        "    return_estimator=True,\n",
        "    n_jobs=-1\n",
        ")\n",
        "\n",
        "# 📄 Display mean CV scores\n",
        "for metric, scores in rf_cv_results.items():\n",
        "    if metric.startswith(\"test_\"):\n",
        "        print(f\"{metric}: {scores.mean():.6f}\")\n",
        "\n",
        "results_rand_tree_df = pd.DataFrame(rf_cv_results)\n"
      ]
    },
    {
      "cell_type": "code",
      "execution_count": null,
      "metadata": {
        "colab": {
          "base_uri": "https://localhost:8080/",
          "height": 303
        },
        "id": "uXLWafAbZXVm",
        "outputId": "e1dd4dbb-3ef8-4741-f49e-ca424271a04d"
      },
      "outputs": [
        {
          "data": {
            "application/vnd.microsoft.datawrangler.viewer.v0+json": {
              "columns": [
                {
                  "name": "index",
                  "rawType": "object",
                  "type": "string"
                },
                {
                  "name": "0",
                  "rawType": "float64",
                  "type": "float"
                }
              ],
              "ref": "c78a68a3-55f1-4a03-a981-1a97892cf696",
              "rows": [
                [
                  "test_accuracy",
                  "0.9994845360824742"
                ],
                [
                  "test_precision",
                  "0.9453073540925143"
                ],
                [
                  "test_recall",
                  "0.7327368421052631"
                ],
                [
                  "test_f1",
                  "0.8253888123911007"
                ],
                [
                  "test_roc_auc",
                  "0.9388623842562701"
                ],
                [
                  "test_pr_auc",
                  "0.8243140487201568"
                ],
                [
                  "test_balanced_accuracy",
                  "0.8663331168921147"
                ]
              ],
              "shape": {
                "columns": 1,
                "rows": 7
              }
            },
            "text/plain": [
              "test_accuracy             0.999485\n",
              "test_precision            0.945307\n",
              "test_recall               0.732737\n",
              "test_f1                   0.825389\n",
              "test_roc_auc              0.938862\n",
              "test_pr_auc               0.824314\n",
              "test_balanced_accuracy    0.866333\n",
              "dtype: float64"
            ]
          },
          "execution_count": 36,
          "metadata": {},
          "output_type": "execute_result"
        }
      ],
      "source": [
        "results_rand_tree_df = pd.DataFrame(rf_cv_results).mean(numeric_only=True)\n",
        "results_rand_tree_df.loc['test_accuracy':]"
      ]
    },
    {
      "cell_type": "code",
      "execution_count": null,
      "metadata": {
        "colab": {
          "base_uri": "https://localhost:8080/",
          "height": 370
        },
        "id": "Pf3JkZ0cXs4A",
        "outputId": "98f4f02d-3851-428c-d71b-84472014ec83"
      },
      "outputs": [
        {
          "data": {
            "image/png": "[encoded data removed]",
            "text/plain": [
              "<Figure size 1200x600 with 1 Axes>"
            ]
          },
          "metadata": {},
          "output_type": "display_data"
        }
      ],
      "source": [
        "plt.figure(figsize=(12, 6))\n",
        "\n",
        "# 📊 Bar plot for Random Forest metrics\n",
        "rand_tree_scores_barplot = sns.barplot(data=results_rand_tree_df.loc['test_accuracy':])\n",
        "\n",
        "# Annotate bars with their values\n",
        "for patch in rand_tree_scores_barplot.patches:\n",
        "    height = patch.get_height()\n",
        "    rand_tree_scores_barplot.annotate(\n",
        "        f'{height:.4f}',  # Format value\n",
        "        (patch.get_x() + patch.get_width() / 2, height),  # Center annotation\n",
        "        ha='center', va='bottom', fontsize=8, color='black'\n",
        "    )\n",
        "\n",
        "plt.title(\"Random Forest Cross-Validation Scores\")\n",
        "plt.ylabel(\"Score\")\n",
        "plt.xlabel(\"Metrics\")\n",
        "plt.show()\n"
      ]
    },
    {
      "cell_type": "code",
      "execution_count": null,
      "metadata": {
        "colab": {
          "base_uri": "https://localhost:8080/",
          "height": 1000
        },
        "id": "sQ366KJVWsXV",
        "outputId": "79829f85-1a4c-4208-a29b-e4a0ef80c11c"
      },
      "outputs": [
        {
          "data": {
            "application/vnd.microsoft.datawrangler.viewer.v0+json": {
              "columns": [
                {
                  "name": "index",
                  "rawType": "object",
                  "type": "string"
                },
                {
                  "name": "0",
                  "rawType": "float64",
                  "type": "float"
                }
              ],
              "ref": "ecfeb706-afea-4348-ae30-26632ca56a24",
              "rows": [
                [
                  "v14",
                  "0.17065478414338067"
                ],
                [
                  "v10",
                  "0.1491086982297523"
                ],
                [
                  "v12",
                  "0.12883944624385416"
                ],
                [
                  "v4",
                  "0.10678848214775191"
                ],
                [
                  "v11",
                  "0.07392106236244202"
                ],
                [
                  "v17",
                  "0.06400754656812054"
                ],
                [
                  "v3",
                  "0.03533358999191901"
                ],
                [
                  "v16",
                  "0.033380905873883794"
                ],
                [
                  "v7",
                  "0.03297338181308739"
                ],
                [
                  "v21",
                  "0.02076397793022404"
                ],
                [
                  "v2",
                  "0.01968883314832405"
                ],
                [
                  "v19",
                  "0.01396501330714627"
                ],
                [
                  "v18",
                  "0.013448507149159484"
                ],
                [
                  "amount_scaled",
                  "0.012270862145038176"
                ],
                [
                  "v20",
                  "0.012179068193473457"
                ],
                [
                  "v8",
                  "0.010253013565227927"
                ],
                [
                  "v1",
                  "0.009848944289456294"
                ],
                [
                  "v5",
                  "0.009663793362278041"
                ],
                [
                  "v13",
                  "0.009015646789118526"
                ],
                [
                  "v9",
                  "0.008682734341090896"
                ],
                [
                  "v15",
                  "0.008311326360552226"
                ],
                [
                  "v26",
                  "0.008155368219886739"
                ],
                [
                  "v22",
                  "0.007096082152093138"
                ],
                [
                  "v6",
                  "0.006622585787237539"
                ],
                [
                  "v27",
                  "0.006470832651686617"
                ],
                [
                  "v23",
                  "0.006432346347499225"
                ],
                [
                  "v25",
                  "0.006125721267229626"
                ],
                [
                  "v28",
                  "0.0060551158778577455"
                ],
                [
                  "time_scaled",
                  "0.005303631924780404"
                ],
                [
                  "v24",
                  "0.004638697816447883"
                ]
              ],
              "shape": {
                "columns": 1,
                "rows": 30
              }
            },
            "text/plain": [
              "v14              0.170655\n",
              "v10              0.149109\n",
              "v12              0.128839\n",
              "v4               0.106788\n",
              "v11              0.073921\n",
              "v17              0.064008\n",
              "v3               0.035334\n",
              "v16              0.033381\n",
              "v7               0.032973\n",
              "v21              0.020764\n",
              "v2               0.019689\n",
              "v19              0.013965\n",
              "v18              0.013449\n",
              "amount_scaled    0.012271\n",
              "v20              0.012179\n",
              "v8               0.010253\n",
              "v1               0.009849\n",
              "v5               0.009664\n",
              "v13              0.009016\n",
              "v9               0.008683\n",
              "v15              0.008311\n",
              "v26              0.008155\n",
              "v22              0.007096\n",
              "v6               0.006623\n",
              "v27              0.006471\n",
              "v23              0.006432\n",
              "v25              0.006126\n",
              "v28              0.006055\n",
              "time_scaled      0.005304\n",
              "v24              0.004639\n",
              "dtype: float64"
            ]
          },
          "execution_count": 38,
          "metadata": {},
          "output_type": "execute_result"
        }
      ],
      "source": [
        "import numpy as np\n",
        "\n",
        "importances = np.mean(\n",
        "    [estimator.feature_importances_ for estimator in rf_cv_results['estimator']],\n",
        "    axis=0\n",
        ")\n",
        "\n",
        "# 📊 Sort and display\n",
        "feature_importances = pd.Series(importances, index=X_train.columns).sort_values(ascending=False)\n",
        "feature_importances"
      ]
    },
    {
      "cell_type": "code",
      "execution_count": null,
      "metadata": {
        "colab": {
          "base_uri": "https://localhost:8080/",
          "height": 516
        },
        "id": "uloRwzmdXIh-",
        "outputId": "f397de9f-aa39-43d5-cfcd-d1c55b53435d"
      },
      "outputs": [
        {
          "name": "stderr",
          "output_type": "stream",
          "text": [
            "C:\\Users\\José Victor\\AppData\\Local\\Temp\\ipykernel_17616\\1651492526.py:6: FutureWarning: \n",
            "\n",
            "Passing `palette` without assigning `hue` is deprecated and will be removed in v0.14.0. Assign the `y` variable to `hue` and set `legend=False` for the same effect.\n",
            "\n",
            "  sns.barplot(x=feature_importances.values, y=feature_importances.index, palette=\"viridis\")\n"
          ]
        },
        {
          "data": {
            "image/png": "[encoded data removed]",
            "text/plain": [
              "<Figure size 1000x600 with 1 Axes>"
            ]
          },
          "metadata": {},
          "output_type": "display_data"
        }
      ],
      "source": [
        "# 📉 Plot Feature Importances\n",
        "import matplotlib.pyplot as plt\n",
        "import seaborn as sns\n",
        "\n",
        "plt.figure(figsize=(10, 6))\n",
        "sns.barplot(x=feature_importances.values, y=feature_importances.index, palette=\"viridis\")\n",
        "plt.title(\"Random Forest Feature Importances\")\n",
        "plt.xlabel(\"Importance\")\n",
        "plt.ylabel(\"Feature\")\n",
        "plt.show()\n"
      ]
    },
    {
      "cell_type": "markdown",
      "metadata": {
        "id": "PCW_fsjNeu6D"
      },
      "source": [
        "## 🌲 Random Forest Feature Importances\n",
        "\n",
        "The analysis shows that a small subset of PCA-transformed features (notably V14, V10, V4, V12) carries most of the predictive signal for fraud detection. Features like `amount_scaled` have moderate importance, while `time_scaled` and several PCA features contribute little to model performance.\n",
        "\n",
        "This suggests that fraud is characterized by patterns concentrated in a few principal components. However, Random Forest’s robustness to irrelevant features allows us to retain all features for now.\n"
      ]
    },
    {
      "cell_type": "code",
      "execution_count": null,
      "metadata": {
        "colab": {
          "base_uri": "https://localhost:8080/"
        },
        "id": "_1a3fqVKoYQ4",
        "outputId": "50d80c9c-4ee7-49f4-931b-60af83b9f7cd"
      },
      "outputs": [
        {
          "name": "stdout",
          "output_type": "stream",
          "text": [
            "test_accuracy: 0.999454\n",
            "test_precision: 0.929168\n",
            "test_recall: 0.727368\n",
            "test_f1: 0.815330\n",
            "test_roc_auc: 0.932688\n",
            "test_pr_auc: 0.802445\n",
            "test_balanced_accuracy: 0.863638\n"
          ]
        }
      ],
      "source": [
        "# lets try to speed training up by limiting training to top 5\n",
        "features_to_use = feature_importances.index[:5]\n",
        "\n",
        "# 📊 Evaluate model\n",
        "rf_quick_cv_results = cross_validate(\n",
        "    rf_clf,\n",
        "    X_train[features_to_use],\n",
        "    y_train,\n",
        "    cv=cv,\n",
        "    scoring=scoring,\n",
        "    return_estimator=True,\n",
        "    n_jobs=-1\n",
        ")\n",
        "\n",
        "# 📄 Display mean CV scores\n",
        "for metric, scores in rf_quick_cv_results.items():\n",
        "    if metric.startswith(\"test_\"):\n",
        "        print(f\"{metric}: {scores.mean():.6f}\")\n",
        "\n",
        "results_quick_rand_tree_df = pd.DataFrame(rf_quick_cv_results)\n"
      ]
    },
    {
      "cell_type": "code",
      "execution_count": null,
      "metadata": {
        "colab": {
          "base_uri": "https://localhost:8080/",
          "height": 303
        },
        "id": "V43tGpDEskVn",
        "outputId": "6f61d2e3-c583-4baa-c5d1-16adc51cf5f7"
      },
      "outputs": [
        {
          "data": {
            "application/vnd.microsoft.datawrangler.viewer.v0+json": {
              "columns": [
                {
                  "name": "index",
                  "rawType": "object",
                  "type": "string"
                },
                {
                  "name": "0",
                  "rawType": "float64",
                  "type": "float"
                }
              ],
              "ref": "6efd48f8-72d4-4097-b254-8d97dfb52576",
              "rows": [
                [
                  "test_accuracy",
                  "0.9994536963609129"
                ],
                [
                  "test_precision",
                  "0.9291682991598103"
                ],
                [
                  "test_recall",
                  "0.7273684210526314"
                ],
                [
                  "test_f1",
                  "0.815330372452942"
                ],
                [
                  "test_roc_auc",
                  "0.9326882965845529"
                ],
                [
                  "test_pr_auc",
                  "0.8024450052851007"
                ],
                [
                  "test_balanced_accuracy",
                  "0.8636378737091353"
                ]
              ],
              "shape": {
                "columns": 1,
                "rows": 7
              }
            },
            "text/plain": [
              "test_accuracy             0.999454\n",
              "test_precision            0.929168\n",
              "test_recall               0.727368\n",
              "test_f1                   0.815330\n",
              "test_roc_auc              0.932688\n",
              "test_pr_auc               0.802445\n",
              "test_balanced_accuracy    0.863638\n",
              "dtype: float64"
            ]
          },
          "execution_count": 41,
          "metadata": {},
          "output_type": "execute_result"
        }
      ],
      "source": [
        "results_quick_rand_tree_df = pd.DataFrame(rf_quick_cv_results).mean(numeric_only=True)\n",
        "results_quick_rand_tree_df.loc['test_accuracy':]"
      ]
    },
    {
      "cell_type": "code",
      "execution_count": null,
      "metadata": {
        "colab": {
          "base_uri": "https://localhost:8080/",
          "height": 370
        },
        "id": "CT3wavjSqeHc",
        "outputId": "594e44a3-9b8c-40f9-953b-5a990e8541bd"
      },
      "outputs": [
        {
          "data": {
            "image/png": "[encoded data removed]",
            "text/plain": [
              "<Figure size 1200x600 with 1 Axes>"
            ]
          },
          "metadata": {},
          "output_type": "display_data"
        }
      ],
      "source": [
        "#plotting the quick version\n",
        "plt.figure(figsize=(12, 6))\n",
        "\n",
        "# 📊 Bar plot for Random Forest metrics\n",
        "quick_rand_tree_scores_barplot = sns.barplot(data=results_quick_rand_tree_df.loc['test_accuracy':])\n",
        "\n",
        "# Annotate bars with their values\n",
        "for patch in quick_rand_tree_scores_barplot.patches:\n",
        "    height = patch.get_height()\n",
        "    quick_rand_tree_scores_barplot.annotate(\n",
        "        f'{height:.4f}',  # Format value\n",
        "        (patch.get_x() + patch.get_width() / 2, height),  # Center annotation\n",
        "        ha='center', va='bottom', fontsize=8, color='black'\n",
        "    )\n",
        "\n",
        "plt.title(\"Quick Random Forest Cross-Validation Scores\")\n",
        "plt.ylabel(\"Score\")\n",
        "plt.xlabel(\"Metrics\")\n",
        "plt.show()\n"
      ]
    },
    {
      "cell_type": "markdown",
      "metadata": {},
      "source": [
        "### Hyperparameter tuning with randomized search CV from sklearn\n"
      ]
    },
    {
      "cell_type": "code",
      "execution_count": null,
      "metadata": {
        "id": "Ch6D1mUbf7NS"
      },
      "outputs": [
        {
          "data": {
            "text/plain": [
              "'v25'"
            ]
          },
          "execution_count": 43,
          "metadata": {},
          "output_type": "execute_result"
        }
      ],
      "source": [
        "\n",
        "\n",
        "param_dist = {\n",
        "    \"n_estimators\": [100, 300, 500],\n",
        "    \"max_depth\": [None, 10, 20, 30],\n",
        "    \"min_samples_split\": [2, 5, 10],\n",
        "    \"max_features\": [\"sqrt\", \"log2\", None],\n",
        "}\n",
        "\n",
        "rand_search = RandomizedSearchCV(\n",
        "    RandomForestClassifier(class_weight=\"balanced\", random_state=11037),\n",
        "    param_distributions=param_dist,\n",
        "    scoring='f1',\n",
        "    n_iter=10,\n",
        "    cv=cv,\n",
        "    random_state=11037\n",
        ")\n",
        "rand_search.fit(X_train[features_to_use], y_train)\n",
        "\n",
        "\n",
        "f"
      ]
    },
    {
      "cell_type": "code",
      "execution_count": null,
      "metadata": {},
      "outputs": [
        {
          "name": "stdout",
          "output_type": "stream",
          "text": [
            "Best parameters: {'n_estimators': 300, 'min_samples_split': 5, 'max_features': 'sqrt', 'max_depth': None}\n",
            "F1_score for top model:  0.8204577619229511\n"
          ]
        }
      ],
      "source": [
        "print(\"Best parameters:\", rand_search.best_params_)\n",
        "print(\"F1_score for top model: \", rand_search.best_score_)"
      ]
    },
    {
      "cell_type": "code",
      "execution_count": null,
      "metadata": {},
      "outputs": [],
      "source": [
        "tuned_rf_model = RandomForestClassifier(\n",
        "    n_estimators=300,\n",
        "    min_samples_split=5,\n",
        "    max_features='sqrt',\n",
        "    max_depth=None,\n",
        "    random_state=11037,\n",
        "    class_weight='balanced',\n",
        "    n_jobs=-1\n",
        ")"
      ]
    },
    {
      "cell_type": "code",
      "execution_count": null,
      "metadata": {},
      "outputs": [],
      "source": [
        "# eval the model with CV\n",
        "\n",
        "tuned_rf_cv_results = cross_validate(\n",
        "    tuned_rf_model,\n",
        "    X_train,\n",
        "    y_train,\n",
        "    cv=cv,\n",
        "    scoring=scoring,\n",
        "    return_estimator=True,\n",
        "    n_jobs=-1\n",
        ")\n",
        "\n",
        "tuned_rf_results = pd.DataFrame(tuned_rf_cv_results).mean(numeric_only=True)"
      ]
    },
    {
      "cell_type": "code",
      "execution_count": null,
      "metadata": {},
      "outputs": [
        {
          "data": {
            "image/png": "[encoded data removed]",
            "text/plain": [
              "<Figure size 1200x600 with 1 Axes>"
            ]
          },
          "metadata": {},
          "output_type": "display_data"
        }
      ],
      "source": [
        "plt.figure(figsize=(12, 6))\n",
        "\n",
        "# 📊 Bar plot for Random Forest metrics\n",
        "rf_tuned_scores_barplot = sns.barplot(data=tuned_rf_results.loc['test_accuracy':])\n",
        "\n",
        "# Annotate bars with their values\n",
        "for patch in rf_tuned_scores_barplot.patches:\n",
        "    height = patch.get_height()\n",
        "    rf_tuned_scores_barplot.annotate(\n",
        "        f'{height:.4f}',  # Format value\n",
        "        (patch.get_x() + patch.get_width() / 2, height),  # Center annotation\n",
        "        ha='center', va='bottom', fontsize=8, color='black'\n",
        "    )\n",
        "\n",
        "plt.title(\"Tuned Random Forest Cross-Validation Scores\")\n",
        "plt.ylabel(\"Score\")\n",
        "plt.xlabel(\"Metrics\")\n",
        "plt.show()"
      ]
    },
    {
      "cell_type": "markdown",
      "metadata": {},
      "source": [
        "### Now that we have found the best hyperparameters, lets train our *final* model on the whole training data"
      ]
    },
    {
      "cell_type": "code",
      "execution_count": null,
      "metadata": {},
      "outputs": [],
      "source": [
        "final_rf_model = RandomForestClassifier(\n",
        "    n_estimators=300,\n",
        "    min_samples_split=5,\n",
        "    max_features='sqrt',\n",
        "    max_depth=None,\n",
        "    random_state=11037,\n",
        "    class_weight='balanced',\n",
        "    n_jobs=-1\n",
        ")"
      ]
    },
    {
      "cell_type": "code",
      "execution_count": null,
      "metadata": {},
      "outputs": [
        {
          "data": {
            "text/html": [
              "<style>#sk-container-id-2 {\n",
              "  /* Definition of color scheme common for light and dark mode */\n",
              "  --sklearn-color-text: #000;\n",
              "  --sklearn-color-text-muted: #666;\n",
              "  --sklearn-color-line: gray;\n",
              "  /* Definition of color scheme for unfitted estimators */\n",
              "  --sklearn-color-unfitted-level-0: #fff5e6;\n",
              "  --sklearn-color-unfitted-level-1: #f6e4d2;\n",
              "  --sklearn-color-unfitted-level-2: #ffe0b3;\n",
              "  --sklearn-color-unfitted-level-3: chocolate;\n",
              "  /* Definition of color scheme for fitted estimators */\n",
              "  --sklearn-color-fitted-level-0: #f0f8ff;\n",
              "  --sklearn-color-fitted-level-1: #d4ebff;\n",
              "  --sklearn-color-fitted-level-2: #b3dbfd;\n",
              "  --sklearn-color-fitted-level-3: cornflowerblue;\n",
              "\n",
              "  /* Specific color for light theme */\n",
              "  --sklearn-color-text-on-default-background: var(--sg-text-color, var(--theme-code-foreground, var(--jp-content-font-color1, black)));\n",
              "  --sklearn-color-background: var(--sg-background-color, var(--theme-background, var(--jp-layout-color0, white)));\n",
              "  --sklearn-color-border-box: var(--sg-text-color, var(--theme-code-foreground, var(--jp-content-font-color1, black)));\n",
              "  --sklearn-color-icon: #696969;\n",
              "\n",
              "  @media (prefers-color-scheme: dark) {\n",
              "    /* Redefinition of color scheme for dark theme */\n",
              "    --sklearn-color-text-on-default-background: var(--sg-text-color, var(--theme-code-foreground, var(--jp-content-font-color1, white)));\n",
              "    --sklearn-color-background: var(--sg-background-color, var(--theme-background, var(--jp-layout-color0, #111)));\n",
              "    --sklearn-color-border-box: var(--sg-text-color, var(--theme-code-foreground, var(--jp-content-font-color1, white)));\n",
              "    --sklearn-color-icon: #878787;\n",
              "  }\n",
              "}\n",
              "\n",
              "#sk-container-id-2 {\n",
              "  color: var(--sklearn-color-text);\n",
              "}\n",
              "\n",
              "#sk-container-id-2 pre {\n",
              "  padding: 0;\n",
              "}\n",
              "\n",
              "#sk-container-id-2 input.sk-hidden--visually {\n",
              "  border: 0;\n",
              "  clip: rect(1px 1px 1px 1px);\n",
              "  clip: rect(1px, 1px, 1px, 1px);\n",
              "  height: 1px;\n",
              "  margin: -1px;\n",
              "  overflow: hidden;\n",
              "  padding: 0;\n",
              "  position: absolute;\n",
              "  width: 1px;\n",
              "}\n",
              "\n",
              "#sk-container-id-2 div.sk-dashed-wrapped {\n",
              "  border: 1px dashed var(--sklearn-color-line);\n",
              "  margin: 0 0.4em 0.5em 0.4em;\n",
              "  box-sizing: border-box;\n",
              "  padding-bottom: 0.4em;\n",
              "  background-color: var(--sklearn-color-background);\n",
              "}\n",
              "\n",
              "#sk-container-id-2 div.sk-container {\n",
              "  /* jupyter's `normalize.less` sets `[hidden] { display: none; }`\n",
              "     but bootstrap.min.css set `[hidden] { display: none !important; }`\n",
              "     so we also need the `!important` here to be able to override the\n",
              "     default hidden behavior on the sphinx rendered scikit-learn.org.\n",
              "     See: https://github.com/scikit-learn/scikit-learn/issues/21755 */\n",
              "  display: inline-block !important;\n",
              "  position: relative;\n",
              "}\n",
              "\n",
              "#sk-container-id-2 div.sk-text-repr-fallback {\n",
              "  display: none;\n",
              "}\n",
              "\n",
              "div.sk-parallel-item,\n",
              "div.sk-serial,\n",
              "div.sk-item {\n",
              "  /* draw centered vertical line to link estimators */\n",
              "  background-image: linear-gradient(var(--sklearn-color-text-on-default-background), var(--sklearn-color-text-on-default-background));\n",
              "  background-size: 2px 100%;\n",
              "  background-repeat: no-repeat;\n",
              "  background-position: center center;\n",
              "}\n",
              "\n",
              "/* Parallel-specific style estimator block */\n",
              "\n",
              "#sk-container-id-2 div.sk-parallel-item::after {\n",
              "  content: \"\";\n",
              "  width: 100%;\n",
              "  border-bottom: 2px solid var(--sklearn-color-text-on-default-background);\n",
              "  flex-grow: 1;\n",
              "}\n",
              "\n",
              "#sk-container-id-2 div.sk-parallel {\n",
              "  display: flex;\n",
              "  align-items: stretch;\n",
              "  justify-content: center;\n",
              "  background-color: var(--sklearn-color-background);\n",
              "  position: relative;\n",
              "}\n",
              "\n",
              "#sk-container-id-2 div.sk-parallel-item {\n",
              "  display: flex;\n",
              "  flex-direction: column;\n",
              "}\n",
              "\n",
              "#sk-container-id-2 div.sk-parallel-item:first-child::after {\n",
              "  align-self: flex-end;\n",
              "  width: 50%;\n",
              "}\n",
              "\n",
              "#sk-container-id-2 div.sk-parallel-item:last-child::after {\n",
              "  align-self: flex-start;\n",
              "  width: 50%;\n",
              "}\n",
              "\n",
              "#sk-container-id-2 div.sk-parallel-item:only-child::after {\n",
              "  width: 0;\n",
              "}\n",
              "\n",
              "/* Serial-specific style estimator block */\n",
              "\n",
              "#sk-container-id-2 div.sk-serial {\n",
              "  display: flex;\n",
              "  flex-direction: column;\n",
              "  align-items: center;\n",
              "  background-color: var(--sklearn-color-background);\n",
              "  padding-right: 1em;\n",
              "  padding-left: 1em;\n",
              "}\n",
              "\n",
              "\n",
              "/* Toggleable style: style used for estimator/Pipeline/ColumnTransformer box that is\n",
              "clickable and can be expanded/collapsed.\n",
              "- Pipeline and ColumnTransformer use this feature and define the default style\n",
              "- Estimators will overwrite some part of the style using the `sk-estimator` class\n",
              "*/\n",
              "\n",
              "/* Pipeline and ColumnTransformer style (default) */\n",
              "\n",
              "#sk-container-id-2 div.sk-toggleable {\n",
              "  /* Default theme specific background. It is overwritten whether we have a\n",
              "  specific estimator or a Pipeline/ColumnTransformer */\n",
              "  background-color: var(--sklearn-color-background);\n",
              "}\n",
              "\n",
              "/* Toggleable label */\n",
              "#sk-container-id-2 label.sk-toggleable__label {\n",
              "  cursor: pointer;\n",
              "  display: flex;\n",
              "  width: 100%;\n",
              "  margin-bottom: 0;\n",
              "  padding: 0.5em;\n",
              "  box-sizing: border-box;\n",
              "  text-align: center;\n",
              "  align-items: start;\n",
              "  justify-content: space-between;\n",
              "  gap: 0.5em;\n",
              "}\n",
              "\n",
              "#sk-container-id-2 label.sk-toggleable__label .caption {\n",
              "  font-size: 0.6rem;\n",
              "  font-weight: lighter;\n",
              "  color: var(--sklearn-color-text-muted);\n",
              "}\n",
              "\n",
              "#sk-container-id-2 label.sk-toggleable__label-arrow:before {\n",
              "  /* Arrow on the left of the label */\n",
              "  content: \"▸\";\n",
              "  float: left;\n",
              "  margin-right: 0.25em;\n",
              "  color: var(--sklearn-color-icon);\n",
              "}\n",
              "\n",
              "#sk-container-id-2 label.sk-toggleable__label-arrow:hover:before {\n",
              "  color: var(--sklearn-color-text);\n",
              "}\n",
              "\n",
              "/* Toggleable content - dropdown */\n",
              "\n",
              "#sk-container-id-2 div.sk-toggleable__content {\n",
              "  display: none;\n",
              "  text-align: left;\n",
              "  /* unfitted */\n",
              "  background-color: var(--sklearn-color-unfitted-level-0);\n",
              "}\n",
              "\n",
              "#sk-container-id-2 div.sk-toggleable__content.fitted {\n",
              "  /* fitted */\n",
              "  background-color: var(--sklearn-color-fitted-level-0);\n",
              "}\n",
              "\n",
              "#sk-container-id-2 div.sk-toggleable__content pre {\n",
              "  margin: 0.2em;\n",
              "  border-radius: 0.25em;\n",
              "  color: var(--sklearn-color-text);\n",
              "  /* unfitted */\n",
              "  background-color: var(--sklearn-color-unfitted-level-0);\n",
              "}\n",
              "\n",
              "#sk-container-id-2 div.sk-toggleable__content.fitted pre {\n",
              "  /* unfitted */\n",
              "  background-color: var(--sklearn-color-fitted-level-0);\n",
              "}\n",
              "\n",
              "#sk-container-id-2 input.sk-toggleable__control:checked~div.sk-toggleable__content {\n",
              "  /* Expand drop-down */\n",
              "  display: block;\n",
              "  width: 100%;\n",
              "  overflow: visible;\n",
              "}\n",
              "\n",
              "#sk-container-id-2 input.sk-toggleable__control:checked~label.sk-toggleable__label-arrow:before {\n",
              "  content: \"▾\";\n",
              "}\n",
              "\n",
              "/* Pipeline/ColumnTransformer-specific style */\n",
              "\n",
              "#sk-container-id-2 div.sk-label input.sk-toggleable__control:checked~label.sk-toggleable__label {\n",
              "  color: var(--sklearn-color-text);\n",
              "  background-color: var(--sklearn-color-unfitted-level-2);\n",
              "}\n",
              "\n",
              "#sk-container-id-2 div.sk-label.fitted input.sk-toggleable__control:checked~label.sk-toggleable__label {\n",
              "  background-color: var(--sklearn-color-fitted-level-2);\n",
              "}\n",
              "\n",
              "/* Estimator-specific style */\n",
              "\n",
              "/* Colorize estimator box */\n",
              "#sk-container-id-2 div.sk-estimator input.sk-toggleable__control:checked~label.sk-toggleable__label {\n",
              "  /* unfitted */\n",
              "  background-color: var(--sklearn-color-unfitted-level-2);\n",
              "}\n",
              "\n",
              "#sk-container-id-2 div.sk-estimator.fitted input.sk-toggleable__control:checked~label.sk-toggleable__label {\n",
              "  /* fitted */\n",
              "  background-color: var(--sklearn-color-fitted-level-2);\n",
              "}\n",
              "\n",
              "#sk-container-id-2 div.sk-label label.sk-toggleable__label,\n",
              "#sk-container-id-2 div.sk-label label {\n",
              "  /* The background is the default theme color */\n",
              "  color: var(--sklearn-color-text-on-default-background);\n",
              "}\n",
              "\n",
              "/* On hover, darken the color of the background */\n",
              "#sk-container-id-2 div.sk-label:hover label.sk-toggleable__label {\n",
              "  color: var(--sklearn-color-text);\n",
              "  background-color: var(--sklearn-color-unfitted-level-2);\n",
              "}\n",
              "\n",
              "/* Label box, darken color on hover, fitted */\n",
              "#sk-container-id-2 div.sk-label.fitted:hover label.sk-toggleable__label.fitted {\n",
              "  color: var(--sklearn-color-text);\n",
              "  background-color: var(--sklearn-color-fitted-level-2);\n",
              "}\n",
              "\n",
              "/* Estimator label */\n",
              "\n",
              "#sk-container-id-2 div.sk-label label {\n",
              "  font-family: monospace;\n",
              "  font-weight: bold;\n",
              "  display: inline-block;\n",
              "  line-height: 1.2em;\n",
              "}\n",
              "\n",
              "#sk-container-id-2 div.sk-label-container {\n",
              "  text-align: center;\n",
              "}\n",
              "\n",
              "/* Estimator-specific */\n",
              "#sk-container-id-2 div.sk-estimator {\n",
              "  font-family: monospace;\n",
              "  border: 1px dotted var(--sklearn-color-border-box);\n",
              "  border-radius: 0.25em;\n",
              "  box-sizing: border-box;\n",
              "  margin-bottom: 0.5em;\n",
              "  /* unfitted */\n",
              "  background-color: var(--sklearn-color-unfitted-level-0);\n",
              "}\n",
              "\n",
              "#sk-container-id-2 div.sk-estimator.fitted {\n",
              "  /* fitted */\n",
              "  background-color: var(--sklearn-color-fitted-level-0);\n",
              "}\n",
              "\n",
              "/* on hover */\n",
              "#sk-container-id-2 div.sk-estimator:hover {\n",
              "  /* unfitted */\n",
              "  background-color: var(--sklearn-color-unfitted-level-2);\n",
              "}\n",
              "\n",
              "#sk-container-id-2 div.sk-estimator.fitted:hover {\n",
              "  /* fitted */\n",
              "  background-color: var(--sklearn-color-fitted-level-2);\n",
              "}\n",
              "\n",
              "/* Specification for estimator info (e.g. \"i\" and \"?\") */\n",
              "\n",
              "/* Common style for \"i\" and \"?\" */\n",
              "\n",
              ".sk-estimator-doc-link,\n",
              "a:link.sk-estimator-doc-link,\n",
              "a:visited.sk-estimator-doc-link {\n",
              "  float: right;\n",
              "  font-size: smaller;\n",
              "  line-height: 1em;\n",
              "  font-family: monospace;\n",
              "  background-color: var(--sklearn-color-background);\n",
              "  border-radius: 1em;\n",
              "  height: 1em;\n",
              "  width: 1em;\n",
              "  text-decoration: none !important;\n",
              "  margin-left: 0.5em;\n",
              "  text-align: center;\n",
              "  /* unfitted */\n",
              "  border: var(--sklearn-color-unfitted-level-1) 1pt solid;\n",
              "  color: var(--sklearn-color-unfitted-level-1);\n",
              "}\n",
              "\n",
              ".sk-estimator-doc-link.fitted,\n",
              "a:link.sk-estimator-doc-link.fitted,\n",
              "a:visited.sk-estimator-doc-link.fitted {\n",
              "  /* fitted */\n",
              "  border: var(--sklearn-color-fitted-level-1) 1pt solid;\n",
              "  color: var(--sklearn-color-fitted-level-1);\n",
              "}\n",
              "\n",
              "/* On hover */\n",
              "div.sk-estimator:hover .sk-estimator-doc-link:hover,\n",
              ".sk-estimator-doc-link:hover,\n",
              "div.sk-label-container:hover .sk-estimator-doc-link:hover,\n",
              ".sk-estimator-doc-link:hover {\n",
              "  /* unfitted */\n",
              "  background-color: var(--sklearn-color-unfitted-level-3);\n",
              "  color: var(--sklearn-color-background);\n",
              "  text-decoration: none;\n",
              "}\n",
              "\n",
              "div.sk-estimator.fitted:hover .sk-estimator-doc-link.fitted:hover,\n",
              ".sk-estimator-doc-link.fitted:hover,\n",
              "div.sk-label-container:hover .sk-estimator-doc-link.fitted:hover,\n",
              ".sk-estimator-doc-link.fitted:hover {\n",
              "  /* fitted */\n",
              "  background-color: var(--sklearn-color-fitted-level-3);\n",
              "  color: var(--sklearn-color-background);\n",
              "  text-decoration: none;\n",
              "}\n",
              "\n",
              "/* Span, style for the box shown on hovering the info icon */\n",
              ".sk-estimator-doc-link span {\n",
              "  display: none;\n",
              "  z-index: 9999;\n",
              "  position: relative;\n",
              "  font-weight: normal;\n",
              "  right: .2ex;\n",
              "  padding: .5ex;\n",
              "  margin: .5ex;\n",
              "  width: min-content;\n",
              "  min-width: 20ex;\n",
              "  max-width: 50ex;\n",
              "  color: var(--sklearn-color-text);\n",
              "  box-shadow: 2pt 2pt 4pt #999;\n",
              "  /* unfitted */\n",
              "  background: var(--sklearn-color-unfitted-level-0);\n",
              "  border: .5pt solid var(--sklearn-color-unfitted-level-3);\n",
              "}\n",
              "\n",
              ".sk-estimator-doc-link.fitted span {\n",
              "  /* fitted */\n",
              "  background: var(--sklearn-color-fitted-level-0);\n",
              "  border: var(--sklearn-color-fitted-level-3);\n",
              "}\n",
              "\n",
              ".sk-estimator-doc-link:hover span {\n",
              "  display: block;\n",
              "}\n",
              "\n",
              "/* \"?\"-specific style due to the `<a>` HTML tag */\n",
              "\n",
              "#sk-container-id-2 a.estimator_doc_link {\n",
              "  float: right;\n",
              "  font-size: 1rem;\n",
              "  line-height: 1em;\n",
              "  font-family: monospace;\n",
              "  background-color: var(--sklearn-color-background);\n",
              "  border-radius: 1rem;\n",
              "  height: 1rem;\n",
              "  width: 1rem;\n",
              "  text-decoration: none;\n",
              "  /* unfitted */\n",
              "  color: var(--sklearn-color-unfitted-level-1);\n",
              "  border: var(--sklearn-color-unfitted-level-1) 1pt solid;\n",
              "}\n",
              "\n",
              "#sk-container-id-2 a.estimator_doc_link.fitted {\n",
              "  /* fitted */\n",
              "  border: var(--sklearn-color-fitted-level-1) 1pt solid;\n",
              "  color: var(--sklearn-color-fitted-level-1);\n",
              "}\n",
              "\n",
              "/* On hover */\n",
              "#sk-container-id-2 a.estimator_doc_link:hover {\n",
              "  /* unfitted */\n",
              "  background-color: var(--sklearn-color-unfitted-level-3);\n",
              "  color: var(--sklearn-color-background);\n",
              "  text-decoration: none;\n",
              "}\n",
              "\n",
              "#sk-container-id-2 a.estimator_doc_link.fitted:hover {\n",
              "  /* fitted */\n",
              "  background-color: var(--sklearn-color-fitted-level-3);\n",
              "}\n",
              "\n",
              ".estimator-table summary {\n",
              "    padding: .5rem;\n",
              "    font-family: monospace;\n",
              "    cursor: pointer;\n",
              "}\n",
              "\n",
              ".estimator-table details[open] {\n",
              "    padding-left: 0.1rem;\n",
              "    padding-right: 0.1rem;\n",
              "    padding-bottom: 0.3rem;\n",
              "}\n",
              "\n",
              ".estimator-table .parameters-table {\n",
              "    margin-left: auto !important;\n",
              "    margin-right: auto !important;\n",
              "}\n",
              "\n",
              ".estimator-table .parameters-table tr:nth-child(odd) {\n",
              "    background-color: #fff;\n",
              "}\n",
              "\n",
              ".estimator-table .parameters-table tr:nth-child(even) {\n",
              "    background-color: #f6f6f6;\n",
              "}\n",
              "\n",
              ".estimator-table .parameters-table tr:hover {\n",
              "    background-color: #e0e0e0;\n",
              "}\n",
              "\n",
              ".estimator-table table td {\n",
              "    border: 1px solid rgba(106, 105, 104, 0.232);\n",
              "}\n",
              "\n",
              ".user-set td {\n",
              "    color:rgb(255, 94, 0);\n",
              "    text-align: left;\n",
              "}\n",
              "\n",
              ".user-set td.value pre {\n",
              "    color:rgb(255, 94, 0) !important;\n",
              "    background-color: transparent !important;\n",
              "}\n",
              "\n",
              ".default td {\n",
              "    color: black;\n",
              "    text-align: left;\n",
              "}\n",
              "\n",
              ".user-set td i,\n",
              ".default td i {\n",
              "    color: black;\n",
              "}\n",
              "\n",
              ".copy-paste-icon {\n",
              "    background-image: url(data:image/svg+xml;base64,PHN2ZyB4bWxucz0iaHR0cDovL3d3dy53My5vcmcvMjAwMC9zdmciIHZpZXdCb3g9IjAgMCA0NDggNTEyIj48IS0tIUZvbnQgQXdlc29tZSBGcmVlIDYuNy4yIGJ5IEBmb250YXdlc29tZSAtIGh0dHBzOi8vZm9udGF3ZXNvbWUuY29tIExpY2Vuc2UgLSBodHRwczovL2ZvbnRhd2Vzb21lLmNvbS9saWNlbnNlL2ZyZWUgQ29weXJpZ2h0IDIwMjUgRm9udGljb25zLCBJbmMuLS0+PHBhdGggZD0iTTIwOCAwTDMzMi4xIDBjMTIuNyAwIDI0LjkgNS4xIDMzLjkgMTQuMWw2Ny45IDY3LjljOSA5IDE0LjEgMjEuMiAxNC4xIDMzLjlMNDQ4IDMzNmMwIDI2LjUtMjEuNSA0OC00OCA0OGwtMTkyIDBjLTI2LjUgMC00OC0yMS41LTQ4LTQ4bDAtMjg4YzAtMjYuNSAyMS41LTQ4IDQ4LTQ4ek00OCAxMjhsODAgMCAwIDY0LTY0IDAgMCAyNTYgMTkyIDAgMC0zMiA2NCAwIDAgNDhjMCAyNi41LTIxLjUgNDgtNDggNDhMNDggNTEyYy0yNi41IDAtNDgtMjEuNS00OC00OEwwIDE3NmMwLTI2LjUgMjEuNS00OCA0OC00OHoiLz48L3N2Zz4=);\n",
              "    background-repeat: no-repeat;\n",
              "    background-size: 14px 14px;\n",
              "    background-position: 0;\n",
              "    display: inline-block;\n",
              "    width: 14px;\n",
              "    height: 14px;\n",
              "    cursor: pointer;\n",
              "}\n",
              "</style><body><div id=\"sk-container-id-2\" class=\"sk-top-container\"><div class=\"sk-text-repr-fallback\"><pre>RandomForestClassifier(class_weight=&#x27;balanced&#x27;, min_samples_split=5,\n",
              "                       n_estimators=300, n_jobs=-1, random_state=11037)</pre><b>In a Jupyter environment, please rerun this cell to show the HTML representation or trust the notebook. <br />On GitHub, the HTML representation is unable to render, please try loading this page with nbviewer.org.</b></div><div class=\"sk-container\" hidden><div class=\"sk-item\"><div class=\"sk-estimator fitted sk-toggleable\"><input class=\"sk-toggleable__control sk-hidden--visually\" id=\"sk-estimator-id-4\" type=\"checkbox\" checked><label for=\"sk-estimator-id-4\" class=\"sk-toggleable__label fitted sk-toggleable__label-arrow\"><div><div>RandomForestClassifier</div></div><div><a class=\"sk-estimator-doc-link fitted\" rel=\"noreferrer\" target=\"_blank\" href=\"https://scikit-learn.org/1.7/modules/generated/sklearn.ensemble.RandomForestClassifier.html\">?<span>Documentation for RandomForestClassifier</span></a><span class=\"sk-estimator-doc-link fitted\">i<span>Fitted</span></span></div></label><div class=\"sk-toggleable__content fitted\" data-param-prefix=\"\">\n",
              "        <div class=\"estimator-table\">\n",
              "            <details>\n",
              "                <summary>Parameters</summary>\n",
              "                <table class=\"parameters-table\">\n",
              "                  <tbody>\n",
              "                    \n",
              "        <tr class=\"user-set\">\n",
              "            <td><i class=\"copy-paste-icon\"\n",
              "                 onclick=\"copyToClipboard('n_estimators',\n",
              "                          this.parentElement.nextElementSibling)\"\n",
              "            ></i></td>\n",
              "            <td class=\"param\">n_estimators&nbsp;</td>\n",
              "            <td class=\"value\">300</td>\n",
              "        </tr>\n",
              "    \n",
              "\n",
              "        <tr class=\"default\">\n",
              "            <td><i class=\"copy-paste-icon\"\n",
              "                 onclick=\"copyToClipboard('criterion',\n",
              "                          this.parentElement.nextElementSibling)\"\n",
              "            ></i></td>\n",
              "            <td class=\"param\">criterion&nbsp;</td>\n",
              "            <td class=\"value\">&#x27;gini&#x27;</td>\n",
              "        </tr>\n",
              "    \n",
              "\n",
              "        <tr class=\"default\">\n",
              "            <td><i class=\"copy-paste-icon\"\n",
              "                 onclick=\"copyToClipboard('max_depth',\n",
              "                          this.parentElement.nextElementSibling)\"\n",
              "            ></i></td>\n",
              "            <td class=\"param\">max_depth&nbsp;</td>\n",
              "            <td class=\"value\">None</td>\n",
              "        </tr>\n",
              "    \n",
              "\n",
              "        <tr class=\"user-set\">\n",
              "            <td><i class=\"copy-paste-icon\"\n",
              "                 onclick=\"copyToClipboard('min_samples_split',\n",
              "                          this.parentElement.nextElementSibling)\"\n",
              "            ></i></td>\n",
              "            <td class=\"param\">min_samples_split&nbsp;</td>\n",
              "            <td class=\"value\">5</td>\n",
              "        </tr>\n",
              "    \n",
              "\n",
              "        <tr class=\"default\">\n",
              "            <td><i class=\"copy-paste-icon\"\n",
              "                 onclick=\"copyToClipboard('min_samples_leaf',\n",
              "                          this.parentElement.nextElementSibling)\"\n",
              "            ></i></td>\n",
              "            <td class=\"param\">min_samples_leaf&nbsp;</td>\n",
              "            <td class=\"value\">1</td>\n",
              "        </tr>\n",
              "    \n",
              "\n",
              "        <tr class=\"default\">\n",
              "            <td><i class=\"copy-paste-icon\"\n",
              "                 onclick=\"copyToClipboard('min_weight_fraction_leaf',\n",
              "                          this.parentElement.nextElementSibling)\"\n",
              "            ></i></td>\n",
              "            <td class=\"param\">min_weight_fraction_leaf&nbsp;</td>\n",
              "            <td class=\"value\">0.0</td>\n",
              "        </tr>\n",
              "    \n",
              "\n",
              "        <tr class=\"default\">\n",
              "            <td><i class=\"copy-paste-icon\"\n",
              "                 onclick=\"copyToClipboard('max_features',\n",
              "                          this.parentElement.nextElementSibling)\"\n",
              "            ></i></td>\n",
              "            <td class=\"param\">max_features&nbsp;</td>\n",
              "            <td class=\"value\">&#x27;sqrt&#x27;</td>\n",
              "        </tr>\n",
              "    \n",
              "\n",
              "        <tr class=\"default\">\n",
              "            <td><i class=\"copy-paste-icon\"\n",
              "                 onclick=\"copyToClipboard('max_leaf_nodes',\n",
              "                          this.parentElement.nextElementSibling)\"\n",
              "            ></i></td>\n",
              "            <td class=\"param\">max_leaf_nodes&nbsp;</td>\n",
              "            <td class=\"value\">None</td>\n",
              "        </tr>\n",
              "    \n",
              "\n",
              "        <tr class=\"default\">\n",
              "            <td><i class=\"copy-paste-icon\"\n",
              "                 onclick=\"copyToClipboard('min_impurity_decrease',\n",
              "                          this.parentElement.nextElementSibling)\"\n",
              "            ></i></td>\n",
              "            <td class=\"param\">min_impurity_decrease&nbsp;</td>\n",
              "            <td class=\"value\">0.0</td>\n",
              "        </tr>\n",
              "    \n",
              "\n",
              "        <tr class=\"default\">\n",
              "            <td><i class=\"copy-paste-icon\"\n",
              "                 onclick=\"copyToClipboard('bootstrap',\n",
              "                          this.parentElement.nextElementSibling)\"\n",
              "            ></i></td>\n",
              "            <td class=\"param\">bootstrap&nbsp;</td>\n",
              "            <td class=\"value\">True</td>\n",
              "        </tr>\n",
              "    \n",
              "\n",
              "        <tr class=\"default\">\n",
              "            <td><i class=\"copy-paste-icon\"\n",
              "                 onclick=\"copyToClipboard('oob_score',\n",
              "                          this.parentElement.nextElementSibling)\"\n",
              "            ></i></td>\n",
              "            <td class=\"param\">oob_score&nbsp;</td>\n",
              "            <td class=\"value\">False</td>\n",
              "        </tr>\n",
              "    \n",
              "\n",
              "        <tr class=\"user-set\">\n",
              "            <td><i class=\"copy-paste-icon\"\n",
              "                 onclick=\"copyToClipboard('n_jobs',\n",
              "                          this.parentElement.nextElementSibling)\"\n",
              "            ></i></td>\n",
              "            <td class=\"param\">n_jobs&nbsp;</td>\n",
              "            <td class=\"value\">-1</td>\n",
              "        </tr>\n",
              "    \n",
              "\n",
              "        <tr class=\"user-set\">\n",
              "            <td><i class=\"copy-paste-icon\"\n",
              "                 onclick=\"copyToClipboard('random_state',\n",
              "                          this.parentElement.nextElementSibling)\"\n",
              "            ></i></td>\n",
              "            <td class=\"param\">random_state&nbsp;</td>\n",
              "            <td class=\"value\">11037</td>\n",
              "        </tr>\n",
              "    \n",
              "\n",
              "        <tr class=\"default\">\n",
              "            <td><i class=\"copy-paste-icon\"\n",
              "                 onclick=\"copyToClipboard('verbose',\n",
              "                          this.parentElement.nextElementSibling)\"\n",
              "            ></i></td>\n",
              "            <td class=\"param\">verbose&nbsp;</td>\n",
              "            <td class=\"value\">0</td>\n",
              "        </tr>\n",
              "    \n",
              "\n",
              "        <tr class=\"default\">\n",
              "            <td><i class=\"copy-paste-icon\"\n",
              "                 onclick=\"copyToClipboard('warm_start',\n",
              "                          this.parentElement.nextElementSibling)\"\n",
              "            ></i></td>\n",
              "            <td class=\"param\">warm_start&nbsp;</td>\n",
              "            <td class=\"value\">False</td>\n",
              "        </tr>\n",
              "    \n",
              "\n",
              "        <tr class=\"user-set\">\n",
              "            <td><i class=\"copy-paste-icon\"\n",
              "                 onclick=\"copyToClipboard('class_weight',\n",
              "                          this.parentElement.nextElementSibling)\"\n",
              "            ></i></td>\n",
              "            <td class=\"param\">class_weight&nbsp;</td>\n",
              "            <td class=\"value\">&#x27;balanced&#x27;</td>\n",
              "        </tr>\n",
              "    \n",
              "\n",
              "        <tr class=\"default\">\n",
              "            <td><i class=\"copy-paste-icon\"\n",
              "                 onclick=\"copyToClipboard('ccp_alpha',\n",
              "                          this.parentElement.nextElementSibling)\"\n",
              "            ></i></td>\n",
              "            <td class=\"param\">ccp_alpha&nbsp;</td>\n",
              "            <td class=\"value\">0.0</td>\n",
              "        </tr>\n",
              "    \n",
              "\n",
              "        <tr class=\"default\">\n",
              "            <td><i class=\"copy-paste-icon\"\n",
              "                 onclick=\"copyToClipboard('max_samples',\n",
              "                          this.parentElement.nextElementSibling)\"\n",
              "            ></i></td>\n",
              "            <td class=\"param\">max_samples&nbsp;</td>\n",
              "            <td class=\"value\">None</td>\n",
              "        </tr>\n",
              "    \n",
              "\n",
              "        <tr class=\"default\">\n",
              "            <td><i class=\"copy-paste-icon\"\n",
              "                 onclick=\"copyToClipboard('monotonic_cst',\n",
              "                          this.parentElement.nextElementSibling)\"\n",
              "            ></i></td>\n",
              "            <td class=\"param\">monotonic_cst&nbsp;</td>\n",
              "            <td class=\"value\">None</td>\n",
              "        </tr>\n",
              "    \n",
              "                  </tbody>\n",
              "                </table>\n",
              "            </details>\n",
              "        </div>\n",
              "    </div></div></div></div></div><script>function copyToClipboard(text, element) {\n",
              "    // Get the parameter prefix from the closest toggleable content\n",
              "    const toggleableContent = element.closest('.sk-toggleable__content');\n",
              "    const paramPrefix = toggleableContent ? toggleableContent.dataset.paramPrefix : '';\n",
              "    const fullParamName = paramPrefix ? `${paramPrefix}${text}` : text;\n",
              "\n",
              "    const originalStyle = element.style;\n",
              "    const computedStyle = window.getComputedStyle(element);\n",
              "    const originalWidth = computedStyle.width;\n",
              "    const originalHTML = element.innerHTML.replace('Copied!', '');\n",
              "\n",
              "    navigator.clipboard.writeText(fullParamName)\n",
              "        .then(() => {\n",
              "            element.style.width = originalWidth;\n",
              "            element.style.color = 'green';\n",
              "            element.innerHTML = \"Copied!\";\n",
              "\n",
              "            setTimeout(() => {\n",
              "                element.innerHTML = originalHTML;\n",
              "                element.style = originalStyle;\n",
              "            }, 2000);\n",
              "        })\n",
              "        .catch(err => {\n",
              "            console.error('Failed to copy:', err);\n",
              "            element.style.color = 'red';\n",
              "            element.innerHTML = \"Failed!\";\n",
              "            setTimeout(() => {\n",
              "                element.innerHTML = originalHTML;\n",
              "                element.style = originalStyle;\n",
              "            }, 2000);\n",
              "        });\n",
              "    return false;\n",
              "}\n",
              "\n",
              "document.querySelectorAll('.fa-regular.fa-copy').forEach(function(element) {\n",
              "    const toggleableContent = element.closest('.sk-toggleable__content');\n",
              "    const paramPrefix = toggleableContent ? toggleableContent.dataset.paramPrefix : '';\n",
              "    const paramName = element.parentElement.nextElementSibling.textContent.trim();\n",
              "    const fullParamName = paramPrefix ? `${paramPrefix}${paramName}` : paramName;\n",
              "\n",
              "    element.setAttribute('title', fullParamName);\n",
              "});\n",
              "</script></body>"
            ],
            "text/plain": [
              "RandomForestClassifier(class_weight='balanced', min_samples_split=5,\n",
              "                       n_estimators=300, n_jobs=-1, random_state=11037)"
            ]
          },
          "execution_count": 49,
          "metadata": {},
          "output_type": "execute_result"
        }
      ],
      "source": [
        "# train the model on the training data\n",
        "final_rf_model.fit(X_train,y_train)"
      ]
    },
    {
      "cell_type": "code",
      "execution_count": null,
      "metadata": {},
      "outputs": [],
      "source": [
        "from sklearn.metrics import RocCurveDisplay\n",
        "import matplotlib.pyplot as plt"
      ]
    },
    {
      "cell_type": "code",
      "execution_count": null,
      "metadata": {},
      "outputs": [
        {
          "data": {
            "image/png": "[encoded data removed]",
            "text/plain": [
              "<Figure size 640x480 with 1 Axes>"
            ]
          },
          "metadata": {},
          "output_type": "display_data"
        }
      ],
      "source": [
        "RocCurveDisplay.from_estimator(final_rf_model, X_test, y_test)\n",
        "plt.show()"
      ]
    },
    {
      "cell_type": "code",
      "execution_count": null,
      "metadata": {},
      "outputs": [],
      "source": [
        "from sklearn.metrics import confusion_matrix"
      ]
    },
    {
      "cell_type": "code",
      "execution_count": null,
      "metadata": {},
      "outputs": [
        {
          "name": "stdout",
          "output_type": "stream",
          "text": [
            "[[56648     3]\n",
            " [   20    75]]\n"
          ]
        }
      ],
      "source": [
        "y_pred = final_rf_model.predict(X_test)\n",
        "final_model_cm = confusion_matrix(y_test,y_pred)\n",
        "print(final_model_cm)"
      ]
    },
    {
      "cell_type": "code",
      "execution_count": null,
      "metadata": {},
      "outputs": [],
      "source": [
        "from sklearn.metrics import check_scoring"
      ]
    },
    {
      "cell_type": "code",
      "execution_count": null,
      "metadata": {},
      "outputs": [],
      "source": [
        "scoring_call = check_scoring(estimator=final_rf_model, scoring=scoring, raise_exc=False)\n",
        "scores = scoring_call(final_rf_model, X_test, y_test)"
      ]
    },
    {
      "cell_type": "code",
      "execution_count": null,
      "metadata": {},
      "outputs": [
        {
          "name": "stdout",
          "output_type": "stream",
          "text": [
            "{'accuracy': 0.9995946850879357, 'precision': 0.9615384615384616, 'recall': 0.7894736842105263, 'f1': 0.8670520231213873, 'roc_auc': 0.9650146929166484, 'pr_auc': 0.8563651720144805, 'balanced_accuracy': 0.8947103641966649}\n"
          ]
        }
      ],
      "source": [
        "print(scores)"
      ]
    },
    {
      "cell_type": "markdown",
      "metadata": {},
      "source": [
        "### finally, saving the final model using joblib"
      ]
    },
    {
      "cell_type": "code",
      "execution_count": null,
      "metadata": {},
      "outputs": [
        {
          "data": {
            "text/plain": [
              "WindowsPath('e:/Programacao/LAPES/EDA_ML_DL_PS/LAPES-Data-Challenge-Predictive-Analytics-System/notebooks')"
            ]
          },
          "execution_count": 57,
          "metadata": {},
          "output_type": "execute_result"
        }
      ],
      "source": [
        "Path.cwd()"
      ]
    },
    {
      "cell_type": "code",
      "execution_count": null,
      "metadata": {},
      "outputs": [
        {
          "name": "stdout",
          "output_type": "stream",
          "text": [
            "model succesfully saved in e:\\Programacao\\LAPES\\EDA_ML_DL_PS\\LAPES-Data-Challenge-Predictive-Analytics-System\\models\\final_rf_model.pkl\n"
          ]
        }
      ],
      "source": [
        "import joblib\n",
        "file_path = Path.cwd().parent / 'models' / 'final_rf_model.pkl'\n",
        "joblib.dump(final_rf_model, file_path)\n",
        "\n",
        "print('model succesfully saved in', file_path)"
      ]
    }
  ],
  "metadata": {
    "colab": {
      "provenance": []
    },
    "kernelspec": {
      "display_name": "LAPES-Data-Challenge-Predictive-Analytics-System",
      "language": "python",
      "name": "python3"
    },
    "language_info": {
      "codemirror_mode": {
        "name": "ipython",
        "version": 3
      },
      "file_extension": ".py",
      "mimetype": "text/x-python",
      "name": "python",
      "nbconvert_exporter": "python",
      "pygments_lexer": "ipython3",
      "version": "3.12.1"
    }
  },
  "nbformat": 4,
  "nbformat_minor": 0
}
